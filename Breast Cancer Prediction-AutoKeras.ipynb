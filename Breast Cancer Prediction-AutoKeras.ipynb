{
 "cells": [
  {
   "cell_type": "markdown",
   "metadata": {
    "nbpresent": {
     "id": "42b5e80b-ad1d-4335-a1f7-10a91127e3dc"
    }
   },
   "source": [
    "# Breast Cancer Prediction \n",
    "\n",
    "---\n",
    "\n",
    "---\n",
    "\n",
    "## Contents\n",
    "\n",
    "1. [Background](#Background)\n",
    "1. [Setup](#Setup)\n",
    "1. [Data](#Data)\n",
    "1. [Train](#Train)\n",
    "\n",
    "---\n",
    "\n",
    "## Background\n",
    "For this illustration, we have taken an example for breast cancer prediction using UCI'S breast cancer diagnostic data set available at https://archive.ics.uci.edu/ml/datasets/Breast+Cancer+Wisconsin+%28Diagnostic%29. The data set is also available on Kaggle at https://www.kaggle.com/uciml/breast-cancer-wisconsin-data. The purpose here is to use this data set to build a predictve model of whether a breast mass image indicates benign or malignant tumor. \n",
    "\n",
    "---\n",
    "\n",
    "## Setup"
   ]
  },
  {
   "cell_type": "markdown",
   "metadata": {
    "nbpresent": {
     "id": "b2548d66-6f8f-426f-9cda-7a3cd1459abd"
    }
   },
   "source": [
    "Now we'll import the Python libraries we'll need."
   ]
  },
  {
   "cell_type": "code",
   "execution_count": 7,
   "metadata": {},
   "outputs": [
    {
     "name": "stdout",
     "output_type": "stream",
     "text": [
      "Requirement already satisfied: tensorflow in /home/ec2-user/.local/lib/python3.6/site-packages (2.1.0)\n",
      "Requirement already satisfied: wheel>=0.26; python_version >= \"3\" in /usr/lib/python3.6/dist-packages (from tensorflow) (0.32.3)\n",
      "Requirement already satisfied: keras-applications>=1.0.8 in /home/ec2-user/.local/lib/python3.6/site-packages (from tensorflow) (1.0.8)\n",
      "Requirement already satisfied: wrapt>=1.11.1 in /usr/lib64/python3.6/dist-packages (from tensorflow) (1.11.2)\n",
      "Requirement already satisfied: tensorboard<2.2.0,>=2.1.0 in /home/ec2-user/.local/lib/python3.6/site-packages (from tensorflow) (2.1.0)\n",
      "Requirement already satisfied: gast==0.2.2 in /home/ec2-user/.local/lib/python3.6/site-packages (from tensorflow) (0.2.2)\n",
      "Requirement already satisfied: grpcio>=1.8.6 in /home/ec2-user/.local/lib/python3.6/site-packages (from tensorflow) (1.27.1)\n",
      "Requirement already satisfied: protobuf>=3.8.0 in /usr/lib64/python3.6/dist-packages (from tensorflow) (3.10.0)\n",
      "Requirement already satisfied: termcolor>=1.1.0 in /home/ec2-user/.local/lib/python3.6/site-packages (from tensorflow) (1.1.0)\n",
      "Requirement already satisfied: six>=1.12.0 in /usr/lib/python3.6/dist-packages (from tensorflow) (1.13.0)\n",
      "Requirement already satisfied: numpy<2.0,>=1.16.0 in /usr/lib64/python3.6/dist-packages (from tensorflow) (1.17.4)\n",
      "Requirement already satisfied: scipy==1.4.1; python_version >= \"3\" in /home/ec2-user/.local/lib/python3.6/site-packages (from tensorflow) (1.4.1)\n",
      "Requirement already satisfied: opt-einsum>=2.3.2 in /home/ec2-user/.local/lib/python3.6/site-packages (from tensorflow) (3.1.0)\n",
      "Requirement already satisfied: tensorflow-estimator<2.2.0,>=2.1.0rc0 in /home/ec2-user/.local/lib/python3.6/site-packages (from tensorflow) (2.1.0)\n",
      "Requirement already satisfied: google-pasta>=0.1.6 in /home/ec2-user/.local/lib/python3.6/site-packages (from tensorflow) (0.1.8)\n",
      "Requirement already satisfied: absl-py>=0.7.0 in /home/ec2-user/.local/lib/python3.6/site-packages (from tensorflow) (0.9.0)\n",
      "Requirement already satisfied: keras-preprocessing>=1.1.0 in /home/ec2-user/.local/lib/python3.6/site-packages (from tensorflow) (1.1.0)\n",
      "Requirement already satisfied: astor>=0.6.0 in /home/ec2-user/.local/lib/python3.6/site-packages (from tensorflow) (0.8.1)\n",
      "Requirement already satisfied: h5py in /home/ec2-user/.local/lib/python3.6/site-packages (from keras-applications>=1.0.8->tensorflow) (2.10.0)\n",
      "Requirement already satisfied: markdown>=2.6.8 in /home/ec2-user/.local/lib/python3.6/site-packages (from tensorboard<2.2.0,>=2.1.0->tensorflow) (3.2)\n",
      "Requirement already satisfied: werkzeug>=0.11.15 in /home/ec2-user/.local/lib/python3.6/site-packages (from tensorboard<2.2.0,>=2.1.0->tensorflow) (1.0.0)\n",
      "Requirement already satisfied: requests<3,>=2.21.0 in /home/ec2-user/.local/lib/python3.6/site-packages (from tensorboard<2.2.0,>=2.1.0->tensorflow) (2.22.0)\n",
      "Requirement already satisfied: google-auth-oauthlib<0.5,>=0.4.1 in /home/ec2-user/.local/lib/python3.6/site-packages (from tensorboard<2.2.0,>=2.1.0->tensorflow) (0.4.1)\n",
      "Requirement already satisfied: setuptools>=41.0.0 in /usr/lib/python3.6/dist-packages (from tensorboard<2.2.0,>=2.1.0->tensorflow) (41.6.0)\n",
      "Requirement already satisfied: google-auth<2,>=1.6.3 in /home/ec2-user/.local/lib/python3.6/site-packages (from tensorboard<2.2.0,>=2.1.0->tensorflow) (1.11.0)\n",
      "Requirement already satisfied: idna<2.9,>=2.5 in /usr/lib/python3.6/dist-packages (from requests<3,>=2.21.0->tensorboard<2.2.0,>=2.1.0->tensorflow) (2.7)\n",
      "Requirement already satisfied: certifi>=2017.4.17 in /usr/lib/python3.6/dist-packages (from requests<3,>=2.21.0->tensorboard<2.2.0,>=2.1.0->tensorflow) (2019.9.11)\n",
      "Requirement already satisfied: chardet<3.1.0,>=3.0.2 in /usr/lib/python3.6/dist-packages (from requests<3,>=2.21.0->tensorboard<2.2.0,>=2.1.0->tensorflow) (3.0.4)\n",
      "Requirement already satisfied: urllib3!=1.25.0,!=1.25.1,<1.26,>=1.21.1 in /usr/lib/python3.6/dist-packages (from requests<3,>=2.21.0->tensorboard<2.2.0,>=2.1.0->tensorflow) (1.24.3)\n",
      "Requirement already satisfied: requests-oauthlib>=0.7.0 in /home/ec2-user/.local/lib/python3.6/site-packages (from google-auth-oauthlib<0.5,>=0.4.1->tensorboard<2.2.0,>=2.1.0->tensorflow) (1.3.0)\n",
      "Requirement already satisfied: cachetools<5.0,>=2.0.0 in /home/ec2-user/.local/lib/python3.6/site-packages (from google-auth<2,>=1.6.3->tensorboard<2.2.0,>=2.1.0->tensorflow) (4.0.0)\n",
      "Requirement already satisfied: rsa<4.1,>=3.1.4 in /usr/lib/python3.6/dist-packages (from google-auth<2,>=1.6.3->tensorboard<2.2.0,>=2.1.0->tensorflow) (3.4.2)\n",
      "Requirement already satisfied: pyasn1-modules>=0.2.1 in /home/ec2-user/.local/lib/python3.6/site-packages (from google-auth<2,>=1.6.3->tensorboard<2.2.0,>=2.1.0->tensorflow) (0.2.8)\n",
      "Requirement already satisfied: oauthlib>=3.0.0 in /home/ec2-user/.local/lib/python3.6/site-packages (from requests-oauthlib>=0.7.0->google-auth-oauthlib<0.5,>=0.4.1->tensorboard<2.2.0,>=2.1.0->tensorflow) (3.1.0)\n",
      "Requirement already satisfied: pyasn1>=0.1.3 in /usr/lib/python3.6/dist-packages (from rsa<4.1,>=3.1.4->google-auth<2,>=1.6.3->tensorboard<2.2.0,>=2.1.0->tensorflow) (0.4.8)\n",
      "You are using pip version 19.0.2, however version 20.0.2 is available.\n",
      "You should consider upgrading via the 'pip install --upgrade pip' command.\n",
      "Requirement already satisfied: autokeras in /home/ec2-user/.local/lib/python3.6/site-packages (1.0.1)\n",
      "Requirement already satisfied: scikit-learn in /usr/lib64/python3.6/dist-packages (from autokeras) (0.20.2)\n",
      "Requirement already satisfied: numpy in /usr/lib64/python3.6/dist-packages (from autokeras) (1.17.4)\n",
      "Requirement already satisfied: keras-tuner>=1.0.1 in /home/ec2-user/.local/lib/python3.6/site-packages (from autokeras) (1.0.1)\n",
      "Requirement already satisfied: pandas in /usr/lib64/python3.6/dist-packages (from autokeras) (0.24.2)\n",
      "Requirement already satisfied: packaging in /usr/lib/python3.6/dist-packages (from autokeras) (19.2)\n",
      "Requirement already satisfied: scipy>=0.13.3 in /home/ec2-user/.local/lib/python3.6/site-packages (from scikit-learn->autokeras) (1.4.1)\n",
      "Requirement already satisfied: terminaltables in /home/ec2-user/.local/lib/python3.6/site-packages (from keras-tuner>=1.0.1->autokeras) (3.1.0)\n",
      "Requirement already satisfied: tabulate in /home/ec2-user/.local/lib/python3.6/site-packages (from keras-tuner>=1.0.1->autokeras) (0.8.6)\n",
      "Requirement already satisfied: colorama in /usr/lib/python3.6/dist-packages (from keras-tuner>=1.0.1->autokeras) (0.3.9)\n",
      "Requirement already satisfied: requests in /home/ec2-user/.local/lib/python3.6/site-packages (from keras-tuner>=1.0.1->autokeras) (2.22.0)\n",
      "Requirement already satisfied: tqdm in /home/ec2-user/.local/lib/python3.6/site-packages (from keras-tuner>=1.0.1->autokeras) (4.42.1)\n",
      "Requirement already satisfied: future in /usr/lib/python3.6/dist-packages (from keras-tuner>=1.0.1->autokeras) (0.17.1)\n",
      "Requirement already satisfied: pytz>=2011k in /usr/lib/python3.6/dist-packages (from pandas->autokeras) (2019.3)\n",
      "Requirement already satisfied: python-dateutil>=2.5.0 in /usr/lib/python3.6/dist-packages (from pandas->autokeras) (2.8.1)\n",
      "Requirement already satisfied: six in /usr/lib/python3.6/dist-packages (from packaging->autokeras) (1.13.0)\n",
      "Requirement already satisfied: pyparsing>=2.0.2 in /usr/lib/python3.6/dist-packages (from packaging->autokeras) (2.4.5)\n",
      "Requirement already satisfied: chardet<3.1.0,>=3.0.2 in /usr/lib/python3.6/dist-packages (from requests->keras-tuner>=1.0.1->autokeras) (3.0.4)\n",
      "Requirement already satisfied: certifi>=2017.4.17 in /usr/lib/python3.6/dist-packages (from requests->keras-tuner>=1.0.1->autokeras) (2019.9.11)\n",
      "Requirement already satisfied: idna<2.9,>=2.5 in /usr/lib/python3.6/dist-packages (from requests->keras-tuner>=1.0.1->autokeras) (2.7)\n",
      "Requirement already satisfied: urllib3!=1.25.0,!=1.25.1,<1.26,>=1.21.1 in /usr/lib/python3.6/dist-packages (from requests->keras-tuner>=1.0.1->autokeras) (1.24.3)\n",
      "You are using pip version 19.0.2, however version 20.0.2 is available.\n",
      "You should consider upgrading via the 'pip install --upgrade pip' command.\n",
      "Collecting protobuf==3.8.0\n",
      "\u001b[?25l  Downloading https://files.pythonhosted.org/packages/d2/fb/29de8d08967f0cce1bb10b39846d836b0f3bf6776ddc36aed7c73498ca7e/protobuf-3.8.0-cp36-cp36m-manylinux1_x86_64.whl (1.2MB)\n",
      "    100% |████████████████████████████████| 1.2MB 19.4MB/s ta 0:00:01\n",
      "\u001b[?25hRequirement already satisfied: setuptools in /usr/lib/python3.6/dist-packages (from protobuf==3.8.0) (41.6.0)\n",
      "Requirement already satisfied: six>=1.9 in /usr/lib/python3.6/dist-packages (from protobuf==3.8.0) (1.13.0)\n",
      "coremltools 2.0 has requirement six==1.10.0, but you'll have six 1.13.0 which is incompatible.\n",
      "Installing collected packages: protobuf\n",
      "Successfully installed protobuf-3.8.0\n",
      "You are using pip version 19.0.2, however version 20.0.2 is available.\n",
      "You should consider upgrading via the 'pip install --upgrade pip' command.\n"
     ]
    }
   ],
   "source": [
    "!pip3 install tensorflow --user\n",
    "!pip3 install autokeras --user\n",
    "!pip3 install protobuf==3.8.0 --user"
   ]
  },
  {
   "cell_type": "code",
   "execution_count": 1,
   "metadata": {
    "nbpresent": {
     "id": "bb88eea9-27f3-4e47-9133-663911ea09a9"
    }
   },
   "outputs": [],
   "source": [
    "import pandas as pd\n",
    "import numpy as np\n",
    "import matplotlib.pyplot as plt\n",
    "import io\n",
    "import time\n",
    "import json\n",
    "\n",
    "import autokeras as ak"
   ]
  },
  {
   "cell_type": "markdown",
   "metadata": {
    "nbpresent": {
     "id": "142777ae-c072-448e-b941-72bc75735d01"
    }
   },
   "source": [
    "---\n",
    "## Data\n",
    "\n",
    "Data Source: https://archive.ics.uci.edu/ml/machine-learning-databases/breast-cancer-wisconsin/wdbc.data\n",
    "        https://www.kaggle.com/uciml/breast-cancer-wisconsin-data\n",
    "\n",
    "Let's download the data and save it in the local folder with the name data.csv and take a look at it."
   ]
  },
  {
   "cell_type": "code",
   "execution_count": 2,
   "metadata": {
    "nbpresent": {
     "id": "f8976dad-6897-4c7e-8c95-ae2f53070ef5"
    }
   },
   "outputs": [
    {
     "name": "stdout",
     "output_type": "stream",
     "text": [
      "(569, 32)\n"
     ]
    },
    {
     "data": {
      "text/html": [
       "<div>\n",
       "<style scoped>\n",
       "    .dataframe tbody tr th:only-of-type {\n",
       "        vertical-align: middle;\n",
       "    }\n",
       "\n",
       "    .dataframe tbody tr th {\n",
       "        vertical-align: top;\n",
       "    }\n",
       "\n",
       "    .dataframe thead th {\n",
       "        text-align: right;\n",
       "    }\n",
       "</style>\n",
       "<table border=\"1\" class=\"dataframe\">\n",
       "  <thead>\n",
       "    <tr style=\"text-align: right;\">\n",
       "      <th></th>\n",
       "      <th>id</th>\n",
       "      <th>diagnosis</th>\n",
       "      <th>radius_mean</th>\n",
       "      <th>texture_mean</th>\n",
       "      <th>perimeter_mean</th>\n",
       "      <th>area_mean</th>\n",
       "      <th>smoothness_mean</th>\n",
       "      <th>compactness_mean</th>\n",
       "      <th>concavity_mean</th>\n",
       "      <th>concave points_mean</th>\n",
       "      <th>...</th>\n",
       "      <th>radius_worst</th>\n",
       "      <th>texture_worst</th>\n",
       "      <th>perimeter_worst</th>\n",
       "      <th>area_worst</th>\n",
       "      <th>smoothness_worst</th>\n",
       "      <th>compactness_worst</th>\n",
       "      <th>concavity_worst</th>\n",
       "      <th>concave points_worst</th>\n",
       "      <th>symmetry_worst</th>\n",
       "      <th>fractal_dimension_worst</th>\n",
       "    </tr>\n",
       "  </thead>\n",
       "  <tbody>\n",
       "    <tr>\n",
       "      <th>0</th>\n",
       "      <td>842302</td>\n",
       "      <td>M</td>\n",
       "      <td>17.99</td>\n",
       "      <td>10.38</td>\n",
       "      <td>122.80</td>\n",
       "      <td>1001.0</td>\n",
       "      <td>0.11840</td>\n",
       "      <td>0.27760</td>\n",
       "      <td>0.3001</td>\n",
       "      <td>0.14710</td>\n",
       "      <td>...</td>\n",
       "      <td>25.38</td>\n",
       "      <td>17.33</td>\n",
       "      <td>184.60</td>\n",
       "      <td>2019.0</td>\n",
       "      <td>0.1622</td>\n",
       "      <td>0.6656</td>\n",
       "      <td>0.7119</td>\n",
       "      <td>0.2654</td>\n",
       "      <td>0.4601</td>\n",
       "      <td>0.11890</td>\n",
       "    </tr>\n",
       "    <tr>\n",
       "      <th>1</th>\n",
       "      <td>842517</td>\n",
       "      <td>M</td>\n",
       "      <td>20.57</td>\n",
       "      <td>17.77</td>\n",
       "      <td>132.90</td>\n",
       "      <td>1326.0</td>\n",
       "      <td>0.08474</td>\n",
       "      <td>0.07864</td>\n",
       "      <td>0.0869</td>\n",
       "      <td>0.07017</td>\n",
       "      <td>...</td>\n",
       "      <td>24.99</td>\n",
       "      <td>23.41</td>\n",
       "      <td>158.80</td>\n",
       "      <td>1956.0</td>\n",
       "      <td>0.1238</td>\n",
       "      <td>0.1866</td>\n",
       "      <td>0.2416</td>\n",
       "      <td>0.1860</td>\n",
       "      <td>0.2750</td>\n",
       "      <td>0.08902</td>\n",
       "    </tr>\n",
       "    <tr>\n",
       "      <th>2</th>\n",
       "      <td>84300903</td>\n",
       "      <td>M</td>\n",
       "      <td>19.69</td>\n",
       "      <td>21.25</td>\n",
       "      <td>130.00</td>\n",
       "      <td>1203.0</td>\n",
       "      <td>0.10960</td>\n",
       "      <td>0.15990</td>\n",
       "      <td>0.1974</td>\n",
       "      <td>0.12790</td>\n",
       "      <td>...</td>\n",
       "      <td>23.57</td>\n",
       "      <td>25.53</td>\n",
       "      <td>152.50</td>\n",
       "      <td>1709.0</td>\n",
       "      <td>0.1444</td>\n",
       "      <td>0.4245</td>\n",
       "      <td>0.4504</td>\n",
       "      <td>0.2430</td>\n",
       "      <td>0.3613</td>\n",
       "      <td>0.08758</td>\n",
       "    </tr>\n",
       "    <tr>\n",
       "      <th>3</th>\n",
       "      <td>84348301</td>\n",
       "      <td>M</td>\n",
       "      <td>11.42</td>\n",
       "      <td>20.38</td>\n",
       "      <td>77.58</td>\n",
       "      <td>386.1</td>\n",
       "      <td>0.14250</td>\n",
       "      <td>0.28390</td>\n",
       "      <td>0.2414</td>\n",
       "      <td>0.10520</td>\n",
       "      <td>...</td>\n",
       "      <td>14.91</td>\n",
       "      <td>26.50</td>\n",
       "      <td>98.87</td>\n",
       "      <td>567.7</td>\n",
       "      <td>0.2098</td>\n",
       "      <td>0.8663</td>\n",
       "      <td>0.6869</td>\n",
       "      <td>0.2575</td>\n",
       "      <td>0.6638</td>\n",
       "      <td>0.17300</td>\n",
       "    </tr>\n",
       "    <tr>\n",
       "      <th>4</th>\n",
       "      <td>84358402</td>\n",
       "      <td>M</td>\n",
       "      <td>20.29</td>\n",
       "      <td>14.34</td>\n",
       "      <td>135.10</td>\n",
       "      <td>1297.0</td>\n",
       "      <td>0.10030</td>\n",
       "      <td>0.13280</td>\n",
       "      <td>0.1980</td>\n",
       "      <td>0.10430</td>\n",
       "      <td>...</td>\n",
       "      <td>22.54</td>\n",
       "      <td>16.67</td>\n",
       "      <td>152.20</td>\n",
       "      <td>1575.0</td>\n",
       "      <td>0.1374</td>\n",
       "      <td>0.2050</td>\n",
       "      <td>0.4000</td>\n",
       "      <td>0.1625</td>\n",
       "      <td>0.2364</td>\n",
       "      <td>0.07678</td>\n",
       "    </tr>\n",
       "  </tbody>\n",
       "</table>\n",
       "<p>5 rows × 32 columns</p>\n",
       "</div>"
      ],
      "text/plain": [
       "         id diagnosis  radius_mean  texture_mean  perimeter_mean  area_mean  \\\n",
       "0    842302         M        17.99         10.38          122.80     1001.0   \n",
       "1    842517         M        20.57         17.77          132.90     1326.0   \n",
       "2  84300903         M        19.69         21.25          130.00     1203.0   \n",
       "3  84348301         M        11.42         20.38           77.58      386.1   \n",
       "4  84358402         M        20.29         14.34          135.10     1297.0   \n",
       "\n",
       "   smoothness_mean  compactness_mean  concavity_mean  concave points_mean  \\\n",
       "0          0.11840           0.27760          0.3001              0.14710   \n",
       "1          0.08474           0.07864          0.0869              0.07017   \n",
       "2          0.10960           0.15990          0.1974              0.12790   \n",
       "3          0.14250           0.28390          0.2414              0.10520   \n",
       "4          0.10030           0.13280          0.1980              0.10430   \n",
       "\n",
       "   ...  radius_worst  texture_worst  perimeter_worst  area_worst  \\\n",
       "0  ...         25.38          17.33           184.60      2019.0   \n",
       "1  ...         24.99          23.41           158.80      1956.0   \n",
       "2  ...         23.57          25.53           152.50      1709.0   \n",
       "3  ...         14.91          26.50            98.87       567.7   \n",
       "4  ...         22.54          16.67           152.20      1575.0   \n",
       "\n",
       "   smoothness_worst  compactness_worst  concavity_worst  concave points_worst  \\\n",
       "0            0.1622             0.6656           0.7119                0.2654   \n",
       "1            0.1238             0.1866           0.2416                0.1860   \n",
       "2            0.1444             0.4245           0.4504                0.2430   \n",
       "3            0.2098             0.8663           0.6869                0.2575   \n",
       "4            0.1374             0.2050           0.4000                0.1625   \n",
       "\n",
       "   symmetry_worst  fractal_dimension_worst  \n",
       "0          0.4601                  0.11890  \n",
       "1          0.2750                  0.08902  \n",
       "2          0.3613                  0.08758  \n",
       "3          0.6638                  0.17300  \n",
       "4          0.2364                  0.07678  \n",
       "\n",
       "[5 rows x 32 columns]"
      ]
     },
     "metadata": {},
     "output_type": "display_data"
    },
    {
     "data": {
      "text/html": [
       "<div>\n",
       "<style scoped>\n",
       "    .dataframe tbody tr th:only-of-type {\n",
       "        vertical-align: middle;\n",
       "    }\n",
       "\n",
       "    .dataframe tbody tr th {\n",
       "        vertical-align: top;\n",
       "    }\n",
       "\n",
       "    .dataframe thead th {\n",
       "        text-align: right;\n",
       "    }\n",
       "</style>\n",
       "<table border=\"1\" class=\"dataframe\">\n",
       "  <thead>\n",
       "    <tr style=\"text-align: right;\">\n",
       "      <th></th>\n",
       "      <th>id</th>\n",
       "      <th>radius_mean</th>\n",
       "      <th>texture_mean</th>\n",
       "      <th>perimeter_mean</th>\n",
       "      <th>area_mean</th>\n",
       "      <th>smoothness_mean</th>\n",
       "      <th>compactness_mean</th>\n",
       "      <th>concavity_mean</th>\n",
       "      <th>concave points_mean</th>\n",
       "      <th>symmetry_mean</th>\n",
       "      <th>...</th>\n",
       "      <th>radius_worst</th>\n",
       "      <th>texture_worst</th>\n",
       "      <th>perimeter_worst</th>\n",
       "      <th>area_worst</th>\n",
       "      <th>smoothness_worst</th>\n",
       "      <th>compactness_worst</th>\n",
       "      <th>concavity_worst</th>\n",
       "      <th>concave points_worst</th>\n",
       "      <th>symmetry_worst</th>\n",
       "      <th>fractal_dimension_worst</th>\n",
       "    </tr>\n",
       "  </thead>\n",
       "  <tbody>\n",
       "    <tr>\n",
       "      <th>count</th>\n",
       "      <td>5.690000e+02</td>\n",
       "      <td>569.000000</td>\n",
       "      <td>569.000000</td>\n",
       "      <td>569.000000</td>\n",
       "      <td>569.000000</td>\n",
       "      <td>569.000000</td>\n",
       "      <td>569.000000</td>\n",
       "      <td>569.000000</td>\n",
       "      <td>569.000000</td>\n",
       "      <td>569.000000</td>\n",
       "      <td>...</td>\n",
       "      <td>569.000000</td>\n",
       "      <td>569.000000</td>\n",
       "      <td>569.000000</td>\n",
       "      <td>569.000000</td>\n",
       "      <td>569.000000</td>\n",
       "      <td>569.000000</td>\n",
       "      <td>569.000000</td>\n",
       "      <td>569.000000</td>\n",
       "      <td>569.000000</td>\n",
       "      <td>569.000000</td>\n",
       "    </tr>\n",
       "    <tr>\n",
       "      <th>mean</th>\n",
       "      <td>3.037183e+07</td>\n",
       "      <td>14.127292</td>\n",
       "      <td>19.289649</td>\n",
       "      <td>91.969033</td>\n",
       "      <td>654.889104</td>\n",
       "      <td>0.096360</td>\n",
       "      <td>0.104341</td>\n",
       "      <td>0.088799</td>\n",
       "      <td>0.048919</td>\n",
       "      <td>0.181162</td>\n",
       "      <td>...</td>\n",
       "      <td>16.269190</td>\n",
       "      <td>25.677223</td>\n",
       "      <td>107.261213</td>\n",
       "      <td>880.583128</td>\n",
       "      <td>0.132369</td>\n",
       "      <td>0.254265</td>\n",
       "      <td>0.272188</td>\n",
       "      <td>0.114606</td>\n",
       "      <td>0.290076</td>\n",
       "      <td>0.083946</td>\n",
       "    </tr>\n",
       "    <tr>\n",
       "      <th>std</th>\n",
       "      <td>1.250206e+08</td>\n",
       "      <td>3.524049</td>\n",
       "      <td>4.301036</td>\n",
       "      <td>24.298981</td>\n",
       "      <td>351.914129</td>\n",
       "      <td>0.014064</td>\n",
       "      <td>0.052813</td>\n",
       "      <td>0.079720</td>\n",
       "      <td>0.038803</td>\n",
       "      <td>0.027414</td>\n",
       "      <td>...</td>\n",
       "      <td>4.833242</td>\n",
       "      <td>6.146258</td>\n",
       "      <td>33.602542</td>\n",
       "      <td>569.356993</td>\n",
       "      <td>0.022832</td>\n",
       "      <td>0.157336</td>\n",
       "      <td>0.208624</td>\n",
       "      <td>0.065732</td>\n",
       "      <td>0.061867</td>\n",
       "      <td>0.018061</td>\n",
       "    </tr>\n",
       "    <tr>\n",
       "      <th>min</th>\n",
       "      <td>8.670000e+03</td>\n",
       "      <td>6.981000</td>\n",
       "      <td>9.710000</td>\n",
       "      <td>43.790000</td>\n",
       "      <td>143.500000</td>\n",
       "      <td>0.052630</td>\n",
       "      <td>0.019380</td>\n",
       "      <td>0.000000</td>\n",
       "      <td>0.000000</td>\n",
       "      <td>0.106000</td>\n",
       "      <td>...</td>\n",
       "      <td>7.930000</td>\n",
       "      <td>12.020000</td>\n",
       "      <td>50.410000</td>\n",
       "      <td>185.200000</td>\n",
       "      <td>0.071170</td>\n",
       "      <td>0.027290</td>\n",
       "      <td>0.000000</td>\n",
       "      <td>0.000000</td>\n",
       "      <td>0.156500</td>\n",
       "      <td>0.055040</td>\n",
       "    </tr>\n",
       "    <tr>\n",
       "      <th>25%</th>\n",
       "      <td>8.692180e+05</td>\n",
       "      <td>11.700000</td>\n",
       "      <td>16.170000</td>\n",
       "      <td>75.170000</td>\n",
       "      <td>420.300000</td>\n",
       "      <td>0.086370</td>\n",
       "      <td>0.064920</td>\n",
       "      <td>0.029560</td>\n",
       "      <td>0.020310</td>\n",
       "      <td>0.161900</td>\n",
       "      <td>...</td>\n",
       "      <td>13.010000</td>\n",
       "      <td>21.080000</td>\n",
       "      <td>84.110000</td>\n",
       "      <td>515.300000</td>\n",
       "      <td>0.116600</td>\n",
       "      <td>0.147200</td>\n",
       "      <td>0.114500</td>\n",
       "      <td>0.064930</td>\n",
       "      <td>0.250400</td>\n",
       "      <td>0.071460</td>\n",
       "    </tr>\n",
       "    <tr>\n",
       "      <th>50%</th>\n",
       "      <td>9.060240e+05</td>\n",
       "      <td>13.370000</td>\n",
       "      <td>18.840000</td>\n",
       "      <td>86.240000</td>\n",
       "      <td>551.100000</td>\n",
       "      <td>0.095870</td>\n",
       "      <td>0.092630</td>\n",
       "      <td>0.061540</td>\n",
       "      <td>0.033500</td>\n",
       "      <td>0.179200</td>\n",
       "      <td>...</td>\n",
       "      <td>14.970000</td>\n",
       "      <td>25.410000</td>\n",
       "      <td>97.660000</td>\n",
       "      <td>686.500000</td>\n",
       "      <td>0.131300</td>\n",
       "      <td>0.211900</td>\n",
       "      <td>0.226700</td>\n",
       "      <td>0.099930</td>\n",
       "      <td>0.282200</td>\n",
       "      <td>0.080040</td>\n",
       "    </tr>\n",
       "    <tr>\n",
       "      <th>75%</th>\n",
       "      <td>8.813129e+06</td>\n",
       "      <td>15.780000</td>\n",
       "      <td>21.800000</td>\n",
       "      <td>104.100000</td>\n",
       "      <td>782.700000</td>\n",
       "      <td>0.105300</td>\n",
       "      <td>0.130400</td>\n",
       "      <td>0.130700</td>\n",
       "      <td>0.074000</td>\n",
       "      <td>0.195700</td>\n",
       "      <td>...</td>\n",
       "      <td>18.790000</td>\n",
       "      <td>29.720000</td>\n",
       "      <td>125.400000</td>\n",
       "      <td>1084.000000</td>\n",
       "      <td>0.146000</td>\n",
       "      <td>0.339100</td>\n",
       "      <td>0.382900</td>\n",
       "      <td>0.161400</td>\n",
       "      <td>0.317900</td>\n",
       "      <td>0.092080</td>\n",
       "    </tr>\n",
       "    <tr>\n",
       "      <th>max</th>\n",
       "      <td>9.113205e+08</td>\n",
       "      <td>28.110000</td>\n",
       "      <td>39.280000</td>\n",
       "      <td>188.500000</td>\n",
       "      <td>2501.000000</td>\n",
       "      <td>0.163400</td>\n",
       "      <td>0.345400</td>\n",
       "      <td>0.426800</td>\n",
       "      <td>0.201200</td>\n",
       "      <td>0.304000</td>\n",
       "      <td>...</td>\n",
       "      <td>36.040000</td>\n",
       "      <td>49.540000</td>\n",
       "      <td>251.200000</td>\n",
       "      <td>4254.000000</td>\n",
       "      <td>0.222600</td>\n",
       "      <td>1.058000</td>\n",
       "      <td>1.252000</td>\n",
       "      <td>0.291000</td>\n",
       "      <td>0.663800</td>\n",
       "      <td>0.207500</td>\n",
       "    </tr>\n",
       "  </tbody>\n",
       "</table>\n",
       "<p>8 rows × 31 columns</p>\n",
       "</div>"
      ],
      "text/plain": [
       "                 id  radius_mean  texture_mean  perimeter_mean    area_mean  \\\n",
       "count  5.690000e+02   569.000000    569.000000      569.000000   569.000000   \n",
       "mean   3.037183e+07    14.127292     19.289649       91.969033   654.889104   \n",
       "std    1.250206e+08     3.524049      4.301036       24.298981   351.914129   \n",
       "min    8.670000e+03     6.981000      9.710000       43.790000   143.500000   \n",
       "25%    8.692180e+05    11.700000     16.170000       75.170000   420.300000   \n",
       "50%    9.060240e+05    13.370000     18.840000       86.240000   551.100000   \n",
       "75%    8.813129e+06    15.780000     21.800000      104.100000   782.700000   \n",
       "max    9.113205e+08    28.110000     39.280000      188.500000  2501.000000   \n",
       "\n",
       "       smoothness_mean  compactness_mean  concavity_mean  concave points_mean  \\\n",
       "count       569.000000        569.000000      569.000000           569.000000   \n",
       "mean          0.096360          0.104341        0.088799             0.048919   \n",
       "std           0.014064          0.052813        0.079720             0.038803   \n",
       "min           0.052630          0.019380        0.000000             0.000000   \n",
       "25%           0.086370          0.064920        0.029560             0.020310   \n",
       "50%           0.095870          0.092630        0.061540             0.033500   \n",
       "75%           0.105300          0.130400        0.130700             0.074000   \n",
       "max           0.163400          0.345400        0.426800             0.201200   \n",
       "\n",
       "       symmetry_mean  ...  radius_worst  texture_worst  perimeter_worst  \\\n",
       "count     569.000000  ...    569.000000     569.000000       569.000000   \n",
       "mean        0.181162  ...     16.269190      25.677223       107.261213   \n",
       "std         0.027414  ...      4.833242       6.146258        33.602542   \n",
       "min         0.106000  ...      7.930000      12.020000        50.410000   \n",
       "25%         0.161900  ...     13.010000      21.080000        84.110000   \n",
       "50%         0.179200  ...     14.970000      25.410000        97.660000   \n",
       "75%         0.195700  ...     18.790000      29.720000       125.400000   \n",
       "max         0.304000  ...     36.040000      49.540000       251.200000   \n",
       "\n",
       "        area_worst  smoothness_worst  compactness_worst  concavity_worst  \\\n",
       "count   569.000000        569.000000         569.000000       569.000000   \n",
       "mean    880.583128          0.132369           0.254265         0.272188   \n",
       "std     569.356993          0.022832           0.157336         0.208624   \n",
       "min     185.200000          0.071170           0.027290         0.000000   \n",
       "25%     515.300000          0.116600           0.147200         0.114500   \n",
       "50%     686.500000          0.131300           0.211900         0.226700   \n",
       "75%    1084.000000          0.146000           0.339100         0.382900   \n",
       "max    4254.000000          0.222600           1.058000         1.252000   \n",
       "\n",
       "       concave points_worst  symmetry_worst  fractal_dimension_worst  \n",
       "count            569.000000      569.000000               569.000000  \n",
       "mean               0.114606        0.290076                 0.083946  \n",
       "std                0.065732        0.061867                 0.018061  \n",
       "min                0.000000        0.156500                 0.055040  \n",
       "25%                0.064930        0.250400                 0.071460  \n",
       "50%                0.099930        0.282200                 0.080040  \n",
       "75%                0.161400        0.317900                 0.092080  \n",
       "max                0.291000        0.663800                 0.207500  \n",
       "\n",
       "[8 rows x 31 columns]"
      ]
     },
     "metadata": {},
     "output_type": "display_data"
    },
    {
     "data": {
      "text/plain": [
       "B    357\n",
       "M    212\n",
       "Name: diagnosis, dtype: int64"
      ]
     },
     "metadata": {},
     "output_type": "display_data"
    }
   ],
   "source": [
    "data = pd.read_csv('https://archive.ics.uci.edu/ml/machine-learning-databases/breast-cancer-wisconsin/wdbc.data', header = None)\n",
    "\n",
    "# specify columns extracted from wbdc.names\n",
    "data.columns = [\"id\",\"diagnosis\",\"radius_mean\",\"texture_mean\",\"perimeter_mean\",\"area_mean\",\"smoothness_mean\",\n",
    "                \"compactness_mean\",\"concavity_mean\",\"concave points_mean\",\"symmetry_mean\",\"fractal_dimension_mean\",\n",
    "                \"radius_se\",\"texture_se\",\"perimeter_se\",\"area_se\",\"smoothness_se\",\"compactness_se\",\"concavity_se\",\n",
    "                \"concave points_se\",\"symmetry_se\",\"fractal_dimension_se\",\"radius_worst\",\"texture_worst\",\n",
    "                \"perimeter_worst\",\"area_worst\",\"smoothness_worst\",\"compactness_worst\",\"concavity_worst\",\n",
    "                \"concave points_worst\",\"symmetry_worst\",\"fractal_dimension_worst\"] \n",
    "\n",
    "# save the data\n",
    "data.to_csv(\"data.csv\", sep=',', index=False)\n",
    "\n",
    "# print the shape of the data file\n",
    "print(data.shape)\n",
    "\n",
    "# show the top few rows\n",
    "display(data.head())\n",
    "\n",
    "# describe the data object\n",
    "display(data.describe())\n",
    "\n",
    "# we will also summarize the categorical field diganosis \n",
    "display(data.diagnosis.value_counts())\n"
   ]
  },
  {
   "cell_type": "markdown",
   "metadata": {},
   "source": [
    "#### Key observations:\n",
    "* Data has 569 observations and 32 columns.\n",
    "* First field is 'id'.\n",
    "* Second field, 'diagnosis', is an indicator of the actual diagnosis ('M' = Malignant; 'B' = Benign).\n",
    "* There are 30 other numeric features available for prediction."
   ]
  },
  {
   "cell_type": "markdown",
   "metadata": {},
   "source": [
    "## Create Features and Labels\n",
    "#### Split the data into 80% training, 10% validation and 10% testing."
   ]
  },
  {
   "cell_type": "code",
   "execution_count": 3,
   "metadata": {},
   "outputs": [],
   "source": [
    "y = ((data.iloc[:,1] == 'M') +0).values;\n",
    "X = data.iloc[:,2:].values;\n",
    "\n",
    "from sklearn.model_selection import train_test_split\n",
    "\n",
    "X_train, X_val, y_train, y_val = train_test_split(X, y, test_size=0.2)"
   ]
  },
  {
   "cell_type": "markdown",
   "metadata": {
    "nbpresent": {
     "id": "f3b125ad-a2d5-464c-8cfa-bd203034eee4"
    }
   },
   "source": [
    "---\n",
    "## Train\n"
   ]
  },
  {
   "cell_type": "code",
   "execution_count": 8,
   "metadata": {},
   "outputs": [
    {
     "name": "stdout",
     "output_type": "stream",
     "text": [
      "WARNING:tensorflow:Unresolved object in checkpoint: (root).optimizer.iter\n",
      "WARNING:tensorflow:Unresolved object in checkpoint: (root).optimizer.beta_1\n",
      "WARNING:tensorflow:Unresolved object in checkpoint: (root).optimizer.beta_2\n",
      "WARNING:tensorflow:Unresolved object in checkpoint: (root).optimizer.decay\n",
      "WARNING:tensorflow:Unresolved object in checkpoint: (root).optimizer.learning_rate\n",
      "WARNING:tensorflow:A checkpoint was restored (e.g. tf.train.Checkpoint.restore or tf.keras.Model.load_weights) but not all checkpointed values were used. See above for specific issues. Use expect_partial() on the load status object, e.g. tf.train.Checkpoint.restore(...).expect_partial(), to silence these warnings, or use assert_consumed() to make the check explicit. See https://www.tensorflow.org/guide/checkpoint#loading_mechanics for details.\n",
      "WARNING:tensorflow:Unresolved object in checkpoint: (root).optimizer.iter\n",
      "WARNING:tensorflow:Unresolved object in checkpoint: (root).optimizer.beta_1\n",
      "WARNING:tensorflow:Unresolved object in checkpoint: (root).optimizer.beta_2\n",
      "WARNING:tensorflow:Unresolved object in checkpoint: (root).optimizer.decay\n",
      "WARNING:tensorflow:Unresolved object in checkpoint: (root).optimizer.learning_rate\n",
      "WARNING:tensorflow:A checkpoint was restored (e.g. tf.train.Checkpoint.restore or tf.keras.Model.load_weights) but not all checkpointed values were used. See above for specific issues. Use expect_partial() on the load status object, e.g. tf.train.Checkpoint.restore(...).expect_partial(), to silence these warnings, or use assert_consumed() to make the check explicit. See https://www.tensorflow.org/guide/checkpoint#loading_mechanics for details.\n",
      "Train for 12 steps, validate for 3 steps\n",
      "Epoch 1/1000\n",
      "12/12 [==============================] - ETA: 6s - loss: 3.0857 - accuracy: 0.75 - 1s 66ms/step - loss: 1.7753 - accuracy: 0.5412 - val_loss: 0.7598 - val_accuracy: 0.7802\n",
      "Epoch 2/1000\n",
      "12/12 [==============================] - ETA: 0s - loss: 0.5436 - accuracy: 0.87 - 0s 5ms/step - loss: 0.4518 - accuracy: 0.8022 - val_loss: 0.4667 - val_accuracy: 0.8571\n",
      "Epoch 3/1000\n",
      "12/12 [==============================] - ETA: 0s - loss: 0.4266 - accuracy: 0.87 - 0s 5ms/step - loss: 0.3317 - accuracy: 0.8874 - val_loss: 0.2577 - val_accuracy: 0.9121\n",
      "Epoch 4/1000\n",
      "12/12 [==============================] - ETA: 0s - loss: 0.2729 - accuracy: 0.90 - 0s 5ms/step - loss: 0.2635 - accuracy: 0.9066 - val_loss: 0.2609 - val_accuracy: 0.9121\n",
      "Epoch 5/1000\n",
      "12/12 [==============================] - ETA: 0s - loss: 0.2746 - accuracy: 0.90 - 0s 5ms/step - loss: 0.2790 - accuracy: 0.8956 - val_loss: 0.2976 - val_accuracy: 0.8681\n",
      "Epoch 6/1000\n",
      "12/12 [==============================] - ETA: 0s - loss: 0.3028 - accuracy: 0.90 - 0s 4ms/step - loss: 0.2916 - accuracy: 0.8984 - val_loss: 0.2944 - val_accuracy: 0.8681\n",
      "Epoch 7/1000\n",
      "12/12 [==============================] - ETA: 0s - loss: 0.3018 - accuracy: 0.93 - 0s 5ms/step - loss: 0.2886 - accuracy: 0.9038 - val_loss: 0.2908 - val_accuracy: 0.8681\n",
      "Epoch 8/1000\n",
      "12/12 [==============================] - ETA: 0s - loss: 0.2969 - accuracy: 0.93 - 0s 5ms/step - loss: 0.2892 - accuracy: 0.9038 - val_loss: 0.2965 - val_accuracy: 0.8681\n",
      "Epoch 9/1000\n",
      "12/12 [==============================] - ETA: 0s - loss: 0.2976 - accuracy: 0.93 - 0s 5ms/step - loss: 0.2943 - accuracy: 0.9011 - val_loss: 0.3063 - val_accuracy: 0.8681\n",
      "Epoch 10/1000\n",
      "12/12 [==============================] - ETA: 0s - loss: 0.3011 - accuracy: 0.93 - 0s 5ms/step - loss: 0.2996 - accuracy: 0.8984 - val_loss: 0.3137 - val_accuracy: 0.8791\n",
      "Epoch 11/1000\n",
      "12/12 [==============================] - ETA: 0s - loss: 0.3032 - accuracy: 0.90 - 0s 5ms/step - loss: 0.3025 - accuracy: 0.8901 - val_loss: 0.3160 - val_accuracy: 0.8791\n",
      "Epoch 12/1000\n",
      "12/12 [==============================] - ETA: 0s - loss: 0.3030 - accuracy: 0.90 - 0s 5ms/step - loss: 0.3033 - accuracy: 0.8901 - val_loss: 0.3132 - val_accuracy: 0.8791\n",
      "Epoch 13/1000\n",
      "12/12 [==============================] - ETA: 0s - loss: 0.3000 - accuracy: 0.90 - 0s 5ms/step - loss: 0.3023 - accuracy: 0.8956 - val_loss: 0.3109 - val_accuracy: 0.8791\n"
     ]
    },
    {
     "data": {
      "text/html": [
       "<span style=\"color:#4527A0\"><h1 style=\"font-size:18px\">Trial complete</h1></span>"
      ],
      "text/plain": [
       "<IPython.core.display.HTML object>"
      ]
     },
     "metadata": {},
     "output_type": "display_data"
    },
    {
     "data": {
      "text/html": [
       "<span style=\"color:#4527A0\"><h1 style=\"font-size:18px\">Trial summary</h1></span>"
      ],
      "text/plain": [
       "<IPython.core.display.HTML object>"
      ]
     },
     "metadata": {},
     "output_type": "display_data"
    },
    {
     "data": {
      "text/html": [
       "<span style=\"color:cyan\"> |-Trial ID: 701137517581414fec096fd945766ef8</span>"
      ],
      "text/plain": [
       "<IPython.core.display.HTML object>"
      ]
     },
     "metadata": {},
     "output_type": "display_data"
    },
    {
     "data": {
      "text/html": [
       "<span style=\"color:cyan\"> |-Score: 0.9120879173278809</span>"
      ],
      "text/plain": [
       "<IPython.core.display.HTML object>"
      ]
     },
     "metadata": {},
     "output_type": "display_data"
    },
    {
     "data": {
      "text/html": [
       "<span style=\"color:cyan\"> |-Best step: 0</span>"
      ],
      "text/plain": [
       "<IPython.core.display.HTML object>"
      ]
     },
     "metadata": {},
     "output_type": "display_data"
    },
    {
     "data": {
      "text/html": [
       "<span style=\"color:#7E57C2\"><h2 style=\"font-size:16px\">Hyperparameters:</h2></span>"
      ],
      "text/plain": [
       "<IPython.core.display.HTML object>"
      ]
     },
     "metadata": {},
     "output_type": "display_data"
    },
    {
     "data": {
      "text/html": [
       "<span style=\"color:cyan\"> |-classification_head_1/dropout_rate: 0</span>"
      ],
      "text/plain": [
       "<IPython.core.display.HTML object>"
      ]
     },
     "metadata": {},
     "output_type": "display_data"
    },
    {
     "data": {
      "text/html": [
       "<span style=\"color:blue\"> |-optimizer: adam</span>"
      ],
      "text/plain": [
       "<IPython.core.display.HTML object>"
      ]
     },
     "metadata": {},
     "output_type": "display_data"
    },
    {
     "data": {
      "text/html": [
       "<span style=\"color:cyan\"> |-structured_data_block_1/dense_block_1/dropout_rate: 0</span>"
      ],
      "text/plain": [
       "<IPython.core.display.HTML object>"
      ]
     },
     "metadata": {},
     "output_type": "display_data"
    },
    {
     "data": {
      "text/html": [
       "<span style=\"color:blue\"> |-structured_data_block_1/dense_block_1/num_layers: 2</span>"
      ],
      "text/plain": [
       "<IPython.core.display.HTML object>"
      ]
     },
     "metadata": {},
     "output_type": "display_data"
    },
    {
     "data": {
      "text/html": [
       "<span style=\"color:cyan\"> |-structured_data_block_1/dense_block_1/units_0: 32</span>"
      ],
      "text/plain": [
       "<IPython.core.display.HTML object>"
      ]
     },
     "metadata": {},
     "output_type": "display_data"
    },
    {
     "data": {
      "text/html": [
       "<span style=\"color:blue\"> |-structured_data_block_1/dense_block_1/units_1: 32</span>"
      ],
      "text/plain": [
       "<IPython.core.display.HTML object>"
      ]
     },
     "metadata": {},
     "output_type": "display_data"
    },
    {
     "data": {
      "text/html": [
       "<span style=\"color:cyan\"> |-structured_data_block_1/dense_block_1/use_batchnorm: False</span>"
      ],
      "text/plain": [
       "<IPython.core.display.HTML object>"
      ]
     },
     "metadata": {},
     "output_type": "display_data"
    },
    {
     "data": {
      "text/html": [
       "<span style=\"color:blue\"> |-structured_data_block_1/dense_block_2/dropout_rate: 0</span>"
      ],
      "text/plain": [
       "<IPython.core.display.HTML object>"
      ]
     },
     "metadata": {},
     "output_type": "display_data"
    },
    {
     "data": {
      "text/html": [
       "<span style=\"color:cyan\"> |-structured_data_block_1/dense_block_2/num_layers: 2</span>"
      ],
      "text/plain": [
       "<IPython.core.display.HTML object>"
      ]
     },
     "metadata": {},
     "output_type": "display_data"
    },
    {
     "data": {
      "text/html": [
       "<span style=\"color:blue\"> |-structured_data_block_1/dense_block_2/units_0: 32</span>"
      ],
      "text/plain": [
       "<IPython.core.display.HTML object>"
      ]
     },
     "metadata": {},
     "output_type": "display_data"
    },
    {
     "data": {
      "text/html": [
       "<span style=\"color:cyan\"> |-structured_data_block_1/dense_block_2/units_1: 32</span>"
      ],
      "text/plain": [
       "<IPython.core.display.HTML object>"
      ]
     },
     "metadata": {},
     "output_type": "display_data"
    },
    {
     "data": {
      "text/html": [
       "<span style=\"color:blue\"> |-structured_data_block_1/dense_block_2/use_batchnorm: False</span>"
      ],
      "text/plain": [
       "<IPython.core.display.HTML object>"
      ]
     },
     "metadata": {},
     "output_type": "display_data"
    },
    {
     "name": "stdout",
     "output_type": "stream",
     "text": [
      "Train for 12 steps, validate for 3 steps\n",
      "Epoch 1/1000\n",
      "12/12 [==============================] - ETA: 13s - loss: 0.9298 - accuracy: 0.406 - ETA: 0s - loss: 0.5834 - accuracy: 0.698 - 2s 127ms/step - loss: 0.5608 - accuracy: 0.7060 - val_loss: 2.9519 - val_accuracy: 0.4176\n",
      "Epoch 2/1000\n",
      "12/12 [==============================] - ETA: 0s - loss: 0.5161 - accuracy: 0.68 - 0s 7ms/step - loss: 0.3483 - accuracy: 0.8764 - val_loss: 2.4931 - val_accuracy: 0.4176\n",
      "Epoch 3/1000\n",
      "12/12 [==============================] - ETA: 0s - loss: 0.3634 - accuracy: 0.90 - 0s 8ms/step - loss: 0.3077 - accuracy: 0.8956 - val_loss: 1.7977 - val_accuracy: 0.4286\n",
      "Epoch 4/1000\n",
      "12/12 [==============================] - ETA: 0s - loss: 0.3271 - accuracy: 0.87 - 0s 8ms/step - loss: 0.2820 - accuracy: 0.9121 - val_loss: 1.3710 - val_accuracy: 0.4396\n",
      "Epoch 5/1000\n",
      "12/12 [==============================] - ETA: 0s - loss: 0.3551 - accuracy: 0.81 - 0s 8ms/step - loss: 0.2606 - accuracy: 0.9176 - val_loss: 1.1086 - val_accuracy: 0.5604\n",
      "Epoch 6/1000\n",
      "12/12 [==============================] - ETA: 0s - loss: 0.2956 - accuracy: 0.87 - 0s 8ms/step - loss: 0.2416 - accuracy: 0.9148 - val_loss: 0.8644 - val_accuracy: 0.6264\n",
      "Epoch 7/1000\n",
      "12/12 [==============================] - ETA: 0s - loss: 0.2930 - accuracy: 0.84 - 0s 8ms/step - loss: 0.2525 - accuracy: 0.9148 - val_loss: 0.7085 - val_accuracy: 0.6593\n",
      "Epoch 8/1000\n",
      "12/12 [==============================] - ETA: 0s - loss: 0.2921 - accuracy: 0.87 - ETA: 0s - loss: 0.2456 - accuracy: 0.92 - 0s 9ms/step - loss: 0.2398 - accuracy: 0.9286 - val_loss: 0.5189 - val_accuracy: 0.7253\n",
      "Epoch 9/1000\n",
      "12/12 [==============================] - ETA: 0s - loss: 0.2680 - accuracy: 0.84 - ETA: 0s - loss: 0.2033 - accuracy: 0.92 - 0s 9ms/step - loss: 0.1984 - accuracy: 0.9286 - val_loss: 0.3685 - val_accuracy: 0.8132\n",
      "Epoch 10/1000\n",
      "12/12 [==============================] - ETA: 0s - loss: 0.2281 - accuracy: 0.90 - 0s 8ms/step - loss: 0.1942 - accuracy: 0.9341 - val_loss: 0.2468 - val_accuracy: 0.8571\n",
      "Epoch 11/1000\n",
      "12/12 [==============================] - ETA: 0s - loss: 0.2739 - accuracy: 0.87 - ETA: 0s - loss: 0.2180 - accuracy: 0.92 - 0s 9ms/step - loss: 0.2189 - accuracy: 0.9258 - val_loss: 0.1927 - val_accuracy: 0.9231\n",
      "Epoch 12/1000\n",
      "12/12 [==============================] - ETA: 0s - loss: 0.2348 - accuracy: 0.90 - ETA: 0s - loss: 0.1869 - accuracy: 0.93 - 0s 9ms/step - loss: 0.1788 - accuracy: 0.9368 - val_loss: 0.1754 - val_accuracy: 0.9341\n",
      "Epoch 13/1000\n",
      "12/12 [==============================] - ETA: 0s - loss: 0.1754 - accuracy: 0.93 - 0s 8ms/step - loss: 0.1863 - accuracy: 0.9313 - val_loss: 0.1670 - val_accuracy: 0.9451\n",
      "Epoch 14/1000\n",
      "12/12 [==============================] - ETA: 0s - loss: 0.2023 - accuracy: 0.90 - ETA: 0s - loss: 0.1987 - accuracy: 0.93 - 0s 8ms/step - loss: 0.1856 - accuracy: 0.9396 - val_loss: 0.1704 - val_accuracy: 0.9341\n",
      "Epoch 15/1000\n",
      "12/12 [==============================] - ETA: 0s - loss: 0.2038 - accuracy: 0.93 - ETA: 0s - loss: 0.1787 - accuracy: 0.94 - 0s 9ms/step - loss: 0.1690 - accuracy: 0.9451 - val_loss: 0.1533 - val_accuracy: 0.9560\n",
      "Epoch 16/1000\n",
      "12/12 [==============================] - ETA: 0s - loss: 0.2138 - accuracy: 0.93 - ETA: 0s - loss: 0.1924 - accuracy: 0.94 - 0s 8ms/step - loss: 0.1825 - accuracy: 0.9423 - val_loss: 0.1380 - val_accuracy: 0.9560\n",
      "Epoch 17/1000\n",
      "12/12 [==============================] - ETA: 0s - loss: 0.1662 - accuracy: 0.90 - ETA: 0s - loss: 0.1746 - accuracy: 0.94 - 0s 8ms/step - loss: 0.1657 - accuracy: 0.9478 - val_loss: 0.1346 - val_accuracy: 0.9451\n",
      "Epoch 18/1000\n",
      "12/12 [==============================] - ETA: 0s - loss: 0.1579 - accuracy: 0.93 - ETA: 0s - loss: 0.1717 - accuracy: 0.94 - 0s 8ms/step - loss: 0.1670 - accuracy: 0.9451 - val_loss: 0.1268 - val_accuracy: 0.9451\n",
      "Epoch 19/1000\n",
      "12/12 [==============================] - ETA: 0s - loss: 0.2130 - accuracy: 0.93 - ETA: 0s - loss: 0.1606 - accuracy: 0.95 - 0s 8ms/step - loss: 0.1506 - accuracy: 0.9588 - val_loss: 0.1268 - val_accuracy: 0.9451\n",
      "Epoch 20/1000\n",
      "12/12 [==============================] - ETA: 0s - loss: 0.1569 - accuracy: 0.93 - ETA: 0s - loss: 0.1736 - accuracy: 0.94 - 0s 8ms/step - loss: 0.1640 - accuracy: 0.9478 - val_loss: 0.1219 - val_accuracy: 0.9560\n",
      "Epoch 21/1000\n",
      "12/12 [==============================] - ETA: 0s - loss: 0.1738 - accuracy: 0.93 - ETA: 0s - loss: 0.1949 - accuracy: 0.93 - 0s 8ms/step - loss: 0.1865 - accuracy: 0.9341 - val_loss: 0.1166 - val_accuracy: 0.9560\n",
      "Epoch 22/1000\n",
      "12/12 [==============================] - ETA: 0s - loss: 0.1745 - accuracy: 0.93 - ETA: 0s - loss: 0.1656 - accuracy: 0.94 - 0s 8ms/step - loss: 0.1576 - accuracy: 0.9505 - val_loss: 0.1210 - val_accuracy: 0.9560\n",
      "Epoch 23/1000\n",
      "12/12 [==============================] - ETA: 0s - loss: 0.1376 - accuracy: 0.93 - ETA: 0s - loss: 0.1852 - accuracy: 0.93 - 0s 9ms/step - loss: 0.1723 - accuracy: 0.9396 - val_loss: 0.1146 - val_accuracy: 0.9670\n",
      "Epoch 24/1000\n",
      "12/12 [==============================] - ETA: 0s - loss: 0.1494 - accuracy: 0.93 - ETA: 0s - loss: 0.1694 - accuracy: 0.94 - 0s 8ms/step - loss: 0.1583 - accuracy: 0.9505 - val_loss: 0.1074 - val_accuracy: 0.9670\n",
      "Epoch 25/1000\n",
      "12/12 [==============================] - ETA: 0s - loss: 0.1979 - accuracy: 0.96 - ETA: 0s - loss: 0.1591 - accuracy: 0.95 - 0s 8ms/step - loss: 0.1553 - accuracy: 0.9560 - val_loss: 0.1122 - val_accuracy: 0.9560\n",
      "Epoch 26/1000\n",
      "12/12 [==============================] - ETA: 0s - loss: 0.1407 - accuracy: 0.96 - ETA: 0s - loss: 0.1454 - accuracy: 0.94 - 0s 8ms/step - loss: 0.1383 - accuracy: 0.9478 - val_loss: 0.1163 - val_accuracy: 0.9451\n",
      "Epoch 27/1000\n",
      "12/12 [==============================] - ETA: 0s - loss: 0.1787 - accuracy: 0.90 - ETA: 0s - loss: 0.1419 - accuracy: 0.95 - 0s 8ms/step - loss: 0.1337 - accuracy: 0.9560 - val_loss: 0.1111 - val_accuracy: 0.9560\n",
      "Epoch 28/1000\n",
      "12/12 [==============================] - ETA: 0s - loss: 0.1410 - accuracy: 0.93 - ETA: 0s - loss: 0.1507 - accuracy: 0.95 - 0s 8ms/step - loss: 0.1433 - accuracy: 0.9560 - val_loss: 0.1111 - val_accuracy: 0.9560\n",
      "Epoch 29/1000\n",
      "12/12 [==============================] - ETA: 0s - loss: 0.1524 - accuracy: 0.93 - ETA: 0s - loss: 0.1484 - accuracy: 0.95 - 0s 8ms/step - loss: 0.1416 - accuracy: 0.9588 - val_loss: 0.1181 - val_accuracy: 0.9670\n",
      "Epoch 30/1000\n",
      "12/12 [==============================] - ETA: 0s - loss: 0.1173 - accuracy: 0.96 - ETA: 0s - loss: 0.1555 - accuracy: 0.95 - 0s 8ms/step - loss: 0.1453 - accuracy: 0.9533 - val_loss: 0.1230 - val_accuracy: 0.9451\n",
      "Epoch 31/1000\n",
      "12/12 [==============================] - ETA: 0s - loss: 0.2035 - accuracy: 0.93 - ETA: 0s - loss: 0.1538 - accuracy: 0.95 - 0s 8ms/step - loss: 0.1445 - accuracy: 0.9560 - val_loss: 0.1123 - val_accuracy: 0.9670\n",
      "Epoch 32/1000\n",
      "12/12 [==============================] - ETA: 0s - loss: 0.1480 - accuracy: 0.93 - ETA: 0s - loss: 0.1516 - accuracy: 0.95 - 0s 8ms/step - loss: 0.1411 - accuracy: 0.9560 - val_loss: 0.1294 - val_accuracy: 0.9451\n",
      "Epoch 33/1000\n",
      "12/12 [==============================] - ETA: 0s - loss: 0.1877 - accuracy: 0.93 - 0s 7ms/step - loss: 0.1306 - accuracy: 0.9560 - val_loss: 0.1432 - val_accuracy: 0.9451\n",
      "Epoch 34/1000\n",
      "12/12 [==============================] - ETA: 0s - loss: 0.1353 - accuracy: 0.93 - ETA: 0s - loss: 0.1412 - accuracy: 0.95 - 0s 8ms/step - loss: 0.1342 - accuracy: 0.9560 - val_loss: 0.1216 - val_accuracy: 0.9451\n"
     ]
    },
    {
     "data": {
      "text/html": [
       "<span style=\"color:#4527A0\"><h1 style=\"font-size:18px\">Trial complete</h1></span>"
      ],
      "text/plain": [
       "<IPython.core.display.HTML object>"
      ]
     },
     "metadata": {},
     "output_type": "display_data"
    },
    {
     "data": {
      "text/html": [
       "<span style=\"color:#4527A0\"><h1 style=\"font-size:18px\">Trial summary</h1></span>"
      ],
      "text/plain": [
       "<IPython.core.display.HTML object>"
      ]
     },
     "metadata": {},
     "output_type": "display_data"
    },
    {
     "data": {
      "text/html": [
       "<span style=\"color:cyan\"> |-Trial ID: 3517da2e60c3f61e13e4dec7847ed054</span>"
      ],
      "text/plain": [
       "<IPython.core.display.HTML object>"
      ]
     },
     "metadata": {},
     "output_type": "display_data"
    },
    {
     "data": {
      "text/html": [
       "<span style=\"color:cyan\"> |-Score: 0.9670329689979553</span>"
      ],
      "text/plain": [
       "<IPython.core.display.HTML object>"
      ]
     },
     "metadata": {},
     "output_type": "display_data"
    },
    {
     "data": {
      "text/html": [
       "<span style=\"color:cyan\"> |-Best step: 0</span>"
      ],
      "text/plain": [
       "<IPython.core.display.HTML object>"
      ]
     },
     "metadata": {},
     "output_type": "display_data"
    },
    {
     "data": {
      "text/html": [
       "<span style=\"color:#7E57C2\"><h2 style=\"font-size:16px\">Hyperparameters:</h2></span>"
      ],
      "text/plain": [
       "<IPython.core.display.HTML object>"
      ]
     },
     "metadata": {},
     "output_type": "display_data"
    },
    {
     "data": {
      "text/html": [
       "<span style=\"color:cyan\"> |-classification_head_1/dropout_rate: 0</span>"
      ],
      "text/plain": [
       "<IPython.core.display.HTML object>"
      ]
     },
     "metadata": {},
     "output_type": "display_data"
    },
    {
     "data": {
      "text/html": [
       "<span style=\"color:blue\"> |-optimizer: adam</span>"
      ],
      "text/plain": [
       "<IPython.core.display.HTML object>"
      ]
     },
     "metadata": {},
     "output_type": "display_data"
    },
    {
     "data": {
      "text/html": [
       "<span style=\"color:cyan\"> |-structured_data_block_1/dense_block_1/dropout_rate: 0.5</span>"
      ],
      "text/plain": [
       "<IPython.core.display.HTML object>"
      ]
     },
     "metadata": {},
     "output_type": "display_data"
    },
    {
     "data": {
      "text/html": [
       "<span style=\"color:blue\"> |-structured_data_block_1/dense_block_1/num_layers: 3</span>"
      ],
      "text/plain": [
       "<IPython.core.display.HTML object>"
      ]
     },
     "metadata": {},
     "output_type": "display_data"
    },
    {
     "data": {
      "text/html": [
       "<span style=\"color:cyan\"> |-structured_data_block_1/dense_block_1/units_0: 1024</span>"
      ],
      "text/plain": [
       "<IPython.core.display.HTML object>"
      ]
     },
     "metadata": {},
     "output_type": "display_data"
    },
    {
     "data": {
      "text/html": [
       "<span style=\"color:blue\"> |-structured_data_block_1/dense_block_1/units_1: 64</span>"
      ],
      "text/plain": [
       "<IPython.core.display.HTML object>"
      ]
     },
     "metadata": {},
     "output_type": "display_data"
    },
    {
     "data": {
      "text/html": [
       "<span style=\"color:cyan\"> |-structured_data_block_1/dense_block_1/units_2: 32</span>"
      ],
      "text/plain": [
       "<IPython.core.display.HTML object>"
      ]
     },
     "metadata": {},
     "output_type": "display_data"
    },
    {
     "data": {
      "text/html": [
       "<span style=\"color:blue\"> |-structured_data_block_1/dense_block_1/use_batchnorm: True</span>"
      ],
      "text/plain": [
       "<IPython.core.display.HTML object>"
      ]
     },
     "metadata": {},
     "output_type": "display_data"
    },
    {
     "data": {
      "text/html": [
       "<span style=\"color:cyan\"> |-structured_data_block_1/dense_block_2/dropout_rate: 0.0</span>"
      ],
      "text/plain": [
       "<IPython.core.display.HTML object>"
      ]
     },
     "metadata": {},
     "output_type": "display_data"
    },
    {
     "data": {
      "text/html": [
       "<span style=\"color:blue\"> |-structured_data_block_1/dense_block_2/num_layers: 3</span>"
      ],
      "text/plain": [
       "<IPython.core.display.HTML object>"
      ]
     },
     "metadata": {},
     "output_type": "display_data"
    },
    {
     "data": {
      "text/html": [
       "<span style=\"color:cyan\"> |-structured_data_block_1/dense_block_2/units_0: 256</span>"
      ],
      "text/plain": [
       "<IPython.core.display.HTML object>"
      ]
     },
     "metadata": {},
     "output_type": "display_data"
    },
    {
     "data": {
      "text/html": [
       "<span style=\"color:blue\"> |-structured_data_block_1/dense_block_2/units_1: 128</span>"
      ],
      "text/plain": [
       "<IPython.core.display.HTML object>"
      ]
     },
     "metadata": {},
     "output_type": "display_data"
    },
    {
     "data": {
      "text/html": [
       "<span style=\"color:cyan\"> |-structured_data_block_1/dense_block_2/units_2: 32</span>"
      ],
      "text/plain": [
       "<IPython.core.display.HTML object>"
      ]
     },
     "metadata": {},
     "output_type": "display_data"
    },
    {
     "data": {
      "text/html": [
       "<span style=\"color:blue\"> |-structured_data_block_1/dense_block_2/use_batchnorm: True</span>"
      ],
      "text/plain": [
       "<IPython.core.display.HTML object>"
      ]
     },
     "metadata": {},
     "output_type": "display_data"
    },
    {
     "name": "stdout",
     "output_type": "stream",
     "text": [
      "Train for 12 steps, validate for 3 steps\n",
      "Epoch 1/1000\n",
      "12/12 [==============================] - ETA: 6s - loss: 40.6628 - accuracy: 0.250 - 1s 72ms/step - loss: 28.5860 - accuracy: 0.4615 - val_loss: 8.0859 - val_accuracy: 0.7253\n",
      "Epoch 2/1000\n",
      "12/12 [==============================] - ETA: 0s - loss: 10.2916 - accuracy: 0.718 - 0s 6ms/step - loss: 14.5885 - accuracy: 0.6236 - val_loss: 2.1948 - val_accuracy: 0.8791\n",
      "Epoch 3/1000\n",
      "12/12 [==============================] - ETA: 0s - loss: 10.8588 - accuracy: 0.750 - 0s 5ms/step - loss: 10.1003 - accuracy: 0.7170 - val_loss: 2.4858 - val_accuracy: 0.8791\n",
      "Epoch 4/1000\n",
      "12/12 [==============================] - ETA: 0s - loss: 3.6739 - accuracy: 0.87 - 0s 5ms/step - loss: 7.2164 - accuracy: 0.8022 - val_loss: 1.8015 - val_accuracy: 0.8791\n",
      "Epoch 5/1000\n",
      "12/12 [==============================] - ETA: 0s - loss: 4.8978 - accuracy: 0.71 - 0s 5ms/step - loss: 6.5835 - accuracy: 0.8049 - val_loss: 2.5855 - val_accuracy: 0.8791\n",
      "Epoch 6/1000\n",
      "12/12 [==============================] - ETA: 0s - loss: 3.1443 - accuracy: 0.84 - 0s 6ms/step - loss: 5.3130 - accuracy: 0.8214 - val_loss: 2.1199 - val_accuracy: 0.8901\n",
      "Epoch 7/1000\n",
      "12/12 [==============================] - ETA: 0s - loss: 3.2222 - accuracy: 0.87 - 0s 6ms/step - loss: 4.4583 - accuracy: 0.8407 - val_loss: 1.2806 - val_accuracy: 0.9341\n",
      "Epoch 8/1000\n",
      "12/12 [==============================] - ETA: 0s - loss: 1.0855 - accuracy: 0.90 - 0s 5ms/step - loss: 4.6205 - accuracy: 0.8269 - val_loss: 2.7367 - val_accuracy: 0.9011\n",
      "Epoch 9/1000\n",
      "12/12 [==============================] - ETA: 0s - loss: 2.4746 - accuracy: 0.84 - 0s 5ms/step - loss: 4.8821 - accuracy: 0.8516 - val_loss: 2.1799 - val_accuracy: 0.9121\n",
      "Epoch 10/1000\n",
      "12/12 [==============================] - ETA: 0s - loss: 5.4657 - accuracy: 0.78 - 0s 5ms/step - loss: 3.7298 - accuracy: 0.8654 - val_loss: 1.1585 - val_accuracy: 0.9231\n",
      "Epoch 11/1000\n",
      "12/12 [==============================] - ETA: 0s - loss: 3.3324 - accuracy: 0.87 - 0s 5ms/step - loss: 3.4453 - accuracy: 0.8681 - val_loss: 1.7091 - val_accuracy: 0.9121\n",
      "Epoch 12/1000\n",
      "12/12 [==============================] - ETA: 0s - loss: 1.6680 - accuracy: 0.87 - 0s 5ms/step - loss: 3.4844 - accuracy: 0.8352 - val_loss: 2.2772 - val_accuracy: 0.9011\n",
      "Epoch 13/1000\n",
      "12/12 [==============================] - ETA: 0s - loss: 4.3964 - accuracy: 0.87 - 0s 5ms/step - loss: 3.7128 - accuracy: 0.8269 - val_loss: 2.0822 - val_accuracy: 0.9011\n",
      "Epoch 14/1000\n",
      "12/12 [==============================] - ETA: 0s - loss: 2.9894 - accuracy: 0.90 - 0s 5ms/step - loss: 3.4667 - accuracy: 0.8599 - val_loss: 0.8528 - val_accuracy: 0.9231\n",
      "Epoch 15/1000\n",
      "12/12 [==============================] - ETA: 0s - loss: 2.6975 - accuracy: 0.87 - 0s 5ms/step - loss: 3.2070 - accuracy: 0.8379 - val_loss: 1.8616 - val_accuracy: 0.9011\n",
      "Epoch 16/1000\n",
      "12/12 [==============================] - ETA: 0s - loss: 0.6584 - accuracy: 0.90 - 0s 5ms/step - loss: 2.8833 - accuracy: 0.8352 - val_loss: 0.7061 - val_accuracy: 0.9231\n",
      "Epoch 17/1000\n",
      "12/12 [==============================] - ETA: 0s - loss: 1.2940 - accuracy: 0.84 - 0s 5ms/step - loss: 2.0119 - accuracy: 0.8434 - val_loss: 0.6932 - val_accuracy: 0.9341\n",
      "Epoch 18/1000\n",
      "12/12 [==============================] - ETA: 0s - loss: 3.5936 - accuracy: 0.71 - 0s 5ms/step - loss: 2.5326 - accuracy: 0.8462 - val_loss: 0.6769 - val_accuracy: 0.9341\n",
      "Epoch 19/1000\n",
      "12/12 [==============================] - ETA: 0s - loss: 1.3596 - accuracy: 0.81 - 0s 5ms/step - loss: 1.5047 - accuracy: 0.8544 - val_loss: 1.6690 - val_accuracy: 0.8901\n",
      "Epoch 20/1000\n",
      "12/12 [==============================] - ETA: 0s - loss: 1.7931 - accuracy: 0.87 - 0s 5ms/step - loss: 2.2622 - accuracy: 0.8489 - val_loss: 0.6259 - val_accuracy: 0.9341\n",
      "Epoch 21/1000\n",
      "12/12 [==============================] - ETA: 0s - loss: 1.8305 - accuracy: 0.87 - 0s 6ms/step - loss: 2.3540 - accuracy: 0.8544 - val_loss: 0.5365 - val_accuracy: 0.9451\n",
      "Epoch 22/1000\n",
      "12/12 [==============================] - ETA: 0s - loss: 1.5134 - accuracy: 0.87 - 0s 5ms/step - loss: 1.7036 - accuracy: 0.8571 - val_loss: 0.5411 - val_accuracy: 0.9341\n",
      "Epoch 23/1000\n",
      "12/12 [==============================] - ETA: 0s - loss: 2.0172 - accuracy: 0.81 - 0s 5ms/step - loss: 1.3672 - accuracy: 0.8571 - val_loss: 0.4748 - val_accuracy: 0.9231\n",
      "Epoch 24/1000\n",
      "12/12 [==============================] - ETA: 0s - loss: 1.7883 - accuracy: 0.84 - 0s 5ms/step - loss: 1.6511 - accuracy: 0.8434 - val_loss: 0.5143 - val_accuracy: 0.9341\n",
      "Epoch 25/1000\n",
      "12/12 [==============================] - ETA: 0s - loss: 0.9798 - accuracy: 0.87 - 0s 5ms/step - loss: 1.6809 - accuracy: 0.8489 - val_loss: 0.5078 - val_accuracy: 0.9341\n",
      "Epoch 26/1000\n",
      "12/12 [==============================] - ETA: 0s - loss: 0.9810 - accuracy: 0.90 - 0s 5ms/step - loss: 1.3468 - accuracy: 0.8736 - val_loss: 0.4211 - val_accuracy: 0.9341\n",
      "Epoch 27/1000\n",
      "12/12 [==============================] - ETA: 0s - loss: 1.1907 - accuracy: 0.87 - 0s 5ms/step - loss: 1.1269 - accuracy: 0.8819 - val_loss: 0.3522 - val_accuracy: 0.9341\n",
      "Epoch 28/1000\n",
      "12/12 [==============================] - ETA: 0s - loss: 1.2802 - accuracy: 0.87 - 0s 5ms/step - loss: 1.0389 - accuracy: 0.8626 - val_loss: 0.5402 - val_accuracy: 0.9121\n",
      "Epoch 29/1000\n",
      "12/12 [==============================] - ETA: 0s - loss: 2.4344 - accuracy: 0.90 - 0s 5ms/step - loss: 1.1576 - accuracy: 0.8681 - val_loss: 0.3701 - val_accuracy: 0.9341\n",
      "Epoch 30/1000\n",
      "12/12 [==============================] - ETA: 0s - loss: 1.3760 - accuracy: 0.68 - 0s 5ms/step - loss: 1.1195 - accuracy: 0.8571 - val_loss: 0.3903 - val_accuracy: 0.9341\n",
      "Epoch 31/1000\n",
      "12/12 [==============================] - ETA: 0s - loss: 0.8614 - accuracy: 0.87 - 0s 5ms/step - loss: 1.0283 - accuracy: 0.8764 - val_loss: 0.3682 - val_accuracy: 0.9341\n",
      "Epoch 32/1000\n",
      "12/12 [==============================] - ETA: 0s - loss: 1.2925 - accuracy: 0.84 - 0s 5ms/step - loss: 0.9922 - accuracy: 0.8681 - val_loss: 0.3713 - val_accuracy: 0.9341\n",
      "Epoch 33/1000\n",
      "12/12 [==============================] - ETA: 0s - loss: 0.7426 - accuracy: 0.78 - 0s 5ms/step - loss: 0.8381 - accuracy: 0.8736 - val_loss: 0.4143 - val_accuracy: 0.9231\n",
      "Epoch 34/1000\n",
      "12/12 [==============================] - ETA: 0s - loss: 1.2757 - accuracy: 0.87 - 0s 5ms/step - loss: 1.1419 - accuracy: 0.8516 - val_loss: 0.5475 - val_accuracy: 0.9011\n",
      "Epoch 35/1000\n",
      "12/12 [==============================] - ETA: 0s - loss: 0.6735 - accuracy: 0.87 - 0s 5ms/step - loss: 0.7463 - accuracy: 0.8819 - val_loss: 0.2880 - val_accuracy: 0.9231\n",
      "Epoch 36/1000\n",
      "12/12 [==============================] - ETA: 0s - loss: 0.3557 - accuracy: 0.90 - 0s 5ms/step - loss: 0.8888 - accuracy: 0.8791 - val_loss: 0.2683 - val_accuracy: 0.9341\n",
      "Epoch 37/1000\n",
      "12/12 [==============================] - ETA: 0s - loss: 0.8066 - accuracy: 0.84 - 0s 5ms/step - loss: 0.7233 - accuracy: 0.8791 - val_loss: 0.2784 - val_accuracy: 0.9231\n",
      "Epoch 38/1000\n",
      "12/12 [==============================] - ETA: 0s - loss: 0.7589 - accuracy: 0.81 - 0s 5ms/step - loss: 0.7975 - accuracy: 0.8654 - val_loss: 0.2751 - val_accuracy: 0.9341\n",
      "Epoch 39/1000\n",
      "12/12 [==============================] - ETA: 0s - loss: 0.1992 - accuracy: 0.90 - 0s 5ms/step - loss: 0.6653 - accuracy: 0.8929 - val_loss: 0.2134 - val_accuracy: 0.9231\n",
      "Epoch 40/1000\n",
      "12/12 [==============================] - ETA: 0s - loss: 0.5792 - accuracy: 0.87 - 0s 5ms/step - loss: 0.5287 - accuracy: 0.8681 - val_loss: 0.2127 - val_accuracy: 0.9231\n",
      "Epoch 41/1000\n",
      "12/12 [==============================] - ETA: 0s - loss: 0.5293 - accuracy: 0.90 - 0s 5ms/step - loss: 0.6138 - accuracy: 0.8764 - val_loss: 0.2042 - val_accuracy: 0.9341\n",
      "Epoch 42/1000\n",
      "12/12 [==============================] - ETA: 0s - loss: 0.4977 - accuracy: 0.81 - 0s 5ms/step - loss: 0.6809 - accuracy: 0.8736 - val_loss: 0.2202 - val_accuracy: 0.9231\n",
      "Epoch 43/1000\n",
      "12/12 [==============================] - ETA: 0s - loss: 0.9697 - accuracy: 0.84 - 0s 5ms/step - loss: 0.5689 - accuracy: 0.8846 - val_loss: 0.2036 - val_accuracy: 0.9341\n",
      "Epoch 44/1000\n",
      "12/12 [==============================] - ETA: 0s - loss: 0.2385 - accuracy: 0.90 - 0s 5ms/step - loss: 0.7152 - accuracy: 0.8819 - val_loss: 0.1974 - val_accuracy: 0.9341\n",
      "Epoch 45/1000\n",
      "12/12 [==============================] - ETA: 0s - loss: 0.6997 - accuracy: 0.81 - 0s 5ms/step - loss: 0.6666 - accuracy: 0.8736 - val_loss: 0.2005 - val_accuracy: 0.9341\n",
      "Epoch 46/1000\n",
      "12/12 [==============================] - ETA: 0s - loss: 0.1585 - accuracy: 0.96 - 0s 5ms/step - loss: 0.4367 - accuracy: 0.8874 - val_loss: 0.2051 - val_accuracy: 0.9341\n",
      "Epoch 47/1000\n",
      "12/12 [==============================] - ETA: 0s - loss: 0.9134 - accuracy: 0.87 - 0s 5ms/step - loss: 0.4522 - accuracy: 0.8984 - val_loss: 0.2063 - val_accuracy: 0.9341\n",
      "Epoch 48/1000\n",
      "12/12 [==============================] - ETA: 0s - loss: 0.4281 - accuracy: 0.87 - 0s 5ms/step - loss: 0.4581 - accuracy: 0.8736 - val_loss: 0.2279 - val_accuracy: 0.9231\n",
      "Epoch 49/1000\n",
      "12/12 [==============================] - ETA: 0s - loss: 0.4009 - accuracy: 0.87 - 0s 5ms/step - loss: 0.4616 - accuracy: 0.9066 - val_loss: 0.2154 - val_accuracy: 0.9231\n",
      "Epoch 50/1000\n",
      "12/12 [==============================] - ETA: 0s - loss: 0.3668 - accuracy: 0.90 - 0s 5ms/step - loss: 0.3992 - accuracy: 0.9011 - val_loss: 0.2089 - val_accuracy: 0.9231\n",
      "Epoch 51/1000\n",
      "12/12 [==============================] - ETA: 0s - loss: 0.2123 - accuracy: 0.93 - 0s 5ms/step - loss: 0.3563 - accuracy: 0.9148 - val_loss: 0.2130 - val_accuracy: 0.9341\n",
      "Epoch 52/1000\n",
      "12/12 [==============================] - ETA: 0s - loss: 0.2059 - accuracy: 0.87 - 0s 5ms/step - loss: 0.4045 - accuracy: 0.8764 - val_loss: 0.2319 - val_accuracy: 0.9231\n",
      "Epoch 53/1000\n",
      "12/12 [==============================] - ETA: 0s - loss: 0.3829 - accuracy: 0.87 - 0s 5ms/step - loss: 0.3924 - accuracy: 0.9011 - val_loss: 0.2487 - val_accuracy: 0.9341\n",
      "Epoch 54/1000\n",
      "12/12 [==============================] - ETA: 0s - loss: 0.4840 - accuracy: 0.90 - 0s 5ms/step - loss: 0.3900 - accuracy: 0.8874 - val_loss: 0.2200 - val_accuracy: 0.9231\n"
     ]
    },
    {
     "data": {
      "text/html": [
       "<span style=\"color:#4527A0\"><h1 style=\"font-size:18px\">Trial complete</h1></span>"
      ],
      "text/plain": [
       "<IPython.core.display.HTML object>"
      ]
     },
     "metadata": {},
     "output_type": "display_data"
    },
    {
     "data": {
      "text/html": [
       "<span style=\"color:#4527A0\"><h1 style=\"font-size:18px\">Trial summary</h1></span>"
      ],
      "text/plain": [
       "<IPython.core.display.HTML object>"
      ]
     },
     "metadata": {},
     "output_type": "display_data"
    },
    {
     "data": {
      "text/html": [
       "<span style=\"color:cyan\"> |-Trial ID: 93d746c75d913f8690114d1636d1f9e2</span>"
      ],
      "text/plain": [
       "<IPython.core.display.HTML object>"
      ]
     },
     "metadata": {},
     "output_type": "display_data"
    },
    {
     "data": {
      "text/html": [
       "<span style=\"color:cyan\"> |-Score: 0.9450549483299255</span>"
      ],
      "text/plain": [
       "<IPython.core.display.HTML object>"
      ]
     },
     "metadata": {},
     "output_type": "display_data"
    },
    {
     "data": {
      "text/html": [
       "<span style=\"color:cyan\"> |-Best step: 0</span>"
      ],
      "text/plain": [
       "<IPython.core.display.HTML object>"
      ]
     },
     "metadata": {},
     "output_type": "display_data"
    },
    {
     "data": {
      "text/html": [
       "<span style=\"color:#7E57C2\"><h2 style=\"font-size:16px\">Hyperparameters:</h2></span>"
      ],
      "text/plain": [
       "<IPython.core.display.HTML object>"
      ]
     },
     "metadata": {},
     "output_type": "display_data"
    },
    {
     "data": {
      "text/html": [
       "<span style=\"color:cyan\"> |-classification_head_1/dropout_rate: 0</span>"
      ],
      "text/plain": [
       "<IPython.core.display.HTML object>"
      ]
     },
     "metadata": {},
     "output_type": "display_data"
    },
    {
     "data": {
      "text/html": [
       "<span style=\"color:blue\"> |-optimizer: adam</span>"
      ],
      "text/plain": [
       "<IPython.core.display.HTML object>"
      ]
     },
     "metadata": {},
     "output_type": "display_data"
    },
    {
     "data": {
      "text/html": [
       "<span style=\"color:cyan\"> |-structured_data_block_1/dense_block_1/dropout_rate: 0.25</span>"
      ],
      "text/plain": [
       "<IPython.core.display.HTML object>"
      ]
     },
     "metadata": {},
     "output_type": "display_data"
    },
    {
     "data": {
      "text/html": [
       "<span style=\"color:blue\"> |-structured_data_block_1/dense_block_1/num_layers: 2</span>"
      ],
      "text/plain": [
       "<IPython.core.display.HTML object>"
      ]
     },
     "metadata": {},
     "output_type": "display_data"
    },
    {
     "data": {
      "text/html": [
       "<span style=\"color:cyan\"> |-structured_data_block_1/dense_block_1/units_0: 128</span>"
      ],
      "text/plain": [
       "<IPython.core.display.HTML object>"
      ]
     },
     "metadata": {},
     "output_type": "display_data"
    },
    {
     "data": {
      "text/html": [
       "<span style=\"color:blue\"> |-structured_data_block_1/dense_block_1/units_1: 256</span>"
      ],
      "text/plain": [
       "<IPython.core.display.HTML object>"
      ]
     },
     "metadata": {},
     "output_type": "display_data"
    },
    {
     "data": {
      "text/html": [
       "<span style=\"color:cyan\"> |-structured_data_block_1/dense_block_1/units_2: 256</span>"
      ],
      "text/plain": [
       "<IPython.core.display.HTML object>"
      ]
     },
     "metadata": {},
     "output_type": "display_data"
    },
    {
     "data": {
      "text/html": [
       "<span style=\"color:blue\"> |-structured_data_block_1/dense_block_1/use_batchnorm: False</span>"
      ],
      "text/plain": [
       "<IPython.core.display.HTML object>"
      ]
     },
     "metadata": {},
     "output_type": "display_data"
    },
    {
     "data": {
      "text/html": [
       "<span style=\"color:cyan\"> |-structured_data_block_1/dense_block_2/dropout_rate: 0.0</span>"
      ],
      "text/plain": [
       "<IPython.core.display.HTML object>"
      ]
     },
     "metadata": {},
     "output_type": "display_data"
    },
    {
     "data": {
      "text/html": [
       "<span style=\"color:blue\"> |-structured_data_block_1/dense_block_2/num_layers: 3</span>"
      ],
      "text/plain": [
       "<IPython.core.display.HTML object>"
      ]
     },
     "metadata": {},
     "output_type": "display_data"
    },
    {
     "data": {
      "text/html": [
       "<span style=\"color:cyan\"> |-structured_data_block_1/dense_block_2/units_0: 128</span>"
      ],
      "text/plain": [
       "<IPython.core.display.HTML object>"
      ]
     },
     "metadata": {},
     "output_type": "display_data"
    },
    {
     "data": {
      "text/html": [
       "<span style=\"color:blue\"> |-structured_data_block_1/dense_block_2/units_1: 64</span>"
      ],
      "text/plain": [
       "<IPython.core.display.HTML object>"
      ]
     },
     "metadata": {},
     "output_type": "display_data"
    },
    {
     "data": {
      "text/html": [
       "<span style=\"color:cyan\"> |-structured_data_block_1/dense_block_2/units_2: 256</span>"
      ],
      "text/plain": [
       "<IPython.core.display.HTML object>"
      ]
     },
     "metadata": {},
     "output_type": "display_data"
    },
    {
     "data": {
      "text/html": [
       "<span style=\"color:blue\"> |-structured_data_block_1/dense_block_2/use_batchnorm: True</span>"
      ],
      "text/plain": [
       "<IPython.core.display.HTML object>"
      ]
     },
     "metadata": {},
     "output_type": "display_data"
    },
    {
     "name": "stdout",
     "output_type": "stream",
     "text": [
      "Train for 12 steps, validate for 3 steps\n",
      "Epoch 1/1000\n",
      "12/12 [==============================] - ETA: 7s - loss: 3.3355 - accuracy: 0.59 - ETA: 0s - loss: 8.7795 - accuracy: 0.56 - 1s 83ms/step - loss: 7.4344 - accuracy: 0.5495 - val_loss: 1.3797 - val_accuracy: 0.7802\n",
      "Epoch 2/1000\n",
      "12/12 [==============================] - ETA: 0s - loss: 3.8638 - accuracy: 0.75 - ETA: 0s - loss: 3.7476 - accuracy: 0.62 - 0s 10ms/step - loss: 3.1374 - accuracy: 0.6538 - val_loss: 0.4678 - val_accuracy: 0.8352\n",
      "Epoch 3/1000\n",
      "12/12 [==============================] - ETA: 0s - loss: 0.9500 - accuracy: 0.68 - ETA: 0s - loss: 1.8744 - accuracy: 0.65 - 0s 10ms/step - loss: 1.6900 - accuracy: 0.6841 - val_loss: 0.3045 - val_accuracy: 0.8681\n",
      "Epoch 4/1000\n",
      "12/12 [==============================] - ETA: 0s - loss: 0.2455 - accuracy: 0.90 - ETA: 0s - loss: 0.6370 - accuracy: 0.76 - 0s 10ms/step - loss: 0.6280 - accuracy: 0.7802 - val_loss: 0.2358 - val_accuracy: 0.9231\n",
      "Epoch 5/1000\n",
      "12/12 [==============================] - ETA: 0s - loss: 0.8004 - accuracy: 0.68 - ETA: 0s - loss: 0.8288 - accuracy: 0.72 - 0s 9ms/step - loss: 0.8944 - accuracy: 0.7390 - val_loss: 0.3487 - val_accuracy: 0.8242\n",
      "Epoch 6/1000\n",
      "12/12 [==============================] - ETA: 0s - loss: 0.2999 - accuracy: 0.90 - ETA: 0s - loss: 0.5318 - accuracy: 0.81 - 0s 9ms/step - loss: 0.5313 - accuracy: 0.8022 - val_loss: 0.3619 - val_accuracy: 0.8681\n",
      "Epoch 7/1000\n",
      "12/12 [==============================] - ETA: 0s - loss: 0.4561 - accuracy: 0.84 - ETA: 0s - loss: 0.4599 - accuracy: 0.80 - 0s 9ms/step - loss: 0.4553 - accuracy: 0.8187 - val_loss: 0.3909 - val_accuracy: 0.8462\n",
      "Epoch 8/1000\n",
      "12/12 [==============================] - ETA: 0s - loss: 0.4010 - accuracy: 0.87 - ETA: 0s - loss: 0.4686 - accuracy: 0.82 - 0s 10ms/step - loss: 0.5124 - accuracy: 0.8214 - val_loss: 0.4436 - val_accuracy: 0.7363\n",
      "Epoch 9/1000\n",
      "12/12 [==============================] - ETA: 0s - loss: 0.3842 - accuracy: 0.84 - ETA: 0s - loss: 0.4088 - accuracy: 0.83 - 0s 9ms/step - loss: 0.4056 - accuracy: 0.8352 - val_loss: 0.3314 - val_accuracy: 0.9121\n",
      "Epoch 10/1000\n",
      "12/12 [==============================] - ETA: 0s - loss: 0.4032 - accuracy: 0.84 - ETA: 0s - loss: 0.4316 - accuracy: 0.85 - 0s 9ms/step - loss: 0.4779 - accuracy: 0.8434 - val_loss: 0.2648 - val_accuracy: 0.9011\n",
      "Epoch 11/1000\n",
      "12/12 [==============================] - ETA: 0s - loss: 0.1396 - accuracy: 1.00 - ETA: 0s - loss: 0.3626 - accuracy: 0.87 - 0s 9ms/step - loss: 0.3948 - accuracy: 0.8709 - val_loss: 0.4010 - val_accuracy: 0.8242\n",
      "Epoch 12/1000\n",
      "12/12 [==============================] - ETA: 0s - loss: 0.4561 - accuracy: 0.87 - ETA: 0s - loss: 0.4196 - accuracy: 0.87 - 0s 9ms/step - loss: 0.4347 - accuracy: 0.8489 - val_loss: 0.4161 - val_accuracy: 0.8132\n",
      "Epoch 13/1000\n",
      "12/12 [==============================] - ETA: 0s - loss: 0.4312 - accuracy: 0.78 - ETA: 0s - loss: 0.3309 - accuracy: 0.87 - 0s 9ms/step - loss: 0.3349 - accuracy: 0.8736 - val_loss: 0.2931 - val_accuracy: 0.8681\n",
      "Epoch 14/1000\n",
      "12/12 [==============================] - ETA: 0s - loss: 0.3476 - accuracy: 0.93 - ETA: 0s - loss: 0.4184 - accuracy: 0.88 - 0s 9ms/step - loss: 0.4216 - accuracy: 0.8764 - val_loss: 0.2684 - val_accuracy: 0.8901\n"
     ]
    },
    {
     "data": {
      "text/html": [
       "<span style=\"color:#4527A0\"><h1 style=\"font-size:18px\">Trial complete</h1></span>"
      ],
      "text/plain": [
       "<IPython.core.display.HTML object>"
      ]
     },
     "metadata": {},
     "output_type": "display_data"
    },
    {
     "data": {
      "text/html": [
       "<span style=\"color:#4527A0\"><h1 style=\"font-size:18px\">Trial summary</h1></span>"
      ],
      "text/plain": [
       "<IPython.core.display.HTML object>"
      ]
     },
     "metadata": {},
     "output_type": "display_data"
    },
    {
     "data": {
      "text/html": [
       "<span style=\"color:cyan\"> |-Trial ID: 27fd1e1da15fa9ccf715264cd212ebb5</span>"
      ],
      "text/plain": [
       "<IPython.core.display.HTML object>"
      ]
     },
     "metadata": {},
     "output_type": "display_data"
    },
    {
     "data": {
      "text/html": [
       "<span style=\"color:cyan\"> |-Score: 0.9230769276618958</span>"
      ],
      "text/plain": [
       "<IPython.core.display.HTML object>"
      ]
     },
     "metadata": {},
     "output_type": "display_data"
    },
    {
     "data": {
      "text/html": [
       "<span style=\"color:cyan\"> |-Best step: 0</span>"
      ],
      "text/plain": [
       "<IPython.core.display.HTML object>"
      ]
     },
     "metadata": {},
     "output_type": "display_data"
    },
    {
     "data": {
      "text/html": [
       "<span style=\"color:#7E57C2\"><h2 style=\"font-size:16px\">Hyperparameters:</h2></span>"
      ],
      "text/plain": [
       "<IPython.core.display.HTML object>"
      ]
     },
     "metadata": {},
     "output_type": "display_data"
    },
    {
     "data": {
      "text/html": [
       "<span style=\"color:cyan\"> |-classification_head_1/dropout_rate: 0</span>"
      ],
      "text/plain": [
       "<IPython.core.display.HTML object>"
      ]
     },
     "metadata": {},
     "output_type": "display_data"
    },
    {
     "data": {
      "text/html": [
       "<span style=\"color:blue\"> |-optimizer: adam</span>"
      ],
      "text/plain": [
       "<IPython.core.display.HTML object>"
      ]
     },
     "metadata": {},
     "output_type": "display_data"
    },
    {
     "data": {
      "text/html": [
       "<span style=\"color:cyan\"> |-structured_data_block_1/dense_block_1/dropout_rate: 0.25</span>"
      ],
      "text/plain": [
       "<IPython.core.display.HTML object>"
      ]
     },
     "metadata": {},
     "output_type": "display_data"
    },
    {
     "data": {
      "text/html": [
       "<span style=\"color:blue\"> |-structured_data_block_1/dense_block_1/num_layers: 3</span>"
      ],
      "text/plain": [
       "<IPython.core.display.HTML object>"
      ]
     },
     "metadata": {},
     "output_type": "display_data"
    },
    {
     "data": {
      "text/html": [
       "<span style=\"color:cyan\"> |-structured_data_block_1/dense_block_1/units_0: 1024</span>"
      ],
      "text/plain": [
       "<IPython.core.display.HTML object>"
      ]
     },
     "metadata": {},
     "output_type": "display_data"
    },
    {
     "data": {
      "text/html": [
       "<span style=\"color:blue\"> |-structured_data_block_1/dense_block_1/units_1: 128</span>"
      ],
      "text/plain": [
       "<IPython.core.display.HTML object>"
      ]
     },
     "metadata": {},
     "output_type": "display_data"
    },
    {
     "data": {
      "text/html": [
       "<span style=\"color:cyan\"> |-structured_data_block_1/dense_block_1/units_2: 1024</span>"
      ],
      "text/plain": [
       "<IPython.core.display.HTML object>"
      ]
     },
     "metadata": {},
     "output_type": "display_data"
    },
    {
     "data": {
      "text/html": [
       "<span style=\"color:blue\"> |-structured_data_block_1/dense_block_1/use_batchnorm: False</span>"
      ],
      "text/plain": [
       "<IPython.core.display.HTML object>"
      ]
     },
     "metadata": {},
     "output_type": "display_data"
    },
    {
     "data": {
      "text/html": [
       "<span style=\"color:cyan\"> |-structured_data_block_1/dense_block_2/dropout_rate: 0.5</span>"
      ],
      "text/plain": [
       "<IPython.core.display.HTML object>"
      ]
     },
     "metadata": {},
     "output_type": "display_data"
    },
    {
     "data": {
      "text/html": [
       "<span style=\"color:blue\"> |-structured_data_block_1/dense_block_2/num_layers: 3</span>"
      ],
      "text/plain": [
       "<IPython.core.display.HTML object>"
      ]
     },
     "metadata": {},
     "output_type": "display_data"
    },
    {
     "data": {
      "text/html": [
       "<span style=\"color:cyan\"> |-structured_data_block_1/dense_block_2/units_0: 1024</span>"
      ],
      "text/plain": [
       "<IPython.core.display.HTML object>"
      ]
     },
     "metadata": {},
     "output_type": "display_data"
    },
    {
     "data": {
      "text/html": [
       "<span style=\"color:blue\"> |-structured_data_block_1/dense_block_2/units_1: 1024</span>"
      ],
      "text/plain": [
       "<IPython.core.display.HTML object>"
      ]
     },
     "metadata": {},
     "output_type": "display_data"
    },
    {
     "data": {
      "text/html": [
       "<span style=\"color:cyan\"> |-structured_data_block_1/dense_block_2/units_2: 256</span>"
      ],
      "text/plain": [
       "<IPython.core.display.HTML object>"
      ]
     },
     "metadata": {},
     "output_type": "display_data"
    },
    {
     "data": {
      "text/html": [
       "<span style=\"color:blue\"> |-structured_data_block_1/dense_block_2/use_batchnorm: True</span>"
      ],
      "text/plain": [
       "<IPython.core.display.HTML object>"
      ]
     },
     "metadata": {},
     "output_type": "display_data"
    },
    {
     "name": "stdout",
     "output_type": "stream",
     "text": [
      "Train for 12 steps, validate for 3 steps\n",
      "Epoch 1/1000\n",
      "12/12 [==============================] - ETA: 13s - loss: 0.6127 - accuracy: 0.656 - 2s 126ms/step - loss: 0.3869 - accuracy: 0.8626 - val_loss: 7.9654 - val_accuracy: 0.4176\n",
      "Epoch 2/1000\n",
      "12/12 [==============================] - ETA: 0s - loss: 0.3719 - accuracy: 0.78 - 0s 7ms/step - loss: 0.2860 - accuracy: 0.9011 - val_loss: 5.2018 - val_accuracy: 0.4176\n",
      "Epoch 3/1000\n",
      "12/12 [==============================] - ETA: 0s - loss: 0.2996 - accuracy: 0.90 - 0s 8ms/step - loss: 0.2620 - accuracy: 0.9176 - val_loss: 3.2793 - val_accuracy: 0.4286\n",
      "Epoch 4/1000\n",
      "12/12 [==============================] - ETA: 0s - loss: 0.3174 - accuracy: 0.84 - 0s 8ms/step - loss: 0.2437 - accuracy: 0.8984 - val_loss: 2.0846 - val_accuracy: 0.4396\n",
      "Epoch 5/1000\n",
      "12/12 [==============================] - ETA: 0s - loss: 0.2902 - accuracy: 0.87 - 0s 8ms/step - loss: 0.2154 - accuracy: 0.9286 - val_loss: 1.1727 - val_accuracy: 0.4945\n",
      "Epoch 6/1000\n",
      "12/12 [==============================] - ETA: 0s - loss: 0.2669 - accuracy: 0.90 - 0s 8ms/step - loss: 0.2036 - accuracy: 0.9313 - val_loss: 0.7125 - val_accuracy: 0.6484\n",
      "Epoch 7/1000\n",
      "12/12 [==============================] - ETA: 0s - loss: 0.2210 - accuracy: 0.90 - 0s 8ms/step - loss: 0.1988 - accuracy: 0.9313 - val_loss: 0.6496 - val_accuracy: 0.6593\n",
      "Epoch 8/1000\n",
      "12/12 [==============================] - ETA: 0s - loss: 0.2161 - accuracy: 0.93 - 0s 7ms/step - loss: 0.1745 - accuracy: 0.9368 - val_loss: 0.6607 - val_accuracy: 0.6593\n",
      "Epoch 9/1000\n",
      "12/12 [==============================] - ETA: 0s - loss: 0.1843 - accuracy: 0.93 - 0s 8ms/step - loss: 0.1528 - accuracy: 0.9533 - val_loss: 0.4952 - val_accuracy: 0.7143\n",
      "Epoch 10/1000\n",
      "12/12 [==============================] - ETA: 0s - loss: 0.2607 - accuracy: 0.93 - 0s 8ms/step - loss: 0.1706 - accuracy: 0.9396 - val_loss: 0.3971 - val_accuracy: 0.7692\n",
      "Epoch 11/1000\n",
      "12/12 [==============================] - ETA: 0s - loss: 0.1901 - accuracy: 0.90 - 0s 8ms/step - loss: 0.1525 - accuracy: 0.9478 - val_loss: 0.3590 - val_accuracy: 0.7912\n",
      "Epoch 12/1000\n",
      "12/12 [==============================] - ETA: 0s - loss: 0.1777 - accuracy: 0.93 - 0s 8ms/step - loss: 0.1507 - accuracy: 0.9478 - val_loss: 0.2116 - val_accuracy: 0.9231\n",
      "Epoch 13/1000\n",
      "12/12 [==============================] - ETA: 0s - loss: 0.1798 - accuracy: 0.93 - 0s 7ms/step - loss: 0.1423 - accuracy: 0.9423 - val_loss: 0.2544 - val_accuracy: 0.9011\n",
      "Epoch 14/1000\n",
      "12/12 [==============================] - ETA: 0s - loss: 0.1391 - accuracy: 0.93 - 0s 8ms/step - loss: 0.1246 - accuracy: 0.9588 - val_loss: 0.2062 - val_accuracy: 0.9341\n",
      "Epoch 15/1000\n",
      "12/12 [==============================] - ETA: 0s - loss: 0.1523 - accuracy: 0.96 - 0s 7ms/step - loss: 0.1357 - accuracy: 0.9560 - val_loss: 0.2264 - val_accuracy: 0.9011\n",
      "Epoch 16/1000\n",
      "12/12 [==============================] - ETA: 0s - loss: 0.1841 - accuracy: 0.96 - 0s 7ms/step - loss: 0.1458 - accuracy: 0.9560 - val_loss: 0.1900 - val_accuracy: 0.9341\n",
      "Epoch 17/1000\n",
      "12/12 [==============================] - ETA: 0s - loss: 0.1905 - accuracy: 0.93 - 0s 8ms/step - loss: 0.1318 - accuracy: 0.9560 - val_loss: 0.1228 - val_accuracy: 0.9670\n",
      "Epoch 18/1000\n",
      "12/12 [==============================] - ETA: 0s - loss: 0.1174 - accuracy: 0.96 - 0s 7ms/step - loss: 0.1260 - accuracy: 0.9533 - val_loss: 0.1238 - val_accuracy: 0.9670\n",
      "Epoch 19/1000\n",
      "12/12 [==============================] - ETA: 0s - loss: 0.1676 - accuracy: 0.96 - 0s 7ms/step - loss: 0.1236 - accuracy: 0.9588 - val_loss: 0.1348 - val_accuracy: 0.9670\n",
      "Epoch 20/1000\n",
      "12/12 [==============================] - ETA: 0s - loss: 0.1670 - accuracy: 0.93 - 0s 7ms/step - loss: 0.1154 - accuracy: 0.9615 - val_loss: 0.1528 - val_accuracy: 0.9560\n",
      "Epoch 21/1000\n",
      "12/12 [==============================] - ETA: 0s - loss: 0.1536 - accuracy: 0.93 - 0s 7ms/step - loss: 0.1105 - accuracy: 0.9615 - val_loss: 0.2032 - val_accuracy: 0.9451\n",
      "Epoch 22/1000\n",
      "12/12 [==============================] - ETA: 0s - loss: 0.1287 - accuracy: 0.96 - 0s 7ms/step - loss: 0.1259 - accuracy: 0.9588 - val_loss: 0.1590 - val_accuracy: 0.9560\n",
      "Epoch 23/1000\n",
      "12/12 [==============================] - ETA: 0s - loss: 0.1453 - accuracy: 0.93 - 0s 7ms/step - loss: 0.1216 - accuracy: 0.9505 - val_loss: 0.1117 - val_accuracy: 0.9560\n",
      "Epoch 24/1000\n",
      "12/12 [==============================] - ETA: 0s - loss: 0.1676 - accuracy: 0.96 - 0s 7ms/step - loss: 0.1295 - accuracy: 0.9505 - val_loss: 0.1482 - val_accuracy: 0.9451\n",
      "Epoch 25/1000\n",
      "12/12 [==============================] - ETA: 0s - loss: 0.1226 - accuracy: 0.96 - 0s 7ms/step - loss: 0.0985 - accuracy: 0.9588 - val_loss: 0.0990 - val_accuracy: 0.9670\n",
      "Epoch 26/1000\n",
      "12/12 [==============================] - ETA: 0s - loss: 0.1789 - accuracy: 0.93 - 0s 7ms/step - loss: 0.1169 - accuracy: 0.9615 - val_loss: 0.1013 - val_accuracy: 0.9670\n",
      "Epoch 27/1000\n",
      "12/12 [==============================] - ETA: 0s - loss: 0.1402 - accuracy: 0.96 - 0s 7ms/step - loss: 0.1136 - accuracy: 0.9643 - val_loss: 0.1000 - val_accuracy: 0.9560\n",
      "Epoch 28/1000\n",
      "12/12 [==============================] - ETA: 0s - loss: 0.1605 - accuracy: 0.96 - 0s 7ms/step - loss: 0.1018 - accuracy: 0.9670 - val_loss: 0.1082 - val_accuracy: 0.9670\n",
      "Epoch 29/1000\n",
      "12/12 [==============================] - ETA: 0s - loss: 0.1419 - accuracy: 0.96 - 0s 7ms/step - loss: 0.1046 - accuracy: 0.9643 - val_loss: 0.1099 - val_accuracy: 0.9670\n",
      "Epoch 30/1000\n",
      "12/12 [==============================] - ETA: 0s - loss: 0.1584 - accuracy: 0.96 - 0s 7ms/step - loss: 0.1127 - accuracy: 0.9615 - val_loss: 0.0955 - val_accuracy: 0.9670\n",
      "Epoch 31/1000\n",
      "12/12 [==============================] - ETA: 0s - loss: 0.1240 - accuracy: 0.96 - 0s 7ms/step - loss: 0.1043 - accuracy: 0.9670 - val_loss: 0.1005 - val_accuracy: 0.9670\n",
      "Epoch 32/1000\n",
      "12/12 [==============================] - ETA: 0s - loss: 0.1166 - accuracy: 0.96 - 0s 7ms/step - loss: 0.1049 - accuracy: 0.9560 - val_loss: 0.1155 - val_accuracy: 0.9670\n",
      "Epoch 33/1000\n",
      "12/12 [==============================] - ETA: 0s - loss: 0.1549 - accuracy: 0.93 - 0s 7ms/step - loss: 0.1131 - accuracy: 0.9505 - val_loss: 0.0963 - val_accuracy: 0.9560\n",
      "Epoch 34/1000\n",
      "12/12 [==============================] - ETA: 0s - loss: 0.1180 - accuracy: 0.96 - 0s 7ms/step - loss: 0.0953 - accuracy: 0.9643 - val_loss: 0.0920 - val_accuracy: 0.9670\n",
      "Epoch 35/1000\n",
      "12/12 [==============================] - ETA: 0s - loss: 0.1382 - accuracy: 0.93 - 0s 7ms/step - loss: 0.1031 - accuracy: 0.9533 - val_loss: 0.0892 - val_accuracy: 0.9670\n",
      "Epoch 36/1000\n",
      "12/12 [==============================] - ETA: 0s - loss: 0.0946 - accuracy: 0.96 - 0s 7ms/step - loss: 0.0959 - accuracy: 0.9670 - val_loss: 0.0874 - val_accuracy: 0.9670\n",
      "Epoch 37/1000\n",
      "12/12 [==============================] - ETA: 0s - loss: 0.1672 - accuracy: 0.90 - 0s 6ms/step - loss: 0.0967 - accuracy: 0.9643 - val_loss: 0.1713 - val_accuracy: 0.9341\n",
      "Epoch 38/1000\n",
      "12/12 [==============================] - ETA: 0s - loss: 0.1306 - accuracy: 0.96 - 0s 6ms/step - loss: 0.0886 - accuracy: 0.9753 - val_loss: 0.1147 - val_accuracy: 0.9560\n",
      "Epoch 39/1000\n",
      "12/12 [==============================] - ETA: 0s - loss: 0.1358 - accuracy: 0.96 - 0s 7ms/step - loss: 0.1088 - accuracy: 0.9560 - val_loss: 0.1017 - val_accuracy: 0.9560\n",
      "Epoch 40/1000\n",
      "12/12 [==============================] - ETA: 0s - loss: 0.0936 - accuracy: 0.96 - 0s 7ms/step - loss: 0.0944 - accuracy: 0.9615 - val_loss: 0.1283 - val_accuracy: 0.9560\n",
      "Epoch 41/1000\n",
      "12/12 [==============================] - ETA: 0s - loss: 0.1288 - accuracy: 0.96 - 0s 7ms/step - loss: 0.0913 - accuracy: 0.9725 - val_loss: 0.1507 - val_accuracy: 0.9560\n",
      "Epoch 42/1000\n",
      "12/12 [==============================] - ETA: 0s - loss: 0.1771 - accuracy: 0.93 - 0s 7ms/step - loss: 0.0973 - accuracy: 0.9643 - val_loss: 0.1225 - val_accuracy: 0.9451\n",
      "Epoch 43/1000\n",
      "12/12 [==============================] - ETA: 0s - loss: 0.1208 - accuracy: 0.96 - 0s 7ms/step - loss: 0.1009 - accuracy: 0.9670 - val_loss: 0.1402 - val_accuracy: 0.9341\n",
      "Epoch 44/1000\n",
      "12/12 [==============================] - ETA: 0s - loss: 0.1270 - accuracy: 0.93 - 0s 8ms/step - loss: 0.0954 - accuracy: 0.9615 - val_loss: 0.0879 - val_accuracy: 0.9780\n",
      "Epoch 45/1000\n",
      "12/12 [==============================] - ETA: 0s - loss: 0.0541 - accuracy: 1.00 - 0s 7ms/step - loss: 0.1061 - accuracy: 0.9560 - val_loss: 0.0861 - val_accuracy: 0.9670\n",
      "Epoch 46/1000\n",
      "12/12 [==============================] - ETA: 0s - loss: 0.1020 - accuracy: 0.96 - 0s 6ms/step - loss: 0.0765 - accuracy: 0.9780 - val_loss: 0.0917 - val_accuracy: 0.9670\n",
      "Epoch 47/1000\n",
      "12/12 [==============================] - ETA: 0s - loss: 0.1000 - accuracy: 0.96 - 0s 7ms/step - loss: 0.0987 - accuracy: 0.9615 - val_loss: 0.1276 - val_accuracy: 0.9451\n",
      "Epoch 48/1000\n",
      "12/12 [==============================] - ETA: 0s - loss: 0.1451 - accuracy: 0.90 - 0s 7ms/step - loss: 0.0951 - accuracy: 0.9643 - val_loss: 0.1608 - val_accuracy: 0.9560\n",
      "Epoch 49/1000\n",
      "12/12 [==============================] - ETA: 0s - loss: 0.1451 - accuracy: 0.96 - 0s 7ms/step - loss: 0.0950 - accuracy: 0.9670 - val_loss: 0.2314 - val_accuracy: 0.9231\n",
      "Epoch 50/1000\n",
      "12/12 [==============================] - ETA: 0s - loss: 0.1061 - accuracy: 0.93 - 0s 7ms/step - loss: 0.0918 - accuracy: 0.9588 - val_loss: 0.2842 - val_accuracy: 0.9231\n",
      "Epoch 51/1000\n",
      "12/12 [==============================] - ETA: 0s - loss: 0.0789 - accuracy: 0.96 - 0s 7ms/step - loss: 0.0889 - accuracy: 0.9670 - val_loss: 0.2625 - val_accuracy: 0.9231\n",
      "Epoch 52/1000\n",
      "12/12 [==============================] - ETA: 0s - loss: 0.0836 - accuracy: 0.96 - 0s 7ms/step - loss: 0.0953 - accuracy: 0.9670 - val_loss: 0.1594 - val_accuracy: 0.9560\n",
      "Epoch 53/1000\n",
      "12/12 [==============================] - ETA: 0s - loss: 0.0919 - accuracy: 0.93 - 0s 7ms/step - loss: 0.0973 - accuracy: 0.9533 - val_loss: 0.2813 - val_accuracy: 0.9231\n",
      "Epoch 54/1000\n",
      "12/12 [==============================] - ETA: 0s - loss: 0.1741 - accuracy: 0.93 - 0s 7ms/step - loss: 0.0768 - accuracy: 0.9808 - val_loss: 0.1286 - val_accuracy: 0.9560\n",
      "Epoch 55/1000\n",
      "12/12 [==============================] - ETA: 0s - loss: 0.0970 - accuracy: 0.96 - 0s 7ms/step - loss: 0.0801 - accuracy: 0.9698 - val_loss: 0.1654 - val_accuracy: 0.9451\n"
     ]
    },
    {
     "data": {
      "text/html": [
       "<span style=\"color:#4527A0\"><h1 style=\"font-size:18px\">Trial complete</h1></span>"
      ],
      "text/plain": [
       "<IPython.core.display.HTML object>"
      ]
     },
     "metadata": {},
     "output_type": "display_data"
    },
    {
     "data": {
      "text/html": [
       "<span style=\"color:#4527A0\"><h1 style=\"font-size:18px\">Trial summary</h1></span>"
      ],
      "text/plain": [
       "<IPython.core.display.HTML object>"
      ]
     },
     "metadata": {},
     "output_type": "display_data"
    },
    {
     "data": {
      "text/html": [
       "<span style=\"color:cyan\"> |-Trial ID: fb72cb0af2d7083dba57cbf9314619d7</span>"
      ],
      "text/plain": [
       "<IPython.core.display.HTML object>"
      ]
     },
     "metadata": {},
     "output_type": "display_data"
    },
    {
     "data": {
      "text/html": [
       "<span style=\"color:cyan\"> |-Score: 0.9780219793319702</span>"
      ],
      "text/plain": [
       "<IPython.core.display.HTML object>"
      ]
     },
     "metadata": {},
     "output_type": "display_data"
    },
    {
     "data": {
      "text/html": [
       "<span style=\"color:cyan\"> |-Best step: 0</span>"
      ],
      "text/plain": [
       "<IPython.core.display.HTML object>"
      ]
     },
     "metadata": {},
     "output_type": "display_data"
    },
    {
     "data": {
      "text/html": [
       "<span style=\"color:#7E57C2\"><h2 style=\"font-size:16px\">Hyperparameters:</h2></span>"
      ],
      "text/plain": [
       "<IPython.core.display.HTML object>"
      ]
     },
     "metadata": {},
     "output_type": "display_data"
    },
    {
     "data": {
      "text/html": [
       "<span style=\"color:cyan\"> |-classification_head_1/dropout_rate: 0</span>"
      ],
      "text/plain": [
       "<IPython.core.display.HTML object>"
      ]
     },
     "metadata": {},
     "output_type": "display_data"
    },
    {
     "data": {
      "text/html": [
       "<span style=\"color:blue\"> |-optimizer: adam</span>"
      ],
      "text/plain": [
       "<IPython.core.display.HTML object>"
      ]
     },
     "metadata": {},
     "output_type": "display_data"
    },
    {
     "data": {
      "text/html": [
       "<span style=\"color:cyan\"> |-structured_data_block_1/dense_block_1/dropout_rate: 0.25</span>"
      ],
      "text/plain": [
       "<IPython.core.display.HTML object>"
      ]
     },
     "metadata": {},
     "output_type": "display_data"
    },
    {
     "data": {
      "text/html": [
       "<span style=\"color:blue\"> |-structured_data_block_1/dense_block_1/num_layers: 3</span>"
      ],
      "text/plain": [
       "<IPython.core.display.HTML object>"
      ]
     },
     "metadata": {},
     "output_type": "display_data"
    },
    {
     "data": {
      "text/html": [
       "<span style=\"color:cyan\"> |-structured_data_block_1/dense_block_1/units_0: 1024</span>"
      ],
      "text/plain": [
       "<IPython.core.display.HTML object>"
      ]
     },
     "metadata": {},
     "output_type": "display_data"
    },
    {
     "data": {
      "text/html": [
       "<span style=\"color:blue\"> |-structured_data_block_1/dense_block_1/units_1: 32</span>"
      ],
      "text/plain": [
       "<IPython.core.display.HTML object>"
      ]
     },
     "metadata": {},
     "output_type": "display_data"
    },
    {
     "data": {
      "text/html": [
       "<span style=\"color:cyan\"> |-structured_data_block_1/dense_block_1/units_2: 32</span>"
      ],
      "text/plain": [
       "<IPython.core.display.HTML object>"
      ]
     },
     "metadata": {},
     "output_type": "display_data"
    },
    {
     "data": {
      "text/html": [
       "<span style=\"color:blue\"> |-structured_data_block_1/dense_block_1/use_batchnorm: True</span>"
      ],
      "text/plain": [
       "<IPython.core.display.HTML object>"
      ]
     },
     "metadata": {},
     "output_type": "display_data"
    },
    {
     "data": {
      "text/html": [
       "<span style=\"color:cyan\"> |-structured_data_block_1/dense_block_2/dropout_rate: 0.0</span>"
      ],
      "text/plain": [
       "<IPython.core.display.HTML object>"
      ]
     },
     "metadata": {},
     "output_type": "display_data"
    },
    {
     "data": {
      "text/html": [
       "<span style=\"color:blue\"> |-structured_data_block_1/dense_block_2/num_layers: 2</span>"
      ],
      "text/plain": [
       "<IPython.core.display.HTML object>"
      ]
     },
     "metadata": {},
     "output_type": "display_data"
    },
    {
     "data": {
      "text/html": [
       "<span style=\"color:cyan\"> |-structured_data_block_1/dense_block_2/units_0: 32</span>"
      ],
      "text/plain": [
       "<IPython.core.display.HTML object>"
      ]
     },
     "metadata": {},
     "output_type": "display_data"
    },
    {
     "data": {
      "text/html": [
       "<span style=\"color:blue\"> |-structured_data_block_1/dense_block_2/units_1: 128</span>"
      ],
      "text/plain": [
       "<IPython.core.display.HTML object>"
      ]
     },
     "metadata": {},
     "output_type": "display_data"
    },
    {
     "data": {
      "text/html": [
       "<span style=\"color:cyan\"> |-structured_data_block_1/dense_block_2/units_2: 512</span>"
      ],
      "text/plain": [
       "<IPython.core.display.HTML object>"
      ]
     },
     "metadata": {},
     "output_type": "display_data"
    },
    {
     "data": {
      "text/html": [
       "<span style=\"color:blue\"> |-structured_data_block_1/dense_block_2/use_batchnorm: False</span>"
      ],
      "text/plain": [
       "<IPython.core.display.HTML object>"
      ]
     },
     "metadata": {},
     "output_type": "display_data"
    },
    {
     "name": "stdout",
     "output_type": "stream",
     "text": [
      "Train for 12 steps, validate for 3 steps\n",
      "Epoch 1/1000\n",
      "12/12 [==============================] - ETA: 8s - loss: 0.8531 - accuracy: 0.37 - 1s 83ms/step - loss: 0.5636 - accuracy: 0.7582 - val_loss: 4.0530 - val_accuracy: 0.4176\n",
      "Epoch 2/1000\n",
      "12/12 [==============================] - ETA: 0s - loss: 0.3847 - accuracy: 0.81 - 0s 5ms/step - loss: 0.2677 - accuracy: 0.9231 - val_loss: 4.1397 - val_accuracy: 0.4176\n",
      "Epoch 3/1000\n",
      "12/12 [==============================] - ETA: 0s - loss: 0.2667 - accuracy: 0.87 - 0s 5ms/step - loss: 0.1982 - accuracy: 0.9258 - val_loss: 3.4706 - val_accuracy: 0.4176\n",
      "Epoch 4/1000\n",
      "12/12 [==============================] - ETA: 0s - loss: 0.2303 - accuracy: 0.87 - 0s 5ms/step - loss: 0.1791 - accuracy: 0.9368 - val_loss: 2.7351 - val_accuracy: 0.4176\n",
      "Epoch 5/1000\n",
      "12/12 [==============================] - ETA: 0s - loss: 0.2191 - accuracy: 0.87 - 0s 5ms/step - loss: 0.1642 - accuracy: 0.9423 - val_loss: 2.0839 - val_accuracy: 0.4396\n",
      "Epoch 6/1000\n",
      "12/12 [==============================] - ETA: 0s - loss: 0.1666 - accuracy: 0.93 - 0s 6ms/step - loss: 0.1533 - accuracy: 0.9396 - val_loss: 1.5222 - val_accuracy: 0.4725\n",
      "Epoch 7/1000\n",
      "12/12 [==============================] - ETA: 0s - loss: 0.1603 - accuracy: 0.96 - 0s 5ms/step - loss: 0.1489 - accuracy: 0.9505 - val_loss: 1.1203 - val_accuracy: 0.5714\n",
      "Epoch 8/1000\n",
      "12/12 [==============================] - ETA: 0s - loss: 0.1722 - accuracy: 0.93 - 0s 6ms/step - loss: 0.1434 - accuracy: 0.9505 - val_loss: 0.9258 - val_accuracy: 0.6154\n",
      "Epoch 9/1000\n",
      "12/12 [==============================] - ETA: 0s - loss: 0.1819 - accuracy: 0.93 - 0s 6ms/step - loss: 0.1338 - accuracy: 0.9560 - val_loss: 0.8682 - val_accuracy: 0.6484\n",
      "Epoch 10/1000\n",
      "12/12 [==============================] - ETA: 0s - loss: 0.1840 - accuracy: 0.93 - 0s 6ms/step - loss: 0.1333 - accuracy: 0.9533 - val_loss: 0.7230 - val_accuracy: 0.6813\n",
      "Epoch 11/1000\n",
      "12/12 [==============================] - ETA: 0s - loss: 0.1571 - accuracy: 0.93 - 0s 6ms/step - loss: 0.1280 - accuracy: 0.9588 - val_loss: 0.5767 - val_accuracy: 0.7253\n",
      "Epoch 12/1000\n",
      "12/12 [==============================] - ETA: 0s - loss: 0.1612 - accuracy: 0.93 - 0s 6ms/step - loss: 0.1217 - accuracy: 0.9588 - val_loss: 0.4893 - val_accuracy: 0.7582\n",
      "Epoch 13/1000\n",
      "12/12 [==============================] - ETA: 0s - loss: 0.1868 - accuracy: 0.93 - 0s 5ms/step - loss: 0.1264 - accuracy: 0.9533 - val_loss: 0.4035 - val_accuracy: 0.7912\n",
      "Epoch 14/1000\n",
      "12/12 [==============================] - ETA: 0s - loss: 0.1672 - accuracy: 0.93 - 0s 5ms/step - loss: 0.1174 - accuracy: 0.9615 - val_loss: 0.3062 - val_accuracy: 0.8462\n",
      "Epoch 15/1000\n",
      "12/12 [==============================] - ETA: 0s - loss: 0.1726 - accuracy: 0.93 - 0s 5ms/step - loss: 0.1183 - accuracy: 0.9560 - val_loss: 0.2146 - val_accuracy: 0.9231\n",
      "Epoch 16/1000\n",
      "12/12 [==============================] - ETA: 0s - loss: 0.1746 - accuracy: 0.93 - 0s 5ms/step - loss: 0.1120 - accuracy: 0.9615 - val_loss: 0.2173 - val_accuracy: 0.9231\n",
      "Epoch 17/1000\n",
      "12/12 [==============================] - ETA: 0s - loss: 0.1652 - accuracy: 0.93 - 0s 5ms/step - loss: 0.1046 - accuracy: 0.9588 - val_loss: 0.1634 - val_accuracy: 0.9451\n",
      "Epoch 18/1000\n",
      "12/12 [==============================] - ETA: 0s - loss: 0.1492 - accuracy: 0.93 - 0s 6ms/step - loss: 0.1093 - accuracy: 0.9643 - val_loss: 0.1332 - val_accuracy: 0.9560\n",
      "Epoch 19/1000\n",
      "12/12 [==============================] - ETA: 0s - loss: 0.1730 - accuracy: 0.93 - 0s 5ms/step - loss: 0.1050 - accuracy: 0.9670 - val_loss: 0.1345 - val_accuracy: 0.9560\n",
      "Epoch 20/1000\n",
      "12/12 [==============================] - ETA: 0s - loss: 0.1592 - accuracy: 0.96 - 0s 6ms/step - loss: 0.1100 - accuracy: 0.9670 - val_loss: 0.1079 - val_accuracy: 0.9670\n",
      "Epoch 21/1000\n",
      "12/12 [==============================] - ETA: 0s - loss: 0.1730 - accuracy: 0.93 - 0s 5ms/step - loss: 0.1055 - accuracy: 0.9670 - val_loss: 0.1076 - val_accuracy: 0.9670\n",
      "Epoch 22/1000\n",
      "12/12 [==============================] - ETA: 0s - loss: 0.1635 - accuracy: 0.93 - 0s 5ms/step - loss: 0.1035 - accuracy: 0.9698 - val_loss: 0.0930 - val_accuracy: 0.9670\n",
      "Epoch 23/1000\n",
      "12/12 [==============================] - ETA: 0s - loss: 0.1526 - accuracy: 0.93 - 0s 5ms/step - loss: 0.0981 - accuracy: 0.9698 - val_loss: 0.0975 - val_accuracy: 0.9560\n",
      "Epoch 24/1000\n",
      "12/12 [==============================] - ETA: 0s - loss: 0.1652 - accuracy: 0.93 - 0s 5ms/step - loss: 0.0972 - accuracy: 0.9670 - val_loss: 0.0910 - val_accuracy: 0.9670\n",
      "Epoch 25/1000\n",
      "12/12 [==============================] - ETA: 0s - loss: 0.1658 - accuracy: 0.93 - 0s 5ms/step - loss: 0.0986 - accuracy: 0.9615 - val_loss: 0.0917 - val_accuracy: 0.9670\n",
      "Epoch 26/1000\n",
      "12/12 [==============================] - ETA: 0s - loss: 0.1753 - accuracy: 0.93 - 0s 5ms/step - loss: 0.1007 - accuracy: 0.9615 - val_loss: 0.0955 - val_accuracy: 0.9670\n",
      "Epoch 27/1000\n",
      "12/12 [==============================] - ETA: 0s - loss: 0.1626 - accuracy: 0.96 - 0s 5ms/step - loss: 0.0952 - accuracy: 0.9670 - val_loss: 0.0905 - val_accuracy: 0.9670\n",
      "Epoch 28/1000\n",
      "12/12 [==============================] - ETA: 0s - loss: 0.1408 - accuracy: 0.96 - 0s 5ms/step - loss: 0.0926 - accuracy: 0.9698 - val_loss: 0.0882 - val_accuracy: 0.9670\n",
      "Epoch 29/1000\n",
      "12/12 [==============================] - ETA: 0s - loss: 0.1544 - accuracy: 0.93 - 0s 5ms/step - loss: 0.0983 - accuracy: 0.9670 - val_loss: 0.0881 - val_accuracy: 0.9670\n",
      "Epoch 30/1000\n",
      "12/12 [==============================] - ETA: 0s - loss: 0.1665 - accuracy: 0.96 - 0s 5ms/step - loss: 0.0914 - accuracy: 0.9670 - val_loss: 0.0915 - val_accuracy: 0.9670\n",
      "Epoch 31/1000\n",
      "12/12 [==============================] - ETA: 0s - loss: 0.1830 - accuracy: 0.96 - 0s 5ms/step - loss: 0.0939 - accuracy: 0.9725 - val_loss: 0.0900 - val_accuracy: 0.9670\n",
      "Epoch 32/1000\n",
      "12/12 [==============================] - ETA: 0s - loss: 0.1499 - accuracy: 0.96 - 0s 5ms/step - loss: 0.0932 - accuracy: 0.9698 - val_loss: 0.0959 - val_accuracy: 0.9560\n",
      "Epoch 33/1000\n",
      "12/12 [==============================] - ETA: 0s - loss: 0.1480 - accuracy: 0.93 - 0s 5ms/step - loss: 0.0844 - accuracy: 0.9725 - val_loss: 0.1001 - val_accuracy: 0.9451\n",
      "Epoch 34/1000\n",
      "12/12 [==============================] - ETA: 0s - loss: 0.1871 - accuracy: 0.96 - 0s 5ms/step - loss: 0.0972 - accuracy: 0.9698 - val_loss: 0.0900 - val_accuracy: 0.9670\n",
      "Epoch 35/1000\n",
      "12/12 [==============================] - ETA: 0s - loss: 0.1448 - accuracy: 0.96 - 0s 5ms/step - loss: 0.0956 - accuracy: 0.9670 - val_loss: 0.1203 - val_accuracy: 0.9451\n",
      "Epoch 36/1000\n",
      "12/12 [==============================] - ETA: 0s - loss: 0.1381 - accuracy: 0.96 - 0s 5ms/step - loss: 0.0800 - accuracy: 0.9725 - val_loss: 0.1006 - val_accuracy: 0.9451\n",
      "Epoch 37/1000\n",
      "12/12 [==============================] - ETA: 0s - loss: 0.1421 - accuracy: 0.96 - 0s 5ms/step - loss: 0.0900 - accuracy: 0.9643 - val_loss: 0.0875 - val_accuracy: 0.9670\n",
      "Epoch 38/1000\n",
      "12/12 [==============================] - ETA: 0s - loss: 0.1548 - accuracy: 0.93 - 0s 5ms/step - loss: 0.0865 - accuracy: 0.9698 - val_loss: 0.1650 - val_accuracy: 0.9451\n",
      "Epoch 39/1000\n",
      "12/12 [==============================] - ETA: 0s - loss: 0.1651 - accuracy: 0.96 - 0s 5ms/step - loss: 0.0834 - accuracy: 0.9753 - val_loss: 0.0954 - val_accuracy: 0.9560\n",
      "Epoch 40/1000\n",
      "12/12 [==============================] - ETA: 0s - loss: 0.1479 - accuracy: 0.93 - 0s 5ms/step - loss: 0.0812 - accuracy: 0.9643 - val_loss: 0.1225 - val_accuracy: 0.9341\n",
      "Epoch 41/1000\n",
      "12/12 [==============================] - ETA: 0s - loss: 0.1351 - accuracy: 0.96 - 0s 5ms/step - loss: 0.0784 - accuracy: 0.9753 - val_loss: 0.1199 - val_accuracy: 0.9341\n",
      "Epoch 42/1000\n",
      "12/12 [==============================] - ETA: 0s - loss: 0.1443 - accuracy: 0.96 - 0s 5ms/step - loss: 0.0783 - accuracy: 0.9725 - val_loss: 0.1367 - val_accuracy: 0.9451\n",
      "Epoch 43/1000\n",
      "12/12 [==============================] - ETA: 0s - loss: 0.1326 - accuracy: 0.96 - 0s 5ms/step - loss: 0.0801 - accuracy: 0.9725 - val_loss: 0.1294 - val_accuracy: 0.9341\n",
      "Epoch 44/1000\n",
      "12/12 [==============================] - ETA: 0s - loss: 0.1404 - accuracy: 0.96 - 0s 5ms/step - loss: 0.0762 - accuracy: 0.9780 - val_loss: 0.0899 - val_accuracy: 0.9560\n",
      "Epoch 45/1000\n",
      "12/12 [==============================] - ETA: 0s - loss: 0.1371 - accuracy: 0.96 - 0s 5ms/step - loss: 0.0821 - accuracy: 0.9698 - val_loss: 0.0996 - val_accuracy: 0.9560\n",
      "Epoch 46/1000\n",
      "12/12 [==============================] - ETA: 0s - loss: 0.1527 - accuracy: 0.96 - 0s 5ms/step - loss: 0.0798 - accuracy: 0.9753 - val_loss: 0.1407 - val_accuracy: 0.9451\n",
      "Epoch 47/1000\n",
      "12/12 [==============================] - ETA: 0s - loss: 0.1165 - accuracy: 0.96 - 0s 5ms/step - loss: 0.0835 - accuracy: 0.9698 - val_loss: 0.0903 - val_accuracy: 0.9560\n"
     ]
    },
    {
     "data": {
      "text/html": [
       "<span style=\"color:#4527A0\"><h1 style=\"font-size:18px\">Trial complete</h1></span>"
      ],
      "text/plain": [
       "<IPython.core.display.HTML object>"
      ]
     },
     "metadata": {},
     "output_type": "display_data"
    },
    {
     "data": {
      "text/html": [
       "<span style=\"color:#4527A0\"><h1 style=\"font-size:18px\">Trial summary</h1></span>"
      ],
      "text/plain": [
       "<IPython.core.display.HTML object>"
      ]
     },
     "metadata": {},
     "output_type": "display_data"
    },
    {
     "data": {
      "text/html": [
       "<span style=\"color:cyan\"> |-Trial ID: f2a567bb7ebcbffe5ec2110a93ecaa8d</span>"
      ],
      "text/plain": [
       "<IPython.core.display.HTML object>"
      ]
     },
     "metadata": {},
     "output_type": "display_data"
    },
    {
     "data": {
      "text/html": [
       "<span style=\"color:cyan\"> |-Score: 0.9670329689979553</span>"
      ],
      "text/plain": [
       "<IPython.core.display.HTML object>"
      ]
     },
     "metadata": {},
     "output_type": "display_data"
    },
    {
     "data": {
      "text/html": [
       "<span style=\"color:cyan\"> |-Best step: 0</span>"
      ],
      "text/plain": [
       "<IPython.core.display.HTML object>"
      ]
     },
     "metadata": {},
     "output_type": "display_data"
    },
    {
     "data": {
      "text/html": [
       "<span style=\"color:#7E57C2\"><h2 style=\"font-size:16px\">Hyperparameters:</h2></span>"
      ],
      "text/plain": [
       "<IPython.core.display.HTML object>"
      ]
     },
     "metadata": {},
     "output_type": "display_data"
    },
    {
     "data": {
      "text/html": [
       "<span style=\"color:cyan\"> |-classification_head_1/dropout_rate: 0</span>"
      ],
      "text/plain": [
       "<IPython.core.display.HTML object>"
      ]
     },
     "metadata": {},
     "output_type": "display_data"
    },
    {
     "data": {
      "text/html": [
       "<span style=\"color:blue\"> |-optimizer: adam</span>"
      ],
      "text/plain": [
       "<IPython.core.display.HTML object>"
      ]
     },
     "metadata": {},
     "output_type": "display_data"
    },
    {
     "data": {
      "text/html": [
       "<span style=\"color:cyan\"> |-structured_data_block_1/dense_block_1/dropout_rate: 0.25</span>"
      ],
      "text/plain": [
       "<IPython.core.display.HTML object>"
      ]
     },
     "metadata": {},
     "output_type": "display_data"
    },
    {
     "data": {
      "text/html": [
       "<span style=\"color:blue\"> |-structured_data_block_1/dense_block_1/num_layers: 1</span>"
      ],
      "text/plain": [
       "<IPython.core.display.HTML object>"
      ]
     },
     "metadata": {},
     "output_type": "display_data"
    },
    {
     "data": {
      "text/html": [
       "<span style=\"color:cyan\"> |-structured_data_block_1/dense_block_1/units_0: 256</span>"
      ],
      "text/plain": [
       "<IPython.core.display.HTML object>"
      ]
     },
     "metadata": {},
     "output_type": "display_data"
    },
    {
     "data": {
      "text/html": [
       "<span style=\"color:blue\"> |-structured_data_block_1/dense_block_1/units_1: 128</span>"
      ],
      "text/plain": [
       "<IPython.core.display.HTML object>"
      ]
     },
     "metadata": {},
     "output_type": "display_data"
    },
    {
     "data": {
      "text/html": [
       "<span style=\"color:cyan\"> |-structured_data_block_1/dense_block_1/units_2: 64</span>"
      ],
      "text/plain": [
       "<IPython.core.display.HTML object>"
      ]
     },
     "metadata": {},
     "output_type": "display_data"
    },
    {
     "data": {
      "text/html": [
       "<span style=\"color:blue\"> |-structured_data_block_1/dense_block_1/use_batchnorm: True</span>"
      ],
      "text/plain": [
       "<IPython.core.display.HTML object>"
      ]
     },
     "metadata": {},
     "output_type": "display_data"
    },
    {
     "data": {
      "text/html": [
       "<span style=\"color:cyan\"> |-structured_data_block_1/dense_block_2/dropout_rate: 0.0</span>"
      ],
      "text/plain": [
       "<IPython.core.display.HTML object>"
      ]
     },
     "metadata": {},
     "output_type": "display_data"
    },
    {
     "data": {
      "text/html": [
       "<span style=\"color:blue\"> |-structured_data_block_1/dense_block_2/num_layers: 1</span>"
      ],
      "text/plain": [
       "<IPython.core.display.HTML object>"
      ]
     },
     "metadata": {},
     "output_type": "display_data"
    },
    {
     "data": {
      "text/html": [
       "<span style=\"color:cyan\"> |-structured_data_block_1/dense_block_2/units_0: 32</span>"
      ],
      "text/plain": [
       "<IPython.core.display.HTML object>"
      ]
     },
     "metadata": {},
     "output_type": "display_data"
    },
    {
     "data": {
      "text/html": [
       "<span style=\"color:blue\"> |-structured_data_block_1/dense_block_2/units_1: 256</span>"
      ],
      "text/plain": [
       "<IPython.core.display.HTML object>"
      ]
     },
     "metadata": {},
     "output_type": "display_data"
    },
    {
     "data": {
      "text/html": [
       "<span style=\"color:cyan\"> |-structured_data_block_1/dense_block_2/units_2: 256</span>"
      ],
      "text/plain": [
       "<IPython.core.display.HTML object>"
      ]
     },
     "metadata": {},
     "output_type": "display_data"
    },
    {
     "data": {
      "text/html": [
       "<span style=\"color:blue\"> |-structured_data_block_1/dense_block_2/use_batchnorm: False</span>"
      ],
      "text/plain": [
       "<IPython.core.display.HTML object>"
      ]
     },
     "metadata": {},
     "output_type": "display_data"
    },
    {
     "name": "stdout",
     "output_type": "stream",
     "text": [
      "Train for 12 steps, validate for 3 steps\n",
      "Epoch 1/1000\n",
      "12/12 [==============================] - ETA: 6s - loss: 29.4807 - accuracy: 0.250 - 1s 67ms/step - loss: 3.8431 - accuracy: 0.7115 - val_loss: 0.3426 - val_accuracy: 0.8901\n",
      "Epoch 2/1000\n",
      "12/12 [==============================] - ETA: 0s - loss: 0.2774 - accuracy: 0.90 - 0s 6ms/step - loss: 1.0663 - accuracy: 0.8022 - val_loss: 0.4100 - val_accuracy: 0.9121\n",
      "Epoch 3/1000\n",
      "12/12 [==============================] - ETA: 0s - loss: 0.4233 - accuracy: 0.84 - 0s 6ms/step - loss: 0.5181 - accuracy: 0.9038 - val_loss: 0.3105 - val_accuracy: 0.9341\n",
      "Epoch 4/1000\n",
      "12/12 [==============================] - ETA: 0s - loss: 0.2819 - accuracy: 0.87 - 0s 5ms/step - loss: 0.8888 - accuracy: 0.8324 - val_loss: 0.2910 - val_accuracy: 0.9341\n",
      "Epoch 5/1000\n",
      "12/12 [==============================] - ETA: 0s - loss: 0.2227 - accuracy: 0.90 - 0s 5ms/step - loss: 0.3950 - accuracy: 0.9258 - val_loss: 0.2859 - val_accuracy: 0.9341\n",
      "Epoch 6/1000\n",
      "12/12 [==============================] - ETA: 0s - loss: 0.2105 - accuracy: 0.93 - 0s 5ms/step - loss: 0.4555 - accuracy: 0.8956 - val_loss: 0.3781 - val_accuracy: 0.9121\n",
      "Epoch 7/1000\n",
      "12/12 [==============================] - ETA: 0s - loss: 0.3238 - accuracy: 0.90 - 0s 5ms/step - loss: 0.5447 - accuracy: 0.9038 - val_loss: 0.4345 - val_accuracy: 0.8791\n",
      "Epoch 8/1000\n",
      "12/12 [==============================] - ETA: 0s - loss: 0.3993 - accuracy: 0.90 - 0s 5ms/step - loss: 1.0476 - accuracy: 0.8214 - val_loss: 0.3459 - val_accuracy: 0.9231\n",
      "Epoch 9/1000\n",
      "12/12 [==============================] - ETA: 0s - loss: 0.2803 - accuracy: 0.93 - 0s 5ms/step - loss: 0.3373 - accuracy: 0.9396 - val_loss: 0.3266 - val_accuracy: 0.9341\n",
      "Epoch 10/1000\n",
      "12/12 [==============================] - ETA: 0s - loss: 0.2465 - accuracy: 0.87 - 0s 5ms/step - loss: 0.3747 - accuracy: 0.9093 - val_loss: 0.2919 - val_accuracy: 0.9231\n",
      "Epoch 11/1000\n",
      "12/12 [==============================] - ETA: 0s - loss: 0.1631 - accuracy: 0.93 - 0s 5ms/step - loss: 0.3381 - accuracy: 0.9093 - val_loss: 0.2799 - val_accuracy: 0.9231\n",
      "Epoch 12/1000\n",
      "12/12 [==============================] - ETA: 0s - loss: 0.1442 - accuracy: 0.93 - 0s 5ms/step - loss: 0.4033 - accuracy: 0.9093 - val_loss: 0.2630 - val_accuracy: 0.9231\n",
      "Epoch 13/1000\n",
      "12/12 [==============================] - ETA: 0s - loss: 0.1224 - accuracy: 0.93 - 0s 5ms/step - loss: 0.3036 - accuracy: 0.9148 - val_loss: 0.3221 - val_accuracy: 0.9231\n",
      "Epoch 14/1000\n",
      "12/12 [==============================] - ETA: 0s - loss: 0.2400 - accuracy: 0.87 - 0s 5ms/step - loss: 0.4341 - accuracy: 0.8984 - val_loss: 0.8228 - val_accuracy: 0.7473\n",
      "Epoch 15/1000\n",
      "12/12 [==============================] - ETA: 0s - loss: 0.9578 - accuracy: 0.71 - 0s 5ms/step - loss: 0.6434 - accuracy: 0.8736 - val_loss: 0.2682 - val_accuracy: 0.9231\n",
      "Epoch 16/1000\n",
      "12/12 [==============================] - ETA: 0s - loss: 0.1359 - accuracy: 0.93 - 0s 5ms/step - loss: 0.3906 - accuracy: 0.9066 - val_loss: 0.2480 - val_accuracy: 0.9341\n",
      "Epoch 17/1000\n",
      "12/12 [==============================] - ETA: 0s - loss: 0.1192 - accuracy: 0.93 - 0s 5ms/step - loss: 0.3360 - accuracy: 0.9093 - val_loss: 0.6265 - val_accuracy: 0.8132\n",
      "Epoch 18/1000\n",
      "12/12 [==============================] - ETA: 0s - loss: 0.7205 - accuracy: 0.71 - 0s 5ms/step - loss: 0.5795 - accuracy: 0.8764 - val_loss: 0.2428 - val_accuracy: 0.9341\n",
      "Epoch 19/1000\n",
      "12/12 [==============================] - ETA: 0s - loss: 0.1223 - accuracy: 0.93 - 0s 5ms/step - loss: 0.4288 - accuracy: 0.9038 - val_loss: 0.2385 - val_accuracy: 0.9341\n",
      "Epoch 20/1000\n",
      "12/12 [==============================] - ETA: 0s - loss: 0.1097 - accuracy: 0.93 - 0s 5ms/step - loss: 0.3401 - accuracy: 0.9066 - val_loss: 0.6829 - val_accuracy: 0.7912\n",
      "Epoch 21/1000\n",
      "12/12 [==============================] - ETA: 0s - loss: 0.8072 - accuracy: 0.71 - 0s 5ms/step - loss: 0.6128 - accuracy: 0.8736 - val_loss: 0.2437 - val_accuracy: 0.9231\n",
      "Epoch 22/1000\n",
      "12/12 [==============================] - ETA: 0s - loss: 0.1062 - accuracy: 0.96 - 0s 5ms/step - loss: 0.3355 - accuracy: 0.9148 - val_loss: 0.2348 - val_accuracy: 0.9341\n",
      "Epoch 23/1000\n",
      "12/12 [==============================] - ETA: 0s - loss: 0.1126 - accuracy: 0.96 - 0s 5ms/step - loss: 0.3536 - accuracy: 0.9093 - val_loss: 0.6756 - val_accuracy: 0.8022\n",
      "Epoch 24/1000\n",
      "12/12 [==============================] - ETA: 0s - loss: 0.8117 - accuracy: 0.71 - 0s 5ms/step - loss: 0.6157 - accuracy: 0.8709 - val_loss: 0.2368 - val_accuracy: 0.9231\n",
      "Epoch 25/1000\n",
      "12/12 [==============================] - ETA: 0s - loss: 0.0948 - accuracy: 0.96 - 0s 5ms/step - loss: 0.3482 - accuracy: 0.9176 - val_loss: 0.2316 - val_accuracy: 0.9341\n",
      "Epoch 26/1000\n",
      "12/12 [==============================] - ETA: 0s - loss: 0.1152 - accuracy: 0.96 - 0s 5ms/step - loss: 0.3571 - accuracy: 0.9093 - val_loss: 0.5671 - val_accuracy: 0.8132\n",
      "Epoch 27/1000\n",
      "12/12 [==============================] - ETA: 0s - loss: 0.6651 - accuracy: 0.71 - 0s 5ms/step - loss: 0.5946 - accuracy: 0.8736 - val_loss: 0.2394 - val_accuracy: 0.9341\n",
      "Epoch 28/1000\n",
      "12/12 [==============================] - ETA: 0s - loss: 0.0946 - accuracy: 0.96 - 0s 5ms/step - loss: 0.2408 - accuracy: 0.9341 - val_loss: 0.2262 - val_accuracy: 0.9341\n",
      "Epoch 29/1000\n",
      "12/12 [==============================] - ETA: 0s - loss: 0.1094 - accuracy: 0.96 - 0s 5ms/step - loss: 0.3331 - accuracy: 0.9176 - val_loss: 0.3751 - val_accuracy: 0.9121\n",
      "Epoch 30/1000\n",
      "12/12 [==============================] - ETA: 0s - loss: 0.3818 - accuracy: 0.84 - 0s 5ms/step - loss: 0.4885 - accuracy: 0.8956 - val_loss: 0.2256 - val_accuracy: 0.9341\n",
      "Epoch 31/1000\n",
      "12/12 [==============================] - ETA: 0s - loss: 0.0843 - accuracy: 0.96 - 0s 5ms/step - loss: 0.2438 - accuracy: 0.9313 - val_loss: 0.2201 - val_accuracy: 0.9341\n",
      "Epoch 32/1000\n",
      "12/12 [==============================] - ETA: 0s - loss: 0.1158 - accuracy: 0.96 - 0s 5ms/step - loss: 0.3494 - accuracy: 0.9148 - val_loss: 0.5919 - val_accuracy: 0.8132\n",
      "Epoch 33/1000\n",
      "12/12 [==============================] - ETA: 0s - loss: 0.7239 - accuracy: 0.71 - 0s 5ms/step - loss: 0.6195 - accuracy: 0.8681 - val_loss: 0.2240 - val_accuracy: 0.9560\n",
      "Epoch 34/1000\n",
      "12/12 [==============================] - ETA: 0s - loss: 0.1374 - accuracy: 0.90 - 0s 5ms/step - loss: 0.6168 - accuracy: 0.8819 - val_loss: 0.2537 - val_accuracy: 0.9451\n",
      "Epoch 35/1000\n",
      "12/12 [==============================] - ETA: 0s - loss: 0.1220 - accuracy: 0.93 - 0s 5ms/step - loss: 0.1883 - accuracy: 0.9396 - val_loss: 0.3652 - val_accuracy: 0.9341\n",
      "Epoch 36/1000\n",
      "12/12 [==============================] - ETA: 0s - loss: 0.3513 - accuracy: 0.84 - 0s 5ms/step - loss: 0.5356 - accuracy: 0.8791 - val_loss: 0.5791 - val_accuracy: 0.8242\n",
      "Epoch 37/1000\n",
      "12/12 [==============================] - ETA: 0s - loss: 0.7039 - accuracy: 0.71 - 0s 5ms/step - loss: 0.9198 - accuracy: 0.8352 - val_loss: 0.2548 - val_accuracy: 0.9231\n",
      "Epoch 38/1000\n",
      "12/12 [==============================] - ETA: 0s - loss: 0.0791 - accuracy: 0.93 - 0s 5ms/step - loss: 0.2388 - accuracy: 0.9423 - val_loss: 0.2857 - val_accuracy: 0.9560\n",
      "Epoch 39/1000\n",
      "12/12 [==============================] - ETA: 0s - loss: 0.2133 - accuracy: 0.90 - 0s 5ms/step - loss: 0.3248 - accuracy: 0.9231 - val_loss: 0.2647 - val_accuracy: 0.9451\n",
      "Epoch 40/1000\n",
      "12/12 [==============================] - ETA: 0s - loss: 0.1086 - accuracy: 0.93 - 0s 5ms/step - loss: 0.2477 - accuracy: 0.9396 - val_loss: 0.2720 - val_accuracy: 0.9451\n",
      "Epoch 41/1000\n",
      "12/12 [==============================] - ETA: 0s - loss: 0.1599 - accuracy: 0.90 - 0s 5ms/step - loss: 0.4339 - accuracy: 0.9093 - val_loss: 0.4101 - val_accuracy: 0.9011\n"
     ]
    },
    {
     "data": {
      "text/html": [
       "<span style=\"color:#4527A0\"><h1 style=\"font-size:18px\">Trial complete</h1></span>"
      ],
      "text/plain": [
       "<IPython.core.display.HTML object>"
      ]
     },
     "metadata": {},
     "output_type": "display_data"
    },
    {
     "data": {
      "text/html": [
       "<span style=\"color:#4527A0\"><h1 style=\"font-size:18px\">Trial summary</h1></span>"
      ],
      "text/plain": [
       "<IPython.core.display.HTML object>"
      ]
     },
     "metadata": {},
     "output_type": "display_data"
    },
    {
     "data": {
      "text/html": [
       "<span style=\"color:cyan\"> |-Trial ID: f4636fdf6aa7c5f8feafebbf5b7f0461</span>"
      ],
      "text/plain": [
       "<IPython.core.display.HTML object>"
      ]
     },
     "metadata": {},
     "output_type": "display_data"
    },
    {
     "data": {
      "text/html": [
       "<span style=\"color:cyan\"> |-Score: 0.9560439586639404</span>"
      ],
      "text/plain": [
       "<IPython.core.display.HTML object>"
      ]
     },
     "metadata": {},
     "output_type": "display_data"
    },
    {
     "data": {
      "text/html": [
       "<span style=\"color:cyan\"> |-Best step: 0</span>"
      ],
      "text/plain": [
       "<IPython.core.display.HTML object>"
      ]
     },
     "metadata": {},
     "output_type": "display_data"
    },
    {
     "data": {
      "text/html": [
       "<span style=\"color:#7E57C2\"><h2 style=\"font-size:16px\">Hyperparameters:</h2></span>"
      ],
      "text/plain": [
       "<IPython.core.display.HTML object>"
      ]
     },
     "metadata": {},
     "output_type": "display_data"
    },
    {
     "data": {
      "text/html": [
       "<span style=\"color:cyan\"> |-classification_head_1/dropout_rate: 0</span>"
      ],
      "text/plain": [
       "<IPython.core.display.HTML object>"
      ]
     },
     "metadata": {},
     "output_type": "display_data"
    },
    {
     "data": {
      "text/html": [
       "<span style=\"color:blue\"> |-optimizer: adam</span>"
      ],
      "text/plain": [
       "<IPython.core.display.HTML object>"
      ]
     },
     "metadata": {},
     "output_type": "display_data"
    },
    {
     "data": {
      "text/html": [
       "<span style=\"color:cyan\"> |-structured_data_block_1/dense_block_1/dropout_rate: 0.0</span>"
      ],
      "text/plain": [
       "<IPython.core.display.HTML object>"
      ]
     },
     "metadata": {},
     "output_type": "display_data"
    },
    {
     "data": {
      "text/html": [
       "<span style=\"color:blue\"> |-structured_data_block_1/dense_block_1/num_layers: 2</span>"
      ],
      "text/plain": [
       "<IPython.core.display.HTML object>"
      ]
     },
     "metadata": {},
     "output_type": "display_data"
    },
    {
     "data": {
      "text/html": [
       "<span style=\"color:cyan\"> |-structured_data_block_1/dense_block_1/units_0: 512</span>"
      ],
      "text/plain": [
       "<IPython.core.display.HTML object>"
      ]
     },
     "metadata": {},
     "output_type": "display_data"
    },
    {
     "data": {
      "text/html": [
       "<span style=\"color:blue\"> |-structured_data_block_1/dense_block_1/units_1: 64</span>"
      ],
      "text/plain": [
       "<IPython.core.display.HTML object>"
      ]
     },
     "metadata": {},
     "output_type": "display_data"
    },
    {
     "data": {
      "text/html": [
       "<span style=\"color:cyan\"> |-structured_data_block_1/dense_block_1/units_2: 64</span>"
      ],
      "text/plain": [
       "<IPython.core.display.HTML object>"
      ]
     },
     "metadata": {},
     "output_type": "display_data"
    },
    {
     "data": {
      "text/html": [
       "<span style=\"color:blue\"> |-structured_data_block_1/dense_block_1/use_batchnorm: False</span>"
      ],
      "text/plain": [
       "<IPython.core.display.HTML object>"
      ]
     },
     "metadata": {},
     "output_type": "display_data"
    },
    {
     "data": {
      "text/html": [
       "<span style=\"color:cyan\"> |-structured_data_block_1/dense_block_2/dropout_rate: 0.25</span>"
      ],
      "text/plain": [
       "<IPython.core.display.HTML object>"
      ]
     },
     "metadata": {},
     "output_type": "display_data"
    },
    {
     "data": {
      "text/html": [
       "<span style=\"color:blue\"> |-structured_data_block_1/dense_block_2/num_layers: 1</span>"
      ],
      "text/plain": [
       "<IPython.core.display.HTML object>"
      ]
     },
     "metadata": {},
     "output_type": "display_data"
    },
    {
     "data": {
      "text/html": [
       "<span style=\"color:cyan\"> |-structured_data_block_1/dense_block_2/units_0: 64</span>"
      ],
      "text/plain": [
       "<IPython.core.display.HTML object>"
      ]
     },
     "metadata": {},
     "output_type": "display_data"
    },
    {
     "data": {
      "text/html": [
       "<span style=\"color:blue\"> |-structured_data_block_1/dense_block_2/units_1: 256</span>"
      ],
      "text/plain": [
       "<IPython.core.display.HTML object>"
      ]
     },
     "metadata": {},
     "output_type": "display_data"
    },
    {
     "data": {
      "text/html": [
       "<span style=\"color:cyan\"> |-structured_data_block_1/dense_block_2/units_2: 512</span>"
      ],
      "text/plain": [
       "<IPython.core.display.HTML object>"
      ]
     },
     "metadata": {},
     "output_type": "display_data"
    },
    {
     "data": {
      "text/html": [
       "<span style=\"color:blue\"> |-structured_data_block_1/dense_block_2/use_batchnorm: False</span>"
      ],
      "text/plain": [
       "<IPython.core.display.HTML object>"
      ]
     },
     "metadata": {},
     "output_type": "display_data"
    },
    {
     "name": "stdout",
     "output_type": "stream",
     "text": [
      "Train for 12 steps, validate for 3 steps\n",
      "Epoch 1/1000\n",
      "12/12 [==============================] - ETA: 6s - loss: 3.7648 - accuracy: 0.12 - 1s 68ms/step - loss: 1.6340 - accuracy: 0.6071 - val_loss: 0.6116 - val_accuracy: 0.8462\n",
      "Epoch 2/1000\n",
      "12/12 [==============================] - ETA: 0s - loss: 0.3150 - accuracy: 0.81 - 0s 5ms/step - loss: 0.4210 - accuracy: 0.8791 - val_loss: 0.4584 - val_accuracy: 0.8791\n",
      "Epoch 3/1000\n",
      "12/12 [==============================] - ETA: 0s - loss: 0.3935 - accuracy: 0.81 - 0s 5ms/step - loss: 0.4026 - accuracy: 0.8929 - val_loss: 0.3904 - val_accuracy: 0.8681\n",
      "Epoch 4/1000\n",
      "12/12 [==============================] - ETA: 0s - loss: 0.3612 - accuracy: 0.87 - 0s 4ms/step - loss: 0.3725 - accuracy: 0.9011 - val_loss: 0.3392 - val_accuracy: 0.8681\n",
      "Epoch 5/1000\n",
      "12/12 [==============================] - ETA: 0s - loss: 0.3317 - accuracy: 0.87 - 0s 5ms/step - loss: 0.3465 - accuracy: 0.9011 - val_loss: 0.2952 - val_accuracy: 0.8791\n",
      "Epoch 6/1000\n",
      "12/12 [==============================] - ETA: 0s - loss: 0.2631 - accuracy: 0.90 - 0s 5ms/step - loss: 0.3274 - accuracy: 0.9038 - val_loss: 0.2570 - val_accuracy: 0.8791\n",
      "Epoch 7/1000\n",
      "12/12 [==============================] - ETA: 0s - loss: 0.2317 - accuracy: 0.87 - 0s 6ms/step - loss: 0.3314 - accuracy: 0.8901 - val_loss: 0.2199 - val_accuracy: 0.8901\n",
      "Epoch 8/1000\n",
      "12/12 [==============================] - ETA: 0s - loss: 0.2219 - accuracy: 0.87 - 0s 5ms/step - loss: 0.3057 - accuracy: 0.8901 - val_loss: 0.1959 - val_accuracy: 0.9231\n",
      "Epoch 9/1000\n",
      "12/12 [==============================] - ETA: 0s - loss: 0.2200 - accuracy: 0.87 - 0s 5ms/step - loss: 0.3080 - accuracy: 0.8929 - val_loss: 0.1841 - val_accuracy: 0.9341\n",
      "Epoch 10/1000\n",
      "12/12 [==============================] - ETA: 0s - loss: 0.2086 - accuracy: 0.90 - 0s 4ms/step - loss: 0.2919 - accuracy: 0.9038 - val_loss: 0.1782 - val_accuracy: 0.9341\n",
      "Epoch 11/1000\n",
      "12/12 [==============================] - ETA: 0s - loss: 0.2058 - accuracy: 0.90 - 0s 5ms/step - loss: 0.2766 - accuracy: 0.9038 - val_loss: 0.1774 - val_accuracy: 0.9341\n",
      "Epoch 12/1000\n",
      "12/12 [==============================] - ETA: 0s - loss: 0.2079 - accuracy: 0.90 - 0s 5ms/step - loss: 0.2789 - accuracy: 0.9011 - val_loss: 0.1777 - val_accuracy: 0.9341\n",
      "Epoch 13/1000\n",
      "12/12 [==============================] - ETA: 0s - loss: 0.2090 - accuracy: 0.90 - 0s 5ms/step - loss: 0.2923 - accuracy: 0.8984 - val_loss: 0.1724 - val_accuracy: 0.9341\n",
      "Epoch 14/1000\n",
      "12/12 [==============================] - ETA: 0s - loss: 0.2010 - accuracy: 0.90 - 0s 4ms/step - loss: 0.2827 - accuracy: 0.9038 - val_loss: 0.1722 - val_accuracy: 0.9341\n",
      "Epoch 15/1000\n",
      "12/12 [==============================] - ETA: 0s - loss: 0.1983 - accuracy: 0.90 - 0s 5ms/step - loss: 0.2535 - accuracy: 0.9038 - val_loss: 0.1774 - val_accuracy: 0.9341\n",
      "Epoch 16/1000\n",
      "12/12 [==============================] - ETA: 0s - loss: 0.2033 - accuracy: 0.90 - 0s 5ms/step - loss: 0.2536 - accuracy: 0.8984 - val_loss: 0.1872 - val_accuracy: 0.9451\n",
      "Epoch 17/1000\n",
      "12/12 [==============================] - ETA: 0s - loss: 0.2115 - accuracy: 0.90 - 0s 5ms/step - loss: 0.2745 - accuracy: 0.9093 - val_loss: 0.1763 - val_accuracy: 0.9341\n",
      "Epoch 18/1000\n",
      "12/12 [==============================] - ETA: 0s - loss: 0.2000 - accuracy: 0.90 - 0s 4ms/step - loss: 0.2690 - accuracy: 0.9066 - val_loss: 0.1712 - val_accuracy: 0.9341\n",
      "Epoch 19/1000\n",
      "12/12 [==============================] - ETA: 0s - loss: 0.1921 - accuracy: 0.90 - 0s 4ms/step - loss: 0.2443 - accuracy: 0.8984 - val_loss: 0.1781 - val_accuracy: 0.9341\n",
      "Epoch 20/1000\n",
      "12/12 [==============================] - ETA: 0s - loss: 0.1977 - accuracy: 0.90 - 0s 5ms/step - loss: 0.2421 - accuracy: 0.9121 - val_loss: 0.2109 - val_accuracy: 0.9231\n",
      "Epoch 21/1000\n",
      "12/12 [==============================] - ETA: 0s - loss: 0.2275 - accuracy: 0.90 - 0s 4ms/step - loss: 0.2881 - accuracy: 0.9093 - val_loss: 0.1711 - val_accuracy: 0.9341\n",
      "Epoch 22/1000\n",
      "12/12 [==============================] - ETA: 0s - loss: 0.1876 - accuracy: 0.90 - 0s 5ms/step - loss: 0.2591 - accuracy: 0.9066 - val_loss: 0.1721 - val_accuracy: 0.9341\n",
      "Epoch 23/1000\n",
      "12/12 [==============================] - ETA: 0s - loss: 0.1853 - accuracy: 0.90 - 0s 5ms/step - loss: 0.2166 - accuracy: 0.9066 - val_loss: 0.1983 - val_accuracy: 0.9451\n",
      "Epoch 24/1000\n",
      "12/12 [==============================] - ETA: 0s - loss: 0.2086 - accuracy: 0.90 - 0s 5ms/step - loss: 0.2553 - accuracy: 0.9121 - val_loss: 0.1849 - val_accuracy: 0.9341\n",
      "Epoch 25/1000\n",
      "12/12 [==============================] - ETA: 0s - loss: 0.2005 - accuracy: 0.90 - 0s 5ms/step - loss: 0.2825 - accuracy: 0.9121 - val_loss: 0.1717 - val_accuracy: 0.9341\n",
      "Epoch 26/1000\n",
      "12/12 [==============================] - ETA: 0s - loss: 0.1802 - accuracy: 0.90 - 0s 5ms/step - loss: 0.2093 - accuracy: 0.9121 - val_loss: 0.1887 - val_accuracy: 0.9451\n",
      "Epoch 27/1000\n",
      "12/12 [==============================] - ETA: 0s - loss: 0.2010 - accuracy: 0.90 - 0s 5ms/step - loss: 0.2301 - accuracy: 0.9148 - val_loss: 0.2175 - val_accuracy: 0.9231\n",
      "Epoch 28/1000\n",
      "12/12 [==============================] - ETA: 0s - loss: 0.2319 - accuracy: 0.90 - 0s 5ms/step - loss: 0.3011 - accuracy: 0.9066 - val_loss: 0.1697 - val_accuracy: 0.9341\n",
      "Epoch 29/1000\n",
      "12/12 [==============================] - ETA: 0s - loss: 0.1736 - accuracy: 0.90 - 0s 5ms/step - loss: 0.2077 - accuracy: 0.9093 - val_loss: 0.1880 - val_accuracy: 0.9341\n",
      "Epoch 30/1000\n",
      "12/12 [==============================] - ETA: 0s - loss: 0.1964 - accuracy: 0.90 - 0s 5ms/step - loss: 0.2284 - accuracy: 0.9093 - val_loss: 0.2537 - val_accuracy: 0.9451\n",
      "Epoch 31/1000\n",
      "12/12 [==============================] - ETA: 0s - loss: 0.2707 - accuracy: 0.87 - 0s 5ms/step - loss: 0.3286 - accuracy: 0.8956 - val_loss: 0.1743 - val_accuracy: 0.9341\n",
      "Epoch 32/1000\n",
      "12/12 [==============================] - ETA: 0s - loss: 0.1735 - accuracy: 0.93 - 0s 5ms/step - loss: 0.2002 - accuracy: 0.9176 - val_loss: 0.2143 - val_accuracy: 0.9560\n",
      "Epoch 33/1000\n",
      "12/12 [==============================] - ETA: 0s - loss: 0.2409 - accuracy: 0.87 - 0s 5ms/step - loss: 0.2356 - accuracy: 0.9093 - val_loss: 0.2039 - val_accuracy: 0.9341\n",
      "Epoch 34/1000\n",
      "12/12 [==============================] - ETA: 0s - loss: 0.2107 - accuracy: 0.90 - 0s 5ms/step - loss: 0.3138 - accuracy: 0.9066 - val_loss: 0.1756 - val_accuracy: 0.9341\n",
      "Epoch 35/1000\n",
      "12/12 [==============================] - ETA: 0s - loss: 0.1720 - accuracy: 0.90 - 0s 5ms/step - loss: 0.1802 - accuracy: 0.9203 - val_loss: 0.2169 - val_accuracy: 0.9341\n",
      "Epoch 36/1000\n",
      "12/12 [==============================] - ETA: 0s - loss: 0.2331 - accuracy: 0.90 - 0s 5ms/step - loss: 0.2282 - accuracy: 0.9148 - val_loss: 0.1876 - val_accuracy: 0.9341\n",
      "Epoch 37/1000\n",
      "12/12 [==============================] - ETA: 0s - loss: 0.1814 - accuracy: 0.93 - 0s 5ms/step - loss: 0.2548 - accuracy: 0.9121 - val_loss: 0.1754 - val_accuracy: 0.9341\n",
      "Epoch 38/1000\n",
      "12/12 [==============================] - ETA: 0s - loss: 0.1776 - accuracy: 0.90 - 0s 4ms/step - loss: 0.1862 - accuracy: 0.9258 - val_loss: 0.1861 - val_accuracy: 0.9341\n"
     ]
    },
    {
     "data": {
      "text/html": [
       "<span style=\"color:#4527A0\"><h1 style=\"font-size:18px\">Trial complete</h1></span>"
      ],
      "text/plain": [
       "<IPython.core.display.HTML object>"
      ]
     },
     "metadata": {},
     "output_type": "display_data"
    },
    {
     "data": {
      "text/html": [
       "<span style=\"color:#4527A0\"><h1 style=\"font-size:18px\">Trial summary</h1></span>"
      ],
      "text/plain": [
       "<IPython.core.display.HTML object>"
      ]
     },
     "metadata": {},
     "output_type": "display_data"
    },
    {
     "data": {
      "text/html": [
       "<span style=\"color:cyan\"> |-Trial ID: 4ccfd42033f1ce77263fed9348fc4c4c</span>"
      ],
      "text/plain": [
       "<IPython.core.display.HTML object>"
      ]
     },
     "metadata": {},
     "output_type": "display_data"
    },
    {
     "data": {
      "text/html": [
       "<span style=\"color:cyan\"> |-Score: 0.9560439586639404</span>"
      ],
      "text/plain": [
       "<IPython.core.display.HTML object>"
      ]
     },
     "metadata": {},
     "output_type": "display_data"
    },
    {
     "data": {
      "text/html": [
       "<span style=\"color:cyan\"> |-Best step: 0</span>"
      ],
      "text/plain": [
       "<IPython.core.display.HTML object>"
      ]
     },
     "metadata": {},
     "output_type": "display_data"
    },
    {
     "data": {
      "text/html": [
       "<span style=\"color:#7E57C2\"><h2 style=\"font-size:16px\">Hyperparameters:</h2></span>"
      ],
      "text/plain": [
       "<IPython.core.display.HTML object>"
      ]
     },
     "metadata": {},
     "output_type": "display_data"
    },
    {
     "data": {
      "text/html": [
       "<span style=\"color:cyan\"> |-classification_head_1/dropout_rate: 0</span>"
      ],
      "text/plain": [
       "<IPython.core.display.HTML object>"
      ]
     },
     "metadata": {},
     "output_type": "display_data"
    },
    {
     "data": {
      "text/html": [
       "<span style=\"color:blue\"> |-optimizer: adam</span>"
      ],
      "text/plain": [
       "<IPython.core.display.HTML object>"
      ]
     },
     "metadata": {},
     "output_type": "display_data"
    },
    {
     "data": {
      "text/html": [
       "<span style=\"color:cyan\"> |-structured_data_block_1/dense_block_1/dropout_rate: 0.0</span>"
      ],
      "text/plain": [
       "<IPython.core.display.HTML object>"
      ]
     },
     "metadata": {},
     "output_type": "display_data"
    },
    {
     "data": {
      "text/html": [
       "<span style=\"color:blue\"> |-structured_data_block_1/dense_block_1/num_layers: 2</span>"
      ],
      "text/plain": [
       "<IPython.core.display.HTML object>"
      ]
     },
     "metadata": {},
     "output_type": "display_data"
    },
    {
     "data": {
      "text/html": [
       "<span style=\"color:cyan\"> |-structured_data_block_1/dense_block_1/units_0: 16</span>"
      ],
      "text/plain": [
       "<IPython.core.display.HTML object>"
      ]
     },
     "metadata": {},
     "output_type": "display_data"
    },
    {
     "data": {
      "text/html": [
       "<span style=\"color:blue\"> |-structured_data_block_1/dense_block_1/units_1: 256</span>"
      ],
      "text/plain": [
       "<IPython.core.display.HTML object>"
      ]
     },
     "metadata": {},
     "output_type": "display_data"
    },
    {
     "data": {
      "text/html": [
       "<span style=\"color:cyan\"> |-structured_data_block_1/dense_block_1/units_2: 16</span>"
      ],
      "text/plain": [
       "<IPython.core.display.HTML object>"
      ]
     },
     "metadata": {},
     "output_type": "display_data"
    },
    {
     "data": {
      "text/html": [
       "<span style=\"color:blue\"> |-structured_data_block_1/dense_block_1/use_batchnorm: False</span>"
      ],
      "text/plain": [
       "<IPython.core.display.HTML object>"
      ]
     },
     "metadata": {},
     "output_type": "display_data"
    },
    {
     "data": {
      "text/html": [
       "<span style=\"color:cyan\"> |-structured_data_block_1/dense_block_2/dropout_rate: 0.0</span>"
      ],
      "text/plain": [
       "<IPython.core.display.HTML object>"
      ]
     },
     "metadata": {},
     "output_type": "display_data"
    },
    {
     "data": {
      "text/html": [
       "<span style=\"color:blue\"> |-structured_data_block_1/dense_block_2/num_layers: 1</span>"
      ],
      "text/plain": [
       "<IPython.core.display.HTML object>"
      ]
     },
     "metadata": {},
     "output_type": "display_data"
    },
    {
     "data": {
      "text/html": [
       "<span style=\"color:cyan\"> |-structured_data_block_1/dense_block_2/units_0: 512</span>"
      ],
      "text/plain": [
       "<IPython.core.display.HTML object>"
      ]
     },
     "metadata": {},
     "output_type": "display_data"
    },
    {
     "data": {
      "text/html": [
       "<span style=\"color:blue\"> |-structured_data_block_1/dense_block_2/units_1: 16</span>"
      ],
      "text/plain": [
       "<IPython.core.display.HTML object>"
      ]
     },
     "metadata": {},
     "output_type": "display_data"
    },
    {
     "data": {
      "text/html": [
       "<span style=\"color:cyan\"> |-structured_data_block_1/dense_block_2/units_2: 16</span>"
      ],
      "text/plain": [
       "<IPython.core.display.HTML object>"
      ]
     },
     "metadata": {},
     "output_type": "display_data"
    },
    {
     "data": {
      "text/html": [
       "<span style=\"color:blue\"> |-structured_data_block_1/dense_block_2/use_batchnorm: False</span>"
      ],
      "text/plain": [
       "<IPython.core.display.HTML object>"
      ]
     },
     "metadata": {},
     "output_type": "display_data"
    },
    {
     "name": "stdout",
     "output_type": "stream",
     "text": [
      "Train for 12 steps, validate for 3 steps\n",
      "Epoch 1/1000\n",
      "12/12 [==============================] - ETA: 5s - loss: 16.5210 - accuracy: 0.250 - 1s 63ms/step - loss: 2.7955 - accuracy: 0.6401 - val_loss: 0.4843 - val_accuracy: 0.8352\n",
      "Epoch 2/1000\n",
      "12/12 [==============================] - ETA: 0s - loss: 0.5955 - accuracy: 0.84 - 0s 5ms/step - loss: 0.4059 - accuracy: 0.9066 - val_loss: 0.2572 - val_accuracy: 0.9231\n",
      "Epoch 3/1000\n",
      "12/12 [==============================] - ETA: 0s - loss: 0.3187 - accuracy: 0.87 - 0s 5ms/step - loss: 0.3800 - accuracy: 0.9011 - val_loss: 0.2514 - val_accuracy: 0.9341\n",
      "Epoch 4/1000\n",
      "12/12 [==============================] - ETA: 0s - loss: 0.2845 - accuracy: 0.90 - 0s 5ms/step - loss: 0.3970 - accuracy: 0.8736 - val_loss: 0.4053 - val_accuracy: 0.8681\n",
      "Epoch 5/1000\n",
      "12/12 [==============================] - ETA: 0s - loss: 0.4306 - accuracy: 0.84 - 0s 5ms/step - loss: 0.3363 - accuracy: 0.9066 - val_loss: 0.2572 - val_accuracy: 0.9121\n",
      "Epoch 6/1000\n",
      "12/12 [==============================] - ETA: 0s - loss: 0.2528 - accuracy: 0.90 - 0s 5ms/step - loss: 0.2961 - accuracy: 0.9066 - val_loss: 0.2839 - val_accuracy: 0.9231\n",
      "Epoch 7/1000\n",
      "12/12 [==============================] - ETA: 0s - loss: 0.2666 - accuracy: 0.90 - 0s 5ms/step - loss: 0.3042 - accuracy: 0.9066 - val_loss: 0.2721 - val_accuracy: 0.9341\n",
      "Epoch 8/1000\n",
      "12/12 [==============================] - ETA: 0s - loss: 0.2438 - accuracy: 0.90 - 0s 5ms/step - loss: 0.3201 - accuracy: 0.9066 - val_loss: 0.2554 - val_accuracy: 0.9231\n",
      "Epoch 9/1000\n",
      "12/12 [==============================] - ETA: 0s - loss: 0.2152 - accuracy: 0.90 - 0s 5ms/step - loss: 0.3045 - accuracy: 0.9066 - val_loss: 0.3877 - val_accuracy: 0.8571\n",
      "Epoch 10/1000\n",
      "12/12 [==============================] - ETA: 0s - loss: 0.3833 - accuracy: 0.81 - 0s 5ms/step - loss: 0.4058 - accuracy: 0.8846 - val_loss: 0.2280 - val_accuracy: 0.9231\n",
      "Epoch 11/1000\n",
      "12/12 [==============================] - ETA: 0s - loss: 0.1765 - accuracy: 0.93 - 0s 5ms/step - loss: 0.2541 - accuracy: 0.9148 - val_loss: 0.2955 - val_accuracy: 0.9231\n",
      "Epoch 12/1000\n",
      "12/12 [==============================] - ETA: 0s - loss: 0.2711 - accuracy: 0.87 - 0s 5ms/step - loss: 0.3457 - accuracy: 0.9011 - val_loss: 0.2721 - val_accuracy: 0.9341\n",
      "Epoch 13/1000\n",
      "12/12 [==============================] - ETA: 0s - loss: 0.2356 - accuracy: 0.90 - 0s 5ms/step - loss: 0.3387 - accuracy: 0.9066 - val_loss: 0.2188 - val_accuracy: 0.9121\n",
      "Epoch 14/1000\n",
      "12/12 [==============================] - ETA: 0s - loss: 0.1558 - accuracy: 0.93 - 0s 4ms/step - loss: 0.2635 - accuracy: 0.9203 - val_loss: 0.2224 - val_accuracy: 0.9231\n",
      "Epoch 15/1000\n",
      "12/12 [==============================] - ETA: 0s - loss: 0.1601 - accuracy: 0.90 - 0s 5ms/step - loss: 0.2672 - accuracy: 0.9176 - val_loss: 0.2555 - val_accuracy: 0.9341\n",
      "Epoch 16/1000\n",
      "12/12 [==============================] - ETA: 0s - loss: 0.2167 - accuracy: 0.90 - 0s 5ms/step - loss: 0.3081 - accuracy: 0.9148 - val_loss: 0.2598 - val_accuracy: 0.9341\n",
      "Epoch 17/1000\n",
      "12/12 [==============================] - ETA: 0s - loss: 0.2296 - accuracy: 0.90 - 0s 5ms/step - loss: 0.3224 - accuracy: 0.9148 - val_loss: 0.2019 - val_accuracy: 0.9341\n",
      "Epoch 18/1000\n",
      "12/12 [==============================] - ETA: 0s - loss: 0.1300 - accuracy: 0.93 - 0s 5ms/step - loss: 0.2490 - accuracy: 0.9203 - val_loss: 0.1989 - val_accuracy: 0.9121\n",
      "Epoch 19/1000\n",
      "12/12 [==============================] - ETA: 0s - loss: 0.1204 - accuracy: 0.93 - 0s 5ms/step - loss: 0.2278 - accuracy: 0.9286 - val_loss: 0.2256 - val_accuracy: 0.9231\n",
      "Epoch 20/1000\n",
      "12/12 [==============================] - ETA: 0s - loss: 0.1714 - accuracy: 0.93 - 0s 4ms/step - loss: 0.2796 - accuracy: 0.9231 - val_loss: 0.2818 - val_accuracy: 0.9231\n",
      "Epoch 21/1000\n",
      "12/12 [==============================] - ETA: 0s - loss: 0.2769 - accuracy: 0.87 - 0s 4ms/step - loss: 0.3267 - accuracy: 0.9121 - val_loss: 0.2124 - val_accuracy: 0.9231\n",
      "Epoch 22/1000\n",
      "12/12 [==============================] - ETA: 0s - loss: 0.1580 - accuracy: 0.93 - 0s 5ms/step - loss: 0.2971 - accuracy: 0.9121 - val_loss: 0.1859 - val_accuracy: 0.9341\n",
      "Epoch 23/1000\n",
      "12/12 [==============================] - ETA: 0s - loss: 0.0946 - accuracy: 0.96 - 0s 5ms/step - loss: 0.1984 - accuracy: 0.9258 - val_loss: 0.1877 - val_accuracy: 0.9231\n",
      "Epoch 24/1000\n",
      "12/12 [==============================] - ETA: 0s - loss: 0.1033 - accuracy: 0.96 - 0s 5ms/step - loss: 0.2217 - accuracy: 0.9286 - val_loss: 0.2701 - val_accuracy: 0.9231\n",
      "Epoch 25/1000\n",
      "12/12 [==============================] - ETA: 0s - loss: 0.2600 - accuracy: 0.87 - 0s 5ms/step - loss: 0.3234 - accuracy: 0.9148 - val_loss: 0.2368 - val_accuracy: 0.9451\n",
      "Epoch 26/1000\n",
      "12/12 [==============================] - ETA: 0s - loss: 0.2116 - accuracy: 0.90 - 0s 5ms/step - loss: 0.3402 - accuracy: 0.9066 - val_loss: 0.1822 - val_accuracy: 0.9341\n",
      "Epoch 27/1000\n",
      "12/12 [==============================] - ETA: 0s - loss: 0.0870 - accuracy: 0.96 - 0s 4ms/step - loss: 0.1814 - accuracy: 0.9368 - val_loss: 0.1918 - val_accuracy: 0.9231\n",
      "Epoch 28/1000\n",
      "12/12 [==============================] - ETA: 0s - loss: 0.1171 - accuracy: 0.93 - 0s 5ms/step - loss: 0.2369 - accuracy: 0.9203 - val_loss: 0.3563 - val_accuracy: 0.9011\n",
      "Epoch 29/1000\n",
      "12/12 [==============================] - ETA: 0s - loss: 0.4082 - accuracy: 0.81 - 0s 5ms/step - loss: 0.3710 - accuracy: 0.8929 - val_loss: 0.1715 - val_accuracy: 0.9341\n",
      "Epoch 30/1000\n",
      "12/12 [==============================] - ETA: 0s - loss: 0.0727 - accuracy: 0.96 - 0s 5ms/step - loss: 0.2059 - accuracy: 0.9286 - val_loss: 0.1838 - val_accuracy: 0.9231\n",
      "Epoch 31/1000\n",
      "12/12 [==============================] - ETA: 0s - loss: 0.1067 - accuracy: 0.93 - 0s 5ms/step - loss: 0.2218 - accuracy: 0.9231 - val_loss: 0.2711 - val_accuracy: 0.9231\n",
      "Epoch 32/1000\n",
      "12/12 [==============================] - ETA: 0s - loss: 0.2630 - accuracy: 0.90 - 0s 5ms/step - loss: 0.3459 - accuracy: 0.9066 - val_loss: 0.1753 - val_accuracy: 0.9451\n",
      "Epoch 33/1000\n",
      "12/12 [==============================] - ETA: 0s - loss: 0.0716 - accuracy: 0.96 - 0s 5ms/step - loss: 0.1619 - accuracy: 0.9368 - val_loss: 0.1928 - val_accuracy: 0.9231\n",
      "Epoch 34/1000\n",
      "12/12 [==============================] - ETA: 0s - loss: 0.1266 - accuracy: 0.93 - 0s 5ms/step - loss: 0.2386 - accuracy: 0.9176 - val_loss: 0.3269 - val_accuracy: 0.9011\n",
      "Epoch 35/1000\n",
      "12/12 [==============================] - ETA: 0s - loss: 0.3606 - accuracy: 0.81 - 0s 5ms/step - loss: 0.3731 - accuracy: 0.8929 - val_loss: 0.1740 - val_accuracy: 0.9451\n",
      "Epoch 36/1000\n",
      "12/12 [==============================] - ETA: 0s - loss: 0.0671 - accuracy: 0.96 - 0s 5ms/step - loss: 0.1543 - accuracy: 0.9368 - val_loss: 0.1982 - val_accuracy: 0.9341\n",
      "Epoch 37/1000\n",
      "12/12 [==============================] - ETA: 0s - loss: 0.1394 - accuracy: 0.93 - 0s 4ms/step - loss: 0.2476 - accuracy: 0.9176 - val_loss: 0.3027 - val_accuracy: 0.9121\n",
      "Epoch 38/1000\n",
      "12/12 [==============================] - ETA: 0s - loss: 0.3200 - accuracy: 0.87 - 0s 4ms/step - loss: 0.4329 - accuracy: 0.8874 - val_loss: 0.1981 - val_accuracy: 0.9451\n",
      "Epoch 39/1000\n",
      "12/12 [==============================] - ETA: 0s - loss: 0.0962 - accuracy: 0.93 - 0s 5ms/step - loss: 0.1476 - accuracy: 0.9478 - val_loss: 0.2209 - val_accuracy: 0.9451\n"
     ]
    },
    {
     "data": {
      "text/html": [
       "<span style=\"color:#4527A0\"><h1 style=\"font-size:18px\">Trial complete</h1></span>"
      ],
      "text/plain": [
       "<IPython.core.display.HTML object>"
      ]
     },
     "metadata": {},
     "output_type": "display_data"
    },
    {
     "data": {
      "text/html": [
       "<span style=\"color:#4527A0\"><h1 style=\"font-size:18px\">Trial summary</h1></span>"
      ],
      "text/plain": [
       "<IPython.core.display.HTML object>"
      ]
     },
     "metadata": {},
     "output_type": "display_data"
    },
    {
     "data": {
      "text/html": [
       "<span style=\"color:cyan\"> |-Trial ID: 41867a1c5b046a9a1abbbea2156c8412</span>"
      ],
      "text/plain": [
       "<IPython.core.display.HTML object>"
      ]
     },
     "metadata": {},
     "output_type": "display_data"
    },
    {
     "data": {
      "text/html": [
       "<span style=\"color:cyan\"> |-Score: 0.9450549483299255</span>"
      ],
      "text/plain": [
       "<IPython.core.display.HTML object>"
      ]
     },
     "metadata": {},
     "output_type": "display_data"
    },
    {
     "data": {
      "text/html": [
       "<span style=\"color:cyan\"> |-Best step: 0</span>"
      ],
      "text/plain": [
       "<IPython.core.display.HTML object>"
      ]
     },
     "metadata": {},
     "output_type": "display_data"
    },
    {
     "data": {
      "text/html": [
       "<span style=\"color:#7E57C2\"><h2 style=\"font-size:16px\">Hyperparameters:</h2></span>"
      ],
      "text/plain": [
       "<IPython.core.display.HTML object>"
      ]
     },
     "metadata": {},
     "output_type": "display_data"
    },
    {
     "data": {
      "text/html": [
       "<span style=\"color:cyan\"> |-classification_head_1/dropout_rate: 0</span>"
      ],
      "text/plain": [
       "<IPython.core.display.HTML object>"
      ]
     },
     "metadata": {},
     "output_type": "display_data"
    },
    {
     "data": {
      "text/html": [
       "<span style=\"color:blue\"> |-optimizer: adam</span>"
      ],
      "text/plain": [
       "<IPython.core.display.HTML object>"
      ]
     },
     "metadata": {},
     "output_type": "display_data"
    },
    {
     "data": {
      "text/html": [
       "<span style=\"color:cyan\"> |-structured_data_block_1/dense_block_1/dropout_rate: 0.0</span>"
      ],
      "text/plain": [
       "<IPython.core.display.HTML object>"
      ]
     },
     "metadata": {},
     "output_type": "display_data"
    },
    {
     "data": {
      "text/html": [
       "<span style=\"color:blue\"> |-structured_data_block_1/dense_block_1/num_layers: 1</span>"
      ],
      "text/plain": [
       "<IPython.core.display.HTML object>"
      ]
     },
     "metadata": {},
     "output_type": "display_data"
    },
    {
     "data": {
      "text/html": [
       "<span style=\"color:cyan\"> |-structured_data_block_1/dense_block_1/units_0: 512</span>"
      ],
      "text/plain": [
       "<IPython.core.display.HTML object>"
      ]
     },
     "metadata": {},
     "output_type": "display_data"
    },
    {
     "data": {
      "text/html": [
       "<span style=\"color:blue\"> |-structured_data_block_1/dense_block_1/units_1: 64</span>"
      ],
      "text/plain": [
       "<IPython.core.display.HTML object>"
      ]
     },
     "metadata": {},
     "output_type": "display_data"
    },
    {
     "data": {
      "text/html": [
       "<span style=\"color:cyan\"> |-structured_data_block_1/dense_block_1/units_2: 64</span>"
      ],
      "text/plain": [
       "<IPython.core.display.HTML object>"
      ]
     },
     "metadata": {},
     "output_type": "display_data"
    },
    {
     "data": {
      "text/html": [
       "<span style=\"color:blue\"> |-structured_data_block_1/dense_block_1/use_batchnorm: False</span>"
      ],
      "text/plain": [
       "<IPython.core.display.HTML object>"
      ]
     },
     "metadata": {},
     "output_type": "display_data"
    },
    {
     "data": {
      "text/html": [
       "<span style=\"color:cyan\"> |-structured_data_block_1/dense_block_2/dropout_rate: 0.25</span>"
      ],
      "text/plain": [
       "<IPython.core.display.HTML object>"
      ]
     },
     "metadata": {},
     "output_type": "display_data"
    },
    {
     "data": {
      "text/html": [
       "<span style=\"color:blue\"> |-structured_data_block_1/dense_block_2/num_layers: 1</span>"
      ],
      "text/plain": [
       "<IPython.core.display.HTML object>"
      ]
     },
     "metadata": {},
     "output_type": "display_data"
    },
    {
     "data": {
      "text/html": [
       "<span style=\"color:cyan\"> |-structured_data_block_1/dense_block_2/units_0: 1024</span>"
      ],
      "text/plain": [
       "<IPython.core.display.HTML object>"
      ]
     },
     "metadata": {},
     "output_type": "display_data"
    },
    {
     "data": {
      "text/html": [
       "<span style=\"color:blue\"> |-structured_data_block_1/dense_block_2/units_1: 1024</span>"
      ],
      "text/plain": [
       "<IPython.core.display.HTML object>"
      ]
     },
     "metadata": {},
     "output_type": "display_data"
    },
    {
     "data": {
      "text/html": [
       "<span style=\"color:cyan\"> |-structured_data_block_1/dense_block_2/units_2: 128</span>"
      ],
      "text/plain": [
       "<IPython.core.display.HTML object>"
      ]
     },
     "metadata": {},
     "output_type": "display_data"
    },
    {
     "data": {
      "text/html": [
       "<span style=\"color:blue\"> |-structured_data_block_1/dense_block_2/use_batchnorm: False</span>"
      ],
      "text/plain": [
       "<IPython.core.display.HTML object>"
      ]
     },
     "metadata": {},
     "output_type": "display_data"
    },
    {
     "name": "stdout",
     "output_type": "stream",
     "text": [
      "Train for 12 steps, validate for 3 steps\n",
      "Epoch 1/1000\n",
      "12/12 [==============================] - ETA: 13s - loss: 0.7827 - accuracy: 0.468 - 2s 125ms/step - loss: 0.6753 - accuracy: 0.6126 - val_loss: 1.5329 - val_accuracy: 0.4176\n",
      "Epoch 2/1000\n",
      "12/12 [==============================] - ETA: 0s - loss: 0.5479 - accuracy: 0.81 - 0s 5ms/step - loss: 0.4053 - accuracy: 0.8571 - val_loss: 1.8094 - val_accuracy: 0.4176\n",
      "Epoch 3/1000\n",
      "12/12 [==============================] - ETA: 0s - loss: 0.3806 - accuracy: 0.90 - 0s 5ms/step - loss: 0.3146 - accuracy: 0.9011 - val_loss: 1.6107 - val_accuracy: 0.4176\n",
      "Epoch 4/1000\n",
      "12/12 [==============================] - ETA: 0s - loss: 0.3594 - accuracy: 0.90 - 0s 7ms/step - loss: 0.2875 - accuracy: 0.9176 - val_loss: 1.2718 - val_accuracy: 0.4505\n",
      "Epoch 5/1000\n",
      "12/12 [==============================] - ETA: 0s - loss: 0.3070 - accuracy: 0.90 - 0s 6ms/step - loss: 0.2589 - accuracy: 0.9258 - val_loss: 0.9504 - val_accuracy: 0.5714\n",
      "Epoch 6/1000\n",
      "12/12 [==============================] - ETA: 0s - loss: 0.2367 - accuracy: 1.00 - 0s 6ms/step - loss: 0.2408 - accuracy: 0.9423 - val_loss: 0.6960 - val_accuracy: 0.6593\n",
      "Epoch 7/1000\n",
      "12/12 [==============================] - ETA: 0s - loss: 0.3182 - accuracy: 0.84 - 0s 6ms/step - loss: 0.2351 - accuracy: 0.9066 - val_loss: 0.5175 - val_accuracy: 0.7033\n",
      "Epoch 8/1000\n",
      "12/12 [==============================] - ETA: 0s - loss: 0.2063 - accuracy: 0.96 - 0s 7ms/step - loss: 0.2198 - accuracy: 0.9231 - val_loss: 0.3766 - val_accuracy: 0.8242\n",
      "Epoch 9/1000\n",
      "12/12 [==============================] - ETA: 0s - loss: 0.2241 - accuracy: 0.90 - 0s 6ms/step - loss: 0.2027 - accuracy: 0.9368 - val_loss: 0.2688 - val_accuracy: 0.9011\n",
      "Epoch 10/1000\n",
      "12/12 [==============================] - ETA: 0s - loss: 0.2497 - accuracy: 0.90 - 0s 6ms/step - loss: 0.1916 - accuracy: 0.9368 - val_loss: 0.2357 - val_accuracy: 0.9231\n",
      "Epoch 11/1000\n",
      "12/12 [==============================] - ETA: 0s - loss: 0.2339 - accuracy: 0.90 - 0s 7ms/step - loss: 0.1957 - accuracy: 0.9231 - val_loss: 0.2023 - val_accuracy: 0.9341\n",
      "Epoch 12/1000\n",
      "12/12 [==============================] - ETA: 0s - loss: 0.2372 - accuracy: 0.87 - 0s 7ms/step - loss: 0.1824 - accuracy: 0.9286 - val_loss: 0.1715 - val_accuracy: 0.9560\n",
      "Epoch 13/1000\n",
      "12/12 [==============================] - ETA: 0s - loss: 0.1669 - accuracy: 0.93 - 0s 5ms/step - loss: 0.1623 - accuracy: 0.9505 - val_loss: 0.1554 - val_accuracy: 0.9451\n",
      "Epoch 14/1000\n",
      "12/12 [==============================] - ETA: 0s - loss: 0.2348 - accuracy: 0.87 - 0s 5ms/step - loss: 0.1822 - accuracy: 0.9286 - val_loss: 0.1485 - val_accuracy: 0.9231\n",
      "Epoch 15/1000\n",
      "12/12 [==============================] - ETA: 0s - loss: 0.2310 - accuracy: 0.90 - 0s 5ms/step - loss: 0.1679 - accuracy: 0.9368 - val_loss: 0.1461 - val_accuracy: 0.9451\n",
      "Epoch 16/1000\n",
      "12/12 [==============================] - ETA: 0s - loss: 0.2437 - accuracy: 0.90 - 0s 5ms/step - loss: 0.1795 - accuracy: 0.9341 - val_loss: 0.1464 - val_accuracy: 0.9451\n",
      "Epoch 17/1000\n",
      "12/12 [==============================] - ETA: 0s - loss: 0.1965 - accuracy: 0.93 - 0s 5ms/step - loss: 0.1723 - accuracy: 0.9286 - val_loss: 0.1359 - val_accuracy: 0.9451\n",
      "Epoch 18/1000\n",
      "12/12 [==============================] - ETA: 0s - loss: 0.2149 - accuracy: 0.93 - 0s 5ms/step - loss: 0.1679 - accuracy: 0.9451 - val_loss: 0.1308 - val_accuracy: 0.9451\n",
      "Epoch 19/1000\n",
      "12/12 [==============================] - ETA: 0s - loss: 0.2238 - accuracy: 0.90 - 0s 5ms/step - loss: 0.1635 - accuracy: 0.9286 - val_loss: 0.1225 - val_accuracy: 0.9560\n",
      "Epoch 20/1000\n",
      "12/12 [==============================] - ETA: 0s - loss: 0.1680 - accuracy: 0.96 - 0s 5ms/step - loss: 0.1452 - accuracy: 0.9588 - val_loss: 0.1261 - val_accuracy: 0.9560\n",
      "Epoch 21/1000\n",
      "12/12 [==============================] - ETA: 0s - loss: 0.2292 - accuracy: 0.90 - 0s 5ms/step - loss: 0.1444 - accuracy: 0.9451 - val_loss: 0.1249 - val_accuracy: 0.9560\n",
      "Epoch 22/1000\n",
      "12/12 [==============================] - ETA: 0s - loss: 0.2059 - accuracy: 0.87 - 0s 5ms/step - loss: 0.1389 - accuracy: 0.9423 - val_loss: 0.1293 - val_accuracy: 0.9451\n",
      "Epoch 23/1000\n",
      "12/12 [==============================] - ETA: 0s - loss: 0.1729 - accuracy: 0.90 - 0s 7ms/step - loss: 0.1381 - accuracy: 0.9368 - val_loss: 0.1186 - val_accuracy: 0.9670\n",
      "Epoch 24/1000\n",
      "12/12 [==============================] - ETA: 0s - loss: 0.2417 - accuracy: 0.93 - 0s 5ms/step - loss: 0.1403 - accuracy: 0.9533 - val_loss: 0.1295 - val_accuracy: 0.9451\n",
      "Epoch 25/1000\n",
      "12/12 [==============================] - ETA: 0s - loss: 0.1397 - accuracy: 0.96 - 0s 5ms/step - loss: 0.1238 - accuracy: 0.9560 - val_loss: 0.1404 - val_accuracy: 0.9341\n",
      "Epoch 26/1000\n",
      "12/12 [==============================] - ETA: 0s - loss: 0.1596 - accuracy: 0.93 - 0s 5ms/step - loss: 0.1288 - accuracy: 0.9588 - val_loss: 0.1203 - val_accuracy: 0.9670\n",
      "Epoch 27/1000\n",
      "12/12 [==============================] - ETA: 0s - loss: 0.1570 - accuracy: 0.93 - 0s 5ms/step - loss: 0.1286 - accuracy: 0.9560 - val_loss: 0.1215 - val_accuracy: 0.9560\n",
      "Epoch 28/1000\n",
      "12/12 [==============================] - ETA: 0s - loss: 0.1252 - accuracy: 0.96 - 0s 5ms/step - loss: 0.1076 - accuracy: 0.9670 - val_loss: 0.1473 - val_accuracy: 0.9341\n",
      "Epoch 29/1000\n",
      "12/12 [==============================] - ETA: 0s - loss: 0.2603 - accuracy: 0.93 - 0s 5ms/step - loss: 0.1650 - accuracy: 0.9341 - val_loss: 0.1222 - val_accuracy: 0.9451\n",
      "Epoch 30/1000\n",
      "12/12 [==============================] - ETA: 0s - loss: 0.1892 - accuracy: 0.93 - 0s 5ms/step - loss: 0.1251 - accuracy: 0.9533 - val_loss: 0.1131 - val_accuracy: 0.9670\n",
      "Epoch 31/1000\n",
      "12/12 [==============================] - ETA: 0s - loss: 0.1258 - accuracy: 0.93 - 0s 5ms/step - loss: 0.1177 - accuracy: 0.9615 - val_loss: 0.1361 - val_accuracy: 0.9451\n",
      "Epoch 32/1000\n",
      "12/12 [==============================] - ETA: 0s - loss: 0.1955 - accuracy: 0.93 - 0s 5ms/step - loss: 0.1220 - accuracy: 0.9560 - val_loss: 0.1144 - val_accuracy: 0.9451\n",
      "Epoch 33/1000\n",
      "12/12 [==============================] - ETA: 0s - loss: 0.1880 - accuracy: 0.96 - 0s 5ms/step - loss: 0.1311 - accuracy: 0.9560 - val_loss: 0.1338 - val_accuracy: 0.9451\n",
      "Epoch 34/1000\n",
      "12/12 [==============================] - ETA: 0s - loss: 0.1633 - accuracy: 0.96 - 0s 5ms/step - loss: 0.1465 - accuracy: 0.9423 - val_loss: 0.1340 - val_accuracy: 0.9451\n",
      "Epoch 35/1000\n",
      "12/12 [==============================] - ETA: 0s - loss: 0.1434 - accuracy: 0.93 - 0s 5ms/step - loss: 0.1181 - accuracy: 0.9505 - val_loss: 0.0933 - val_accuracy: 0.9670\n",
      "Epoch 36/1000\n",
      "12/12 [==============================] - ETA: 0s - loss: 0.1312 - accuracy: 0.93 - 0s 5ms/step - loss: 0.1251 - accuracy: 0.9423 - val_loss: 0.1140 - val_accuracy: 0.9451\n",
      "Epoch 37/1000\n",
      "12/12 [==============================] - ETA: 0s - loss: 0.1302 - accuracy: 0.96 - 0s 5ms/step - loss: 0.1104 - accuracy: 0.9643 - val_loss: 0.1232 - val_accuracy: 0.9451\n",
      "Epoch 38/1000\n",
      "12/12 [==============================] - ETA: 0s - loss: 0.1359 - accuracy: 0.96 - 0s 5ms/step - loss: 0.1168 - accuracy: 0.9588 - val_loss: 0.0998 - val_accuracy: 0.9670\n",
      "Epoch 39/1000\n",
      "12/12 [==============================] - ETA: 0s - loss: 0.1077 - accuracy: 0.96 - 0s 5ms/step - loss: 0.1230 - accuracy: 0.9533 - val_loss: 0.0926 - val_accuracy: 0.9670\n",
      "Epoch 40/1000\n",
      "12/12 [==============================] - ETA: 0s - loss: 0.2004 - accuracy: 0.90 - 0s 5ms/step - loss: 0.1121 - accuracy: 0.9505 - val_loss: 0.0932 - val_accuracy: 0.9670\n",
      "Epoch 41/1000\n",
      "12/12 [==============================] - ETA: 0s - loss: 0.1087 - accuracy: 0.96 - 0s 5ms/step - loss: 0.1068 - accuracy: 0.9615 - val_loss: 0.0950 - val_accuracy: 0.9670\n",
      "Epoch 42/1000\n",
      "12/12 [==============================] - ETA: 0s - loss: 0.1029 - accuracy: 0.96 - 0s 6ms/step - loss: 0.1068 - accuracy: 0.9670 - val_loss: 0.1253 - val_accuracy: 0.9451\n",
      "Epoch 43/1000\n",
      "12/12 [==============================] - ETA: 0s - loss: 0.0909 - accuracy: 0.96 - 0s 5ms/step - loss: 0.1234 - accuracy: 0.9643 - val_loss: 0.1083 - val_accuracy: 0.9560\n",
      "Epoch 44/1000\n",
      "12/12 [==============================] - ETA: 0s - loss: 0.1785 - accuracy: 0.93 - 0s 5ms/step - loss: 0.1140 - accuracy: 0.9698 - val_loss: 0.0960 - val_accuracy: 0.9670\n",
      "Epoch 45/1000\n",
      "12/12 [==============================] - ETA: 0s - loss: 0.1733 - accuracy: 0.93 - 0s 5ms/step - loss: 0.1144 - accuracy: 0.9643 - val_loss: 0.1086 - val_accuracy: 0.9451\n",
      "Epoch 46/1000\n",
      "12/12 [==============================] - ETA: 0s - loss: 0.0847 - accuracy: 0.96 - 0s 6ms/step - loss: 0.0943 - accuracy: 0.9670 - val_loss: 0.1140 - val_accuracy: 0.9560\n",
      "Epoch 47/1000\n",
      "12/12 [==============================] - ETA: 0s - loss: 0.1526 - accuracy: 0.96 - 0s 5ms/step - loss: 0.1051 - accuracy: 0.9533 - val_loss: 0.1418 - val_accuracy: 0.9341\n",
      "Epoch 48/1000\n",
      "12/12 [==============================] - ETA: 0s - loss: 0.1088 - accuracy: 0.96 - 0s 5ms/step - loss: 0.1073 - accuracy: 0.9670 - val_loss: 0.1548 - val_accuracy: 0.9341\n",
      "Epoch 49/1000\n",
      "12/12 [==============================] - ETA: 0s - loss: 0.1476 - accuracy: 0.96 - 0s 5ms/step - loss: 0.1158 - accuracy: 0.9588 - val_loss: 0.1100 - val_accuracy: 0.9451\n"
     ]
    },
    {
     "data": {
      "text/html": [
       "<span style=\"color:#4527A0\"><h1 style=\"font-size:18px\">Trial complete</h1></span>"
      ],
      "text/plain": [
       "<IPython.core.display.HTML object>"
      ]
     },
     "metadata": {},
     "output_type": "display_data"
    },
    {
     "data": {
      "text/html": [
       "<span style=\"color:#4527A0\"><h1 style=\"font-size:18px\">Trial summary</h1></span>"
      ],
      "text/plain": [
       "<IPython.core.display.HTML object>"
      ]
     },
     "metadata": {},
     "output_type": "display_data"
    },
    {
     "data": {
      "text/html": [
       "<span style=\"color:cyan\"> |-Trial ID: 1183f286cf751e2acf52cfcd3e0984e8</span>"
      ],
      "text/plain": [
       "<IPython.core.display.HTML object>"
      ]
     },
     "metadata": {},
     "output_type": "display_data"
    },
    {
     "data": {
      "text/html": [
       "<span style=\"color:cyan\"> |-Score: 0.9670329689979553</span>"
      ],
      "text/plain": [
       "<IPython.core.display.HTML object>"
      ]
     },
     "metadata": {},
     "output_type": "display_data"
    },
    {
     "data": {
      "text/html": [
       "<span style=\"color:cyan\"> |-Best step: 0</span>"
      ],
      "text/plain": [
       "<IPython.core.display.HTML object>"
      ]
     },
     "metadata": {},
     "output_type": "display_data"
    },
    {
     "data": {
      "text/html": [
       "<span style=\"color:#7E57C2\"><h2 style=\"font-size:16px\">Hyperparameters:</h2></span>"
      ],
      "text/plain": [
       "<IPython.core.display.HTML object>"
      ]
     },
     "metadata": {},
     "output_type": "display_data"
    },
    {
     "data": {
      "text/html": [
       "<span style=\"color:cyan\"> |-classification_head_1/dropout_rate: 0</span>"
      ],
      "text/plain": [
       "<IPython.core.display.HTML object>"
      ]
     },
     "metadata": {},
     "output_type": "display_data"
    },
    {
     "data": {
      "text/html": [
       "<span style=\"color:blue\"> |-optimizer: adam</span>"
      ],
      "text/plain": [
       "<IPython.core.display.HTML object>"
      ]
     },
     "metadata": {},
     "output_type": "display_data"
    },
    {
     "data": {
      "text/html": [
       "<span style=\"color:cyan\"> |-structured_data_block_1/dense_block_1/dropout_rate: 0.25</span>"
      ],
      "text/plain": [
       "<IPython.core.display.HTML object>"
      ]
     },
     "metadata": {},
     "output_type": "display_data"
    },
    {
     "data": {
      "text/html": [
       "<span style=\"color:blue\"> |-structured_data_block_1/dense_block_1/num_layers: 3</span>"
      ],
      "text/plain": [
       "<IPython.core.display.HTML object>"
      ]
     },
     "metadata": {},
     "output_type": "display_data"
    },
    {
     "data": {
      "text/html": [
       "<span style=\"color:cyan\"> |-structured_data_block_1/dense_block_1/units_0: 64</span>"
      ],
      "text/plain": [
       "<IPython.core.display.HTML object>"
      ]
     },
     "metadata": {},
     "output_type": "display_data"
    },
    {
     "data": {
      "text/html": [
       "<span style=\"color:blue\"> |-structured_data_block_1/dense_block_1/units_1: 64</span>"
      ],
      "text/plain": [
       "<IPython.core.display.HTML object>"
      ]
     },
     "metadata": {},
     "output_type": "display_data"
    },
    {
     "data": {
      "text/html": [
       "<span style=\"color:cyan\"> |-structured_data_block_1/dense_block_1/units_2: 32</span>"
      ],
      "text/plain": [
       "<IPython.core.display.HTML object>"
      ]
     },
     "metadata": {},
     "output_type": "display_data"
    },
    {
     "data": {
      "text/html": [
       "<span style=\"color:blue\"> |-structured_data_block_1/dense_block_1/use_batchnorm: True</span>"
      ],
      "text/plain": [
       "<IPython.core.display.HTML object>"
      ]
     },
     "metadata": {},
     "output_type": "display_data"
    },
    {
     "data": {
      "text/html": [
       "<span style=\"color:cyan\"> |-structured_data_block_1/dense_block_2/dropout_rate: 0.0</span>"
      ],
      "text/plain": [
       "<IPython.core.display.HTML object>"
      ]
     },
     "metadata": {},
     "output_type": "display_data"
    },
    {
     "data": {
      "text/html": [
       "<span style=\"color:blue\"> |-structured_data_block_1/dense_block_2/num_layers: 1</span>"
      ],
      "text/plain": [
       "<IPython.core.display.HTML object>"
      ]
     },
     "metadata": {},
     "output_type": "display_data"
    },
    {
     "data": {
      "text/html": [
       "<span style=\"color:cyan\"> |-structured_data_block_1/dense_block_2/units_0: 256</span>"
      ],
      "text/plain": [
       "<IPython.core.display.HTML object>"
      ]
     },
     "metadata": {},
     "output_type": "display_data"
    },
    {
     "data": {
      "text/html": [
       "<span style=\"color:blue\"> |-structured_data_block_1/dense_block_2/units_1: 128</span>"
      ],
      "text/plain": [
       "<IPython.core.display.HTML object>"
      ]
     },
     "metadata": {},
     "output_type": "display_data"
    },
    {
     "data": {
      "text/html": [
       "<span style=\"color:cyan\"> |-structured_data_block_1/dense_block_2/units_2: 512</span>"
      ],
      "text/plain": [
       "<IPython.core.display.HTML object>"
      ]
     },
     "metadata": {},
     "output_type": "display_data"
    },
    {
     "data": {
      "text/html": [
       "<span style=\"color:blue\"> |-structured_data_block_1/dense_block_2/use_batchnorm: False</span>"
      ],
      "text/plain": [
       "<IPython.core.display.HTML object>"
      ]
     },
     "metadata": {},
     "output_type": "display_data"
    },
    {
     "name": "stdout",
     "output_type": "stream",
     "text": [
      "INFO:tensorflow:Oracle triggered exit\n",
      "Train for 15 steps, validate for 3 steps\n",
      "Epoch 1/1000\n",
      "15/15 [==============================] - ETA: 16s - loss: 0.7412 - accuracy: 0.500 - ETA: 0s - loss: 0.4707 - accuracy: 0.785 - 2s 102ms/step - loss: 0.4435 - accuracy: 0.8088 - val_loss: 5.4618 - val_accuracy: 0.4176\n",
      "Epoch 2/1000\n",
      "15/15 [==============================] - ETA: 0s - loss: 0.4131 - accuracy: 0.84 - ETA: 0s - loss: 0.3161 - accuracy: 0.89 - 0s 7ms/step - loss: 0.3076 - accuracy: 0.9011 - val_loss: 3.0701 - val_accuracy: 0.4176\n",
      "Epoch 3/1000\n",
      "15/15 [==============================] - ETA: 0s - loss: 0.3281 - accuracy: 0.90 - ETA: 0s - loss: 0.2679 - accuracy: 0.92 - 0s 7ms/step - loss: 0.2596 - accuracy: 0.9297 - val_loss: 1.7006 - val_accuracy: 0.4396\n",
      "Epoch 4/1000\n",
      "15/15 [==============================] - ETA: 0s - loss: 0.3069 - accuracy: 0.87 - ETA: 0s - loss: 0.2267 - accuracy: 0.91 - 0s 7ms/step - loss: 0.2205 - accuracy: 0.9231 - val_loss: 1.0855 - val_accuracy: 0.5604\n",
      "Epoch 5/1000\n",
      "15/15 [==============================] - ETA: 0s - loss: 0.2241 - accuracy: 0.93 - ETA: 0s - loss: 0.2123 - accuracy: 0.93 - 0s 7ms/step - loss: 0.2022 - accuracy: 0.9385 - val_loss: 0.7778 - val_accuracy: 0.6374\n",
      "Epoch 6/1000\n",
      "15/15 [==============================] - ETA: 0s - loss: 0.2380 - accuracy: 0.87 - ETA: 0s - loss: 0.2065 - accuracy: 0.92 - 0s 7ms/step - loss: 0.1993 - accuracy: 0.9297 - val_loss: 0.6629 - val_accuracy: 0.6593\n",
      "Epoch 7/1000\n",
      "15/15 [==============================] - ETA: 0s - loss: 0.1999 - accuracy: 0.90 - ETA: 0s - loss: 0.1907 - accuracy: 0.93 - 0s 7ms/step - loss: 0.1866 - accuracy: 0.9407 - val_loss: 0.5089 - val_accuracy: 0.6923\n",
      "Epoch 8/1000\n",
      "15/15 [==============================] - ETA: 0s - loss: 0.1884 - accuracy: 0.93 - ETA: 0s - loss: 0.1733 - accuracy: 0.93 - 0s 7ms/step - loss: 0.1720 - accuracy: 0.9429 - val_loss: 0.5203 - val_accuracy: 0.6813\n",
      "Epoch 9/1000\n",
      "15/15 [==============================] - ETA: 0s - loss: 0.2587 - accuracy: 0.90 - ETA: 0s - loss: 0.1747 - accuracy: 0.94 - 0s 7ms/step - loss: 0.1711 - accuracy: 0.9429 - val_loss: 0.5886 - val_accuracy: 0.6813\n",
      "Epoch 10/1000\n",
      "15/15 [==============================] - ETA: 0s - loss: 0.1671 - accuracy: 0.93 - ETA: 0s - loss: 0.1586 - accuracy: 0.94 - 0s 7ms/step - loss: 0.1546 - accuracy: 0.9473 - val_loss: 0.3843 - val_accuracy: 0.7692\n",
      "Epoch 11/1000\n",
      "15/15 [==============================] - ETA: 0s - loss: 0.2159 - accuracy: 0.93 - ETA: 0s - loss: 0.1633 - accuracy: 0.94 - 0s 7ms/step - loss: 0.1573 - accuracy: 0.9451 - val_loss: 0.4372 - val_accuracy: 0.7692\n",
      "Epoch 12/1000\n",
      "15/15 [==============================] - ETA: 0s - loss: 0.2270 - accuracy: 0.90 - ETA: 0s - loss: 0.1428 - accuracy: 0.95 - 0s 7ms/step - loss: 0.1409 - accuracy: 0.9495 - val_loss: 0.2377 - val_accuracy: 0.8901\n",
      "Epoch 13/1000\n",
      "15/15 [==============================] - ETA: 0s - loss: 0.1822 - accuracy: 0.90 - ETA: 0s - loss: 0.1462 - accuracy: 0.94 - 0s 7ms/step - loss: 0.1427 - accuracy: 0.9516 - val_loss: 0.2286 - val_accuracy: 0.8901\n",
      "Epoch 14/1000\n",
      "15/15 [==============================] - ETA: 0s - loss: 0.2030 - accuracy: 0.96 - ETA: 0s - loss: 0.1499 - accuracy: 0.94 - 0s 7ms/step - loss: 0.1421 - accuracy: 0.9451 - val_loss: 0.2739 - val_accuracy: 0.8462\n",
      "Epoch 15/1000\n",
      "15/15 [==============================] - ETA: 0s - loss: 0.2294 - accuracy: 0.93 - ETA: 0s - loss: 0.1402 - accuracy: 0.96 - 0s 7ms/step - loss: 0.1369 - accuracy: 0.9582 - val_loss: 0.2653 - val_accuracy: 0.8791\n",
      "Epoch 16/1000\n",
      "15/15 [==============================] - ETA: 0s - loss: 0.1510 - accuracy: 0.93 - ETA: 0s - loss: 0.1377 - accuracy: 0.95 - 0s 7ms/step - loss: 0.1328 - accuracy: 0.9538 - val_loss: 0.2387 - val_accuracy: 0.8901\n",
      "Epoch 17/1000\n",
      "15/15 [==============================] - ETA: 0s - loss: 0.1342 - accuracy: 0.93 - ETA: 0s - loss: 0.1340 - accuracy: 0.94 - 0s 7ms/step - loss: 0.1331 - accuracy: 0.9495 - val_loss: 0.2794 - val_accuracy: 0.8571\n",
      "Epoch 18/1000\n",
      "15/15 [==============================] - ETA: 0s - loss: 0.1261 - accuracy: 0.96 - ETA: 0s - loss: 0.1385 - accuracy: 0.95 - 0s 7ms/step - loss: 0.1389 - accuracy: 0.9604 - val_loss: 0.2117 - val_accuracy: 0.9121\n",
      "Epoch 19/1000\n",
      "15/15 [==============================] - ETA: 0s - loss: 0.1480 - accuracy: 0.96 - ETA: 0s - loss: 0.1247 - accuracy: 0.96 - 0s 7ms/step - loss: 0.1254 - accuracy: 0.9626 - val_loss: 0.1708 - val_accuracy: 0.9341\n",
      "Epoch 20/1000\n",
      "15/15 [==============================] - ETA: 0s - loss: 0.1787 - accuracy: 0.93 - ETA: 0s - loss: 0.1106 - accuracy: 0.95 - 0s 7ms/step - loss: 0.1065 - accuracy: 0.9604 - val_loss: 0.1610 - val_accuracy: 0.9341\n",
      "Epoch 21/1000\n",
      "15/15 [==============================] - ETA: 0s - loss: 0.1560 - accuracy: 0.96 - ETA: 0s - loss: 0.1119 - accuracy: 0.95 - 0s 7ms/step - loss: 0.1145 - accuracy: 0.9604 - val_loss: 0.1665 - val_accuracy: 0.9451\n",
      "Epoch 22/1000\n",
      "15/15 [==============================] - ETA: 0s - loss: 0.1424 - accuracy: 0.93 - ETA: 0s - loss: 0.1151 - accuracy: 0.95 - 0s 7ms/step - loss: 0.1179 - accuracy: 0.9582 - val_loss: 0.1194 - val_accuracy: 0.9670\n",
      "Epoch 23/1000\n",
      "15/15 [==============================] - ETA: 0s - loss: 0.1482 - accuracy: 0.96 - ETA: 0s - loss: 0.1431 - accuracy: 0.95 - 0s 7ms/step - loss: 0.1321 - accuracy: 0.9560 - val_loss: 0.0943 - val_accuracy: 0.9670\n",
      "Epoch 24/1000\n",
      "15/15 [==============================] - ETA: 0s - loss: 0.1560 - accuracy: 0.96 - ETA: 0s - loss: 0.1173 - accuracy: 0.96 - 0s 7ms/step - loss: 0.1088 - accuracy: 0.9692 - val_loss: 0.0890 - val_accuracy: 0.9670\n",
      "Epoch 25/1000\n",
      "15/15 [==============================] - ETA: 0s - loss: 0.1687 - accuracy: 0.93 - ETA: 0s - loss: 0.1292 - accuracy: 0.95 - 0s 7ms/step - loss: 0.1196 - accuracy: 0.9560 - val_loss: 0.1095 - val_accuracy: 0.9451\n",
      "Epoch 26/1000\n",
      "15/15 [==============================] - ETA: 0s - loss: 0.1342 - accuracy: 0.96 - ETA: 0s - loss: 0.1026 - accuracy: 0.96 - 0s 7ms/step - loss: 0.1078 - accuracy: 0.9582 - val_loss: 0.1634 - val_accuracy: 0.9451\n",
      "Epoch 27/1000\n",
      "15/15 [==============================] - ETA: 0s - loss: 0.1664 - accuracy: 0.93 - ETA: 0s - loss: 0.1092 - accuracy: 0.96 - 0s 7ms/step - loss: 0.1072 - accuracy: 0.9670 - val_loss: 0.1043 - val_accuracy: 0.9560\n",
      "Epoch 28/1000\n",
      "15/15 [==============================] - ETA: 0s - loss: 0.1587 - accuracy: 0.96 - ETA: 0s - loss: 0.1170 - accuracy: 0.96 - 0s 7ms/step - loss: 0.1080 - accuracy: 0.9626 - val_loss: 0.0850 - val_accuracy: 0.9670\n",
      "Epoch 29/1000\n",
      "15/15 [==============================] - ETA: 0s - loss: 0.1239 - accuracy: 0.96 - ETA: 0s - loss: 0.1121 - accuracy: 0.96 - 0s 7ms/step - loss: 0.1121 - accuracy: 0.9626 - val_loss: 0.1702 - val_accuracy: 0.9451\n",
      "Epoch 30/1000\n",
      "15/15 [==============================] - ETA: 0s - loss: 0.1508 - accuracy: 0.93 - ETA: 0s - loss: 0.1001 - accuracy: 0.96 - 0s 7ms/step - loss: 0.0971 - accuracy: 0.9626 - val_loss: 0.1350 - val_accuracy: 0.9341\n",
      "Epoch 31/1000\n",
      "15/15 [==============================] - ETA: 0s - loss: 0.1599 - accuracy: 0.96 - ETA: 0s - loss: 0.1157 - accuracy: 0.96 - 0s 7ms/step - loss: 0.1114 - accuracy: 0.9648 - val_loss: 0.1118 - val_accuracy: 0.9560\n",
      "Epoch 32/1000\n",
      "15/15 [==============================] - ETA: 0s - loss: 0.1546 - accuracy: 0.96 - ETA: 0s - loss: 0.1190 - accuracy: 0.95 - 0s 7ms/step - loss: 0.1080 - accuracy: 0.9626 - val_loss: 0.1416 - val_accuracy: 0.9451\n",
      "Epoch 33/1000\n",
      "15/15 [==============================] - ETA: 0s - loss: 0.1777 - accuracy: 0.93 - ETA: 0s - loss: 0.1030 - accuracy: 0.96 - 0s 7ms/step - loss: 0.1017 - accuracy: 0.9626 - val_loss: 0.1163 - val_accuracy: 0.9560\n",
      "Epoch 34/1000\n",
      "15/15 [==============================] - ETA: 0s - loss: 0.1283 - accuracy: 0.96 - ETA: 0s - loss: 0.1071 - accuracy: 0.96 - 0s 7ms/step - loss: 0.1003 - accuracy: 0.9670 - val_loss: 0.1346 - val_accuracy: 0.9560\n",
      "Epoch 35/1000\n",
      "15/15 [==============================] - ETA: 0s - loss: 0.0704 - accuracy: 1.00 - ETA: 0s - loss: 0.0943 - accuracy: 0.96 - 0s 7ms/step - loss: 0.0978 - accuracy: 0.9670 - val_loss: 0.1568 - val_accuracy: 0.9451\n",
      "Epoch 36/1000\n",
      "15/15 [==============================] - ETA: 0s - loss: 0.1919 - accuracy: 0.93 - ETA: 0s - loss: 0.0968 - accuracy: 0.96 - 0s 7ms/step - loss: 0.0990 - accuracy: 0.9648 - val_loss: 0.1120 - val_accuracy: 0.9560\n",
      "Epoch 37/1000\n",
      "15/15 [==============================] - ETA: 0s - loss: 0.1179 - accuracy: 0.96 - ETA: 0s - loss: 0.1063 - accuracy: 0.95 - 0s 7ms/step - loss: 0.1002 - accuracy: 0.9560 - val_loss: 0.1135 - val_accuracy: 0.9451\n",
      "Epoch 38/1000\n",
      "15/15 [==============================] - ETA: 0s - loss: 0.1583 - accuracy: 0.93 - ETA: 0s - loss: 0.0942 - accuracy: 0.97 - 0s 6ms/step - loss: 0.0918 - accuracy: 0.9736 - val_loss: 0.0782 - val_accuracy: 0.9780\n",
      "Epoch 39/1000\n",
      "15/15 [==============================] - ETA: 0s - loss: 0.1795 - accuracy: 0.93 - ETA: 0s - loss: 0.0971 - accuracy: 0.96 - 0s 7ms/step - loss: 0.1008 - accuracy: 0.9626 - val_loss: 0.1745 - val_accuracy: 0.9451\n",
      "Epoch 40/1000\n",
      "15/15 [==============================] - ETA: 0s - loss: 0.1447 - accuracy: 0.96 - ETA: 0s - loss: 0.0871 - accuracy: 0.97 - 0s 7ms/step - loss: 0.0796 - accuracy: 0.9758 - val_loss: 0.1062 - val_accuracy: 0.9560\n",
      "Epoch 41/1000\n",
      "15/15 [==============================] - ETA: 0s - loss: 0.1197 - accuracy: 0.93 - ETA: 0s - loss: 0.0885 - accuracy: 0.96 - 0s 7ms/step - loss: 0.0897 - accuracy: 0.9670 - val_loss: 0.0774 - val_accuracy: 0.9780\n",
      "Epoch 42/1000\n",
      "15/15 [==============================] - ETA: 0s - loss: 0.1276 - accuracy: 0.96 - ETA: 0s - loss: 0.0851 - accuracy: 0.97 - 0s 7ms/step - loss: 0.0898 - accuracy: 0.9692 - val_loss: 0.0791 - val_accuracy: 0.9780\n",
      "Epoch 43/1000\n",
      "15/15 [==============================] - ETA: 0s - loss: 0.0965 - accuracy: 0.96 - ETA: 0s - loss: 0.0988 - accuracy: 0.96 - 0s 7ms/step - loss: 0.0939 - accuracy: 0.9604 - val_loss: 0.0780 - val_accuracy: 0.9780\n",
      "Epoch 44/1000\n",
      "15/15 [==============================] - ETA: 0s - loss: 0.1843 - accuracy: 0.93 - ETA: 0s - loss: 0.1012 - accuracy: 0.96 - 0s 7ms/step - loss: 0.0943 - accuracy: 0.9714 - val_loss: 0.0848 - val_accuracy: 0.9670\n",
      "Epoch 45/1000\n",
      "15/15 [==============================] - ETA: 0s - loss: 0.1967 - accuracy: 0.93 - ETA: 0s - loss: 0.1141 - accuracy: 0.96 - 0s 7ms/step - loss: 0.1032 - accuracy: 0.9648 - val_loss: 0.1047 - val_accuracy: 0.9560\n",
      "Epoch 46/1000\n",
      "15/15 [==============================] - ETA: 0s - loss: 0.1256 - accuracy: 0.93 - ETA: 0s - loss: 0.0891 - accuracy: 0.96 - 0s 7ms/step - loss: 0.0929 - accuracy: 0.9692 - val_loss: 0.1207 - val_accuracy: 0.9670\n",
      "Epoch 47/1000\n",
      "15/15 [==============================] - ETA: 0s - loss: 0.1508 - accuracy: 0.96 - ETA: 0s - loss: 0.0871 - accuracy: 0.97 - 0s 7ms/step - loss: 0.0828 - accuracy: 0.9780 - val_loss: 0.0900 - val_accuracy: 0.9780\n",
      "Epoch 48/1000\n",
      "15/15 [==============================] - ETA: 0s - loss: 0.0969 - accuracy: 0.96 - ETA: 0s - loss: 0.0970 - accuracy: 0.96 - 0s 7ms/step - loss: 0.0921 - accuracy: 0.9648 - val_loss: 0.1768 - val_accuracy: 0.9451\n",
      "Epoch 49/1000\n",
      "15/15 [==============================] - ETA: 0s - loss: 0.2457 - accuracy: 0.90 - ETA: 0s - loss: 0.0845 - accuracy: 0.96 - 0s 7ms/step - loss: 0.0846 - accuracy: 0.9670 - val_loss: 0.2127 - val_accuracy: 0.9341\n",
      "Epoch 50/1000\n",
      "15/15 [==============================] - ETA: 0s - loss: 0.1713 - accuracy: 0.96 - ETA: 0s - loss: 0.1011 - accuracy: 0.97 - 0s 7ms/step - loss: 0.0932 - accuracy: 0.9736 - val_loss: 0.1396 - val_accuracy: 0.9451\n",
      "Epoch 51/1000\n",
      "15/15 [==============================] - ETA: 0s - loss: 0.1126 - accuracy: 0.96 - ETA: 0s - loss: 0.0745 - accuracy: 0.97 - 0s 7ms/step - loss: 0.0798 - accuracy: 0.9758 - val_loss: 0.1088 - val_accuracy: 0.9560\n"
     ]
    }
   ],
   "source": [
    "# Initialize the structured data classifier.\n",
    "clf = ak.StructuredDataClassifier(max_trials=10) # It tries 10 different models.\n",
    "\n",
    "clf.fit(X_train, y_train)\n"
   ]
  },
  {
   "cell_type": "code",
   "execution_count": 9,
   "metadata": {},
   "outputs": [
    {
     "name": "stdout",
     "output_type": "stream",
     "text": [
      "4/4 [==============================] - ETA: 0s - loss: 0.3149 - accuracy: 0.90 - 0s 63ms/step - loss: 0.2213 - accuracy: 0.9386\n",
      "[0.22128284350037575, 0.9385965]\n"
     ]
    }
   ],
   "source": [
    "print(clf.evaluate(X_val, y_val))"
   ]
  },
  {
   "cell_type": "code",
   "execution_count": 10,
   "metadata": {},
   "outputs": [
    {
     "name": "stdout",
     "output_type": "stream",
     "text": [
      "WARNING:tensorflow:Unresolved object in checkpoint: (root).optimizer.iter\n",
      "WARNING:tensorflow:Unresolved object in checkpoint: (root).optimizer.beta_1\n",
      "WARNING:tensorflow:Unresolved object in checkpoint: (root).optimizer.beta_2\n",
      "WARNING:tensorflow:Unresolved object in checkpoint: (root).optimizer.decay\n",
      "WARNING:tensorflow:Unresolved object in checkpoint: (root).optimizer.learning_rate\n",
      "WARNING:tensorflow:A checkpoint was restored (e.g. tf.train.Checkpoint.restore or tf.keras.Model.load_weights) but not all checkpointed values were used. See above for specific issues. Use expect_partial() on the load status object, e.g. tf.train.Checkpoint.restore(...).expect_partial(), to silence these warnings, or use assert_consumed() to make the check explicit. See https://www.tensorflow.org/guide/checkpoint#loading_mechanics for details.\n",
      "WARNING:tensorflow:Unresolved object in checkpoint: (root).optimizer.iter\n",
      "WARNING:tensorflow:Unresolved object in checkpoint: (root).optimizer.beta_1\n",
      "WARNING:tensorflow:Unresolved object in checkpoint: (root).optimizer.beta_2\n",
      "WARNING:tensorflow:Unresolved object in checkpoint: (root).optimizer.decay\n",
      "WARNING:tensorflow:Unresolved object in checkpoint: (root).optimizer.learning_rate\n",
      "WARNING:tensorflow:A checkpoint was restored (e.g. tf.train.Checkpoint.restore or tf.keras.Model.load_weights) but not all checkpointed values were used. See above for specific issues. Use expect_partial() on the load status object, e.g. tf.train.Checkpoint.restore(...).expect_partial(), to silence these warnings, or use assert_consumed() to make the check explicit. See https://www.tensorflow.org/guide/checkpoint#loading_mechanics for details.\n"
     ]
    }
   ],
   "source": [
    "# Export as a Keras Model.\n",
    "model = clf.export_model()"
   ]
  },
  {
   "cell_type": "code",
   "execution_count": 13,
   "metadata": {},
   "outputs": [
    {
     "name": "stdout",
     "output_type": "stream",
     "text": [
      "Model: \"model\"\n",
      "_________________________________________________________________\n",
      "Layer (type)                 Output Shape              Param #   \n",
      "=================================================================\n",
      "input_1 (InputLayer)         [(None, 30)]              0         \n",
      "_________________________________________________________________\n",
      "categorical_encoding (Catego (None, 30)                0         \n",
      "_________________________________________________________________\n",
      "dense (Dense)                (None, 1024)              31744     \n",
      "_________________________________________________________________\n",
      "batch_normalization (BatchNo (None, 1024)              4096      \n",
      "_________________________________________________________________\n",
      "re_lu (ReLU)                 (None, 1024)              0         \n",
      "_________________________________________________________________\n",
      "dropout (Dropout)            (None, 1024)              0         \n",
      "_________________________________________________________________\n",
      "dense_1 (Dense)              (None, 32)                32800     \n",
      "_________________________________________________________________\n",
      "batch_normalization_1 (Batch (None, 32)                128       \n",
      "_________________________________________________________________\n",
      "re_lu_1 (ReLU)               (None, 32)                0         \n",
      "_________________________________________________________________\n",
      "dropout_1 (Dropout)          (None, 32)                0         \n",
      "_________________________________________________________________\n",
      "dense_2 (Dense)              (None, 32)                1056      \n",
      "_________________________________________________________________\n",
      "batch_normalization_2 (Batch (None, 32)                128       \n",
      "_________________________________________________________________\n",
      "re_lu_2 (ReLU)               (None, 32)                0         \n",
      "_________________________________________________________________\n",
      "dropout_2 (Dropout)          (None, 32)                0         \n",
      "_________________________________________________________________\n",
      "dense_3 (Dense)              (None, 1)                 33        \n",
      "_________________________________________________________________\n",
      "classification_head_1 (Sigmo (None, 1)                 0         \n",
      "=================================================================\n",
      "Total params: 69,985\n",
      "Trainable params: 67,809\n",
      "Non-trainable params: 2,176\n",
      "_________________________________________________________________\n",
      "None\n"
     ]
    }
   ],
   "source": [
    "print(model.summary())"
   ]
  },
  {
   "cell_type": "code",
   "execution_count": null,
   "metadata": {},
   "outputs": [],
   "source": []
  }
 ],
 "metadata": {
  "celltoolbar": "Tags",
  "kernelspec": {
   "display_name": "conda_python3",
   "language": "python",
   "name": "conda_python3"
  },
  "language_info": {
   "codemirror_mode": {
    "name": "ipython",
    "version": 3
   },
   "file_extension": ".py",
   "mimetype": "text/x-python",
   "name": "python",
   "nbconvert_exporter": "python",
   "pygments_lexer": "ipython3",
   "version": "3.6.5"
  },
  "notice": "Copyright 2017 Amazon.com, Inc. or its affiliates. All Rights Reserved.  Licensed under the Apache License, Version 2.0 (the License). You may not use this file except in compliance with the License. A copy of the License is located at http://aws.amazon.com/apache2.0/ or in the license file accompanying this file. This file is distributed on an AS IS BASIS, WITHOUT WARRANTIES OR CONDITIONS OF ANY KIND, either express or implied. See the License for the specific language governing permissions and limitations under the License."
 },
 "nbformat": 4,
 "nbformat_minor": 4
}
